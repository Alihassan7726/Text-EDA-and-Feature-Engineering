{
 "cells": [
  {
   "cell_type": "code",
   "execution_count": 3,
   "metadata": {},
   "outputs": [],
   "source": [
    "import pandas as pd\n",
    "import numpy as np\n",
    "import spacy\n",
    "pd.set_option('display.width',1000)\n",
    "pd.set_option('max_colwidth', 1000) \n",
    "nlp = spacy.load('en_core_web_sm')\n",
    "import nltk\n",
    "from nltk.corpus import stopwords\n",
    "stpwrds = set(stopwords.words('english'))\n",
    "stpwrds.discard('not')\n",
    "stpwrds.discard('no')"
   ]
  },
  {
   "cell_type": "code",
   "execution_count": 3,
   "metadata": {},
   "outputs": [
    {
     "name": "stdout",
     "output_type": "stream",
     "text": [
      "C:\\BEPEC Python Material\n"
     ]
    }
   ],
   "source": [
    "%cd \"BEPEC Python Material\\\""
   ]
  },
  {
   "cell_type": "code",
   "execution_count": 4,
   "metadata": {},
   "outputs": [
    {
     "data": {
      "text/html": [
       "<div>\n",
       "<style scoped>\n",
       "    .dataframe tbody tr th:only-of-type {\n",
       "        vertical-align: middle;\n",
       "    }\n",
       "\n",
       "    .dataframe tbody tr th {\n",
       "        vertical-align: top;\n",
       "    }\n",
       "\n",
       "    .dataframe thead th {\n",
       "        text-align: right;\n",
       "    }\n",
       "</style>\n",
       "<table border=\"1\" class=\"dataframe\">\n",
       "  <thead>\n",
       "    <tr style=\"text-align: right;\">\n",
       "      <th></th>\n",
       "      <th>publish_date</th>\n",
       "      <th>headline_text</th>\n",
       "    </tr>\n",
       "  </thead>\n",
       "  <tbody>\n",
       "    <tr>\n",
       "      <th>0</th>\n",
       "      <td>20030219</td>\n",
       "      <td>aba decides against community broadcasting licence</td>\n",
       "    </tr>\n",
       "    <tr>\n",
       "      <th>1</th>\n",
       "      <td>20030219</td>\n",
       "      <td>act fire witnesses must be aware of defamation</td>\n",
       "    </tr>\n",
       "    <tr>\n",
       "      <th>2</th>\n",
       "      <td>20030219</td>\n",
       "      <td>a g calls for infrastructure protection summit</td>\n",
       "    </tr>\n",
       "    <tr>\n",
       "      <th>3</th>\n",
       "      <td>20030219</td>\n",
       "      <td>air nz staff in aust strike for pay rise</td>\n",
       "    </tr>\n",
       "    <tr>\n",
       "      <th>4</th>\n",
       "      <td>20030219</td>\n",
       "      <td>air nz strike to affect australian travellers</td>\n",
       "    </tr>\n",
       "  </tbody>\n",
       "</table>\n",
       "</div>"
      ],
      "text/plain": [
       "   publish_date                                       headline_text\n",
       "0      20030219  aba decides against community broadcasting licence\n",
       "1      20030219      act fire witnesses must be aware of defamation\n",
       "2      20030219      a g calls for infrastructure protection summit\n",
       "3      20030219            air nz staff in aust strike for pay rise\n",
       "4      20030219       air nz strike to affect australian travellers"
      ]
     },
     "execution_count": 4,
     "metadata": {},
     "output_type": "execute_result"
    }
   ],
   "source": [
    "df = pd.read_csv('abcnews-date-text.csv' , nrows=10000)\n",
    "df.head()"
   ]
  },
  {
   "cell_type": "markdown",
   "metadata": {},
   "source": [
    "## Basic Statistics"
   ]
  },
  {
   "cell_type": "code",
   "execution_count": 6,
   "metadata": {},
   "outputs": [
    {
     "data": {
      "text/plain": [
       "<AxesSubplot:>"
      ]
     },
     "execution_count": 6,
     "metadata": {},
     "output_type": "execute_result"
    },
    {
     "data": {
      "image/png": "[encoded data removed]",
      "text/plain": [
       "<Figure size 432x288 with 1 Axes>"
      ]
     },
     "metadata": {
      "needs_background": "light"
     },
     "output_type": "display_data"
    }
   ],
   "source": [
    "## Review length\n",
    "df['headline_text'].apply(lambda x : len(x)).hist()"
   ]
  },
  {
   "cell_type": "code",
   "execution_count": 7,
   "metadata": {},
   "outputs": [
    {
     "data": {
      "text/plain": [
       "<AxesSubplot:>"
      ]
     },
     "execution_count": 7,
     "metadata": {},
     "output_type": "execute_result"
    },
    {
     "data": {
      "image/png": "[encoded data removed]",
      "text/plain": [
       "<Figure size 432x288 with 1 Axes>"
      ]
     },
     "metadata": {
      "needs_background": "light"
     },
     "output_type": "display_data"
    }
   ],
   "source": [
    "## word lenght\n",
    "df['headline_text'].apply(lambda x : x.split()).apply(len).hist()"
   ]
  },
  {
   "cell_type": "code",
   "execution_count": 8,
   "metadata": {
    "scrolled": true
   },
   "outputs": [
    {
     "data": {
      "text/plain": [
       "<AxesSubplot:>"
      ]
     },
     "execution_count": 8,
     "metadata": {},
     "output_type": "execute_result"
    },
    {
     "data": {
      "image/png": "[encoded data removed]",
      "text/plain": [
       "<Figure size 432x288 with 1 Axes>"
      ]
     },
     "metadata": {
      "needs_background": "light"
     },
     "output_type": "display_data"
    }
   ],
   "source": [
    "## Average word lenght\n",
    "df['headline_text'].str.split().apply(lambda x:[len(i) for i in x]).apply(lambda x:np.mean(x)).hist()"
   ]
  },
  {
   "cell_type": "markdown",
   "metadata": {},
   "source": [
    "1. Above the info is right skewed and showing small words may be bcz of stop words so we'll see first the top stop words."
   ]
  },
  {
   "cell_type": "code",
   "execution_count": 9,
   "metadata": {},
   "outputs": [
    {
     "data": {
      "text/plain": [
       "defaultdict(int,\n",
       "            {'against': 134,\n",
       "             'be': 213,\n",
       "             'of': 727,\n",
       "             'a': 126,\n",
       "             'for': 1295,\n",
       "             'in': 1450,\n",
       "             'to': 2365,\n",
       "             'with': 303,\n",
       "             'over': 537,\n",
       "             'is': 55,\n",
       "             'into': 150,\n",
       "             'as': 199,\n",
       "             'should': 23,\n",
       "             'out': 193,\n",
       "             'on': 711,\n",
       "             'up': 212,\n",
       "             'will': 87,\n",
       "             'at': 260,\n",
       "             're': 13,\n",
       "             'about': 46,\n",
       "             'under': 79,\n",
       "             'where': 3,\n",
       "             'she': 2,\n",
       "             'from': 162,\n",
       "             'after': 316,\n",
       "             'and': 121,\n",
       "             'own': 7,\n",
       "             'more': 187,\n",
       "             'than': 31,\n",
       "             'most': 11,\n",
       "             'down': 111,\n",
       "             'all': 40,\n",
       "             'your': 3,\n",
       "             'that': 4,\n",
       "             'the': 210,\n",
       "             'above': 3,\n",
       "             'again': 27,\n",
       "             'if': 18,\n",
       "             'have': 50,\n",
       "             'himself': 6,\n",
       "             'by': 140,\n",
       "             'it': 31,\n",
       "             'd': 3,\n",
       "             'being': 21,\n",
       "             'until': 6,\n",
       "             'before': 13,\n",
       "             'any': 6,\n",
       "             'who': 13,\n",
       "             'are': 9,\n",
       "             'an': 12,\n",
       "             'between': 7,\n",
       "             'were': 6,\n",
       "             'off': 115,\n",
       "             'too': 31,\n",
       "             'its': 11,\n",
       "             'he': 8,\n",
       "             'other': 7,\n",
       "             'but': 33,\n",
       "             'so': 4,\n",
       "             'his': 15,\n",
       "             'has': 33,\n",
       "             'through': 52,\n",
       "             'while': 4,\n",
       "             'now': 10,\n",
       "             's': 15,\n",
       "             'during': 12,\n",
       "             'or': 8,\n",
       "             'you': 3,\n",
       "             'once': 2,\n",
       "             'can': 20,\n",
       "             'their': 13,\n",
       "             'does': 2,\n",
       "             'this': 9,\n",
       "             'why': 1,\n",
       "             'some': 14,\n",
       "             'we': 6,\n",
       "             'i': 7,\n",
       "             'me': 2,\n",
       "             'was': 10,\n",
       "             'below': 1,\n",
       "             'further': 8,\n",
       "             'do': 6,\n",
       "             'only': 15,\n",
       "             'those': 3,\n",
       "             'don': 2,\n",
       "             'both': 1,\n",
       "             'haven': 1,\n",
       "             'doing': 1,\n",
       "             'which': 1,\n",
       "             'same': 5,\n",
       "             'yourselves': 1,\n",
       "             'very': 2,\n",
       "             'they': 4,\n",
       "             'won': 1,\n",
       "             'just': 2,\n",
       "             'when': 3,\n",
       "             'my': 1,\n",
       "             'because': 1,\n",
       "             'then': 2,\n",
       "             'there': 2,\n",
       "             'few': 3,\n",
       "             'each': 1,\n",
       "             'been': 4,\n",
       "             'these': 2,\n",
       "             'did': 2,\n",
       "             'had': 2,\n",
       "             'what': 1,\n",
       "             'how': 2,\n",
       "             'itself': 1,\n",
       "             'themselves': 2,\n",
       "             'her': 2,\n",
       "             'here': 1,\n",
       "             'nor': 1,\n",
       "             'am': 1,\n",
       "             'o': 1,\n",
       "             'having': 1})"
      ]
     },
     "execution_count": 9,
     "metadata": {},
     "output_type": "execute_result"
    }
   ],
   "source": [
    "## plotting top stop words\n",
    "corpus = df['headline_text'].str.split()\n",
    "corpus = corpus.values.tolist()\n",
    "corpus = [word for i in corpus for word in i]\n",
    "corpus\n",
    "from collections import defaultdict\n",
    "dic=defaultdict(int)\n",
    "for word in corpus:\n",
    "    if word in stpwrds:\n",
    "        dic[word]+=1\n",
    "dic"
   ]
  },
  {
   "cell_type": "code",
   "execution_count": 10,
   "metadata": {},
   "outputs": [
    {
     "name": "stdout",
     "output_type": "stream",
     "text": [
      "('to', 'in', 'for', 'of', 'on', 'over', 'after', 'with', 'at', 'be') (2365, 1450, 1295, 727, 711, 537, 316, 303, 260, 213)\n"
     ]
    },
    {
     "data": {
      "text/plain": [
       "<BarContainer object of 10 artists>"
      ]
     },
     "execution_count": 10,
     "metadata": {},
     "output_type": "execute_result"
    },
    {
     "data": {
      "image/png": "[encoded data removed]",
      "text/plain": [
       "<Figure size 432x288 with 1 Axes>"
      ]
     },
     "metadata": {
      "needs_background": "light"
     },
     "output_type": "display_data"
    }
   ],
   "source": [
    "top = sorted(dic.items() , key= lambda x : x[1], reverse=True)[:10]\n",
    "import matplotlib.pyplot as plt\n",
    "x , y = zip(*top)\n",
    "print(x,y)\n",
    "plt.bar(x,y)"
   ]
  },
  {
   "cell_type": "code",
   "execution_count": 11,
   "metadata": {},
   "outputs": [
    {
     "data": {
      "text/plain": [
       "['us',\n",
       " 'iraq',\n",
       " 'war',\n",
       " 'police',\n",
       " 'govt',\n",
       " 'man',\n",
       " 'new',\n",
       " 'says',\n",
       " 'council',\n",
       " 'iraqi',\n",
       " 'not',\n",
       " 'may',\n",
       " 'fire',\n",
       " 'plan',\n",
       " 'nsw',\n",
       " 'baghdad',\n",
       " 'court',\n",
       " 'water',\n",
       " 'anti',\n",
       " 'world']"
      ]
     },
     "execution_count": 11,
     "metadata": {},
     "output_type": "execute_result"
    }
   ],
   "source": [
    "## plotting top words without stopwords\n",
    "words , count = [] , []\n",
    "from collections import Counter\n",
    "total = Counter(corpus)\n",
    "top  = total.most_common()\n",
    "for i,j in top[:40]:\n",
    "    if (i not in stpwrds):\n",
    "        words.append(i)\n",
    "        count.append(j)\n",
    "words"
   ]
  },
  {
   "cell_type": "code",
   "execution_count": 12,
   "metadata": {},
   "outputs": [
    {
     "data": {
      "text/plain": [
       "<BarContainer object of 20 artists>"
      ]
     },
     "execution_count": 12,
     "metadata": {},
     "output_type": "execute_result"
    },
    {
     "data": {
      "image/png": "[encoded data removed]",
      "text/plain": [
       "<Figure size 1080x396 with 1 Axes>"
      ]
     },
     "metadata": {
      "needs_background": "light"
     },
     "output_type": "display_data"
    }
   ],
   "source": [
    "plt.figure(figsize = (15,5.5))\n",
    "plt.bar(words , count )"
   ]
  },
  {
   "cell_type": "code",
   "execution_count": 13,
   "metadata": {},
   "outputs": [],
   "source": [
    "## Bia-gram exploration\n",
    "from nltk.util import ngrams\n",
    "import sklearn\n",
    "from sklearn.feature_extraction.text import CountVectorizer\n",
    "def get_top_ngram(corpus, n=None):\n",
    "    vec = CountVectorizer(ngram_range=(n, n)).fit(corpus)\n",
    "    bag_of_words = vec.transform(corpus)\n",
    "    sum_words = bag_of_words.sum(axis=0) \n",
    "    words_freq = [(word, sum_words[0, idx]) \n",
    "                  for word, idx in vec.vocabulary_.items()]\n",
    "    words_freq =sorted(words_freq, key = lambda x: x[1], reverse=True)\n",
    "    return words_freq[:10]"
   ]
  },
  {
   "cell_type": "code",
   "execution_count": 14,
   "metadata": {},
   "outputs": [
    {
     "data": {
      "text/plain": [
       "<AxesSubplot:>"
      ]
     },
     "execution_count": 14,
     "metadata": {},
     "output_type": "execute_result"
    },
    {
     "data": {
      "image/png": "[encoded data removed]",
      "text/plain": [
       "<Figure size 1008x396 with 1 Axes>"
      ]
     },
     "metadata": {
      "needs_background": "light"
     },
     "output_type": "display_data"
    }
   ],
   "source": [
    "top_n_bigrams = get_top_ngram(df['headline_text'],2)\n",
    "x,y = map(list,zip(*top_n_bigrams))\n",
    "import seaborn as sns\n",
    "plt.figure(figsize = (14,5.5))\n",
    "sns.barplot(x = y , y = x)"
   ]
  },
  {
   "cell_type": "code",
   "execution_count": 15,
   "metadata": {},
   "outputs": [
    {
     "data": {
      "text/plain": [
       "<AxesSubplot:>"
      ]
     },
     "execution_count": 15,
     "metadata": {},
     "output_type": "execute_result"
    },
    {
     "data": {
      "image/png": "[encoded data removed]",
      "text/plain": [
       "<Figure size 1008x396 with 1 Axes>"
      ]
     },
     "metadata": {
      "needs_background": "light"
     },
     "output_type": "display_data"
    }
   ],
   "source": [
    "top_n_bigrams = get_top_ngram(df['headline_text'],3)\n",
    "x,y = map(list,zip(*top_n_bigrams))\n",
    "import seaborn as sns\n",
    "plt.figure(figsize = (14,5.5))\n",
    "sns.barplot(x = y , y = x)"
   ]
  },
  {
   "cell_type": "markdown",
   "metadata": {},
   "source": [
    "1. topic Modeling"
   ]
  },
  {
   "cell_type": "code",
   "execution_count": 7,
   "metadata": {},
   "outputs": [],
   "source": [
    "from nltk.stem import WordNetLemmatizer\n",
    "def preprocess_news(news):\n",
    "    corpus=[]\n",
    "\n",
    "    lem=WordNetLemmatizer()\n",
    "    for news in news['headline_text']:\n",
    "        words=[w for w in nltk.word_tokenize(news) if (w not in stpwrds)]\n",
    "        \n",
    "        words=[lem.lemmatize(w , pos='v') for w in words if len(w)>2]\n",
    "        \n",
    "        corpus.append(words)\n",
    "    return corpus\n",
    "\n",
    "corpus=preprocess_news(df)"
   ]
  },
  {
   "cell_type": "code",
   "execution_count": 47,
   "metadata": {},
   "outputs": [
    {
     "data": {
      "text/plain": [
       "[[(0, 1), (1, 1), (2, 1), (3, 1), (4, 1)],\n",
       " [(5, 1), (6, 1), (7, 1), (8, 1), (9, 1), (10, 1)],\n",
       " [(11, 1), (12, 1), (13, 1), (14, 1)],\n",
       " [(15, 1), (16, 1), (17, 1), (18, 1), (19, 1), (20, 1)],\n",
       " [(15, 1), (20, 1), (21, 1), (22, 1), (23, 1)],\n",
       " [(24, 1), (25, 1), (26, 1), (27, 1), (28, 1)],\n",
       " [(29, 1), (30, 1), (31, 1), (32, 1), (33, 1)],\n",
       " [(34, 1), (35, 1), (36, 1), (37, 1), (38, 1), (39, 1), (40, 1)],\n",
       " [(16, 1), (41, 1), (42, 1), (43, 1), (44, 1)],\n",
       " [(45, 1), (46, 1), (47, 1), (48, 1), (49, 1)],\n",
       " [(43, 1), (45, 1), (50, 1), (51, 1), (52, 1)],\n",
       " [(30, 1), (33, 1), (53, 1), (54, 1), (55, 1), (56, 1)],\n",
       " [(57, 1), (58, 1), (59, 1), (60, 1)],\n",
       " [(61, 1), (62, 1), (63, 1), (64, 1), (65, 1)],\n",
       " [(60, 1), (61, 1), (66, 1), (67, 1), (68, 1), (69, 1)],\n",
       " [(70, 1), (71, 1), (72, 1), (73, 1), (74, 1)],\n",
       " [(75, 1), (76, 1), (77, 1), (78, 1), (79, 1)],\n",
       " [(79, 1), (80, 1), (81, 1), (82, 1), (83, 1), (84, 1)],\n",
       " [(28, 1), (85, 1), (86, 1), (87, 1), (88, 1), (89, 1)],\n",
       " [(90, 1), (91, 1), (92, 1), (93, 1), (94, 1)],\n",
       " [(95, 1), (96, 1), (97, 1), (98, 1)],\n",
       " [(99, 1), (100, 1), (101, 1), (102, 1), (103, 1), (104, 1)],\n",
       " [(11, 1), (57, 1), (105, 1), (106, 1), (107, 1)],\n",
       " [(108, 1), (109, 1), (110, 1), (111, 1), (112, 1), (113, 1)],\n",
       " [(114, 1), (115, 1), (116, 1)],\n",
       " [(117, 1), (118, 1), (119, 1), (120, 1), (121, 1), (122, 1)],\n",
       " [(123, 1), (124, 1), (125, 1), (126, 1), (127, 1), (128, 1), (129, 1)],\n",
       " [(2, 1), (93, 1), (130, 1), (131, 1), (132, 1)],\n",
       " [(42, 1), (133, 1), (134, 1), (135, 1), (136, 1), (137, 1)],\n",
       " [(138, 1), (139, 1), (140, 1), (141, 1)],\n",
       " [(42, 1), (59, 1), (142, 1), (143, 1), (144, 1), (145, 1)],\n",
       " [(42, 1), (146, 1), (147, 1), (148, 1), (149, 1)],\n",
       " [(42, 1), (149, 1), (150, 1), (151, 1)],\n",
       " [(152, 1), (153, 1), (154, 1), (155, 1), (156, 1), (157, 1)],\n",
       " [(8, 1), (18, 1), (158, 1), (159, 1), (160, 1)],\n",
       " [(161, 1), (162, 1), (163, 1), (164, 1), (165, 1), (166, 1), (167, 1)],\n",
       " [(168, 1), (169, 1), (170, 1), (171, 1), (172, 1)],\n",
       " [(173, 1), (174, 1), (175, 1), (176, 1), (177, 1), (178, 1)],\n",
       " [(179, 1), (180, 1), (181, 1), (182, 1)],\n",
       " [(14, 1), (183, 1), (184, 1), (185, 1)],\n",
       " [(153, 1), (186, 1), (187, 1), (188, 1), (189, 1), (190, 1), (191, 1)],\n",
       " [(192, 1), (193, 1), (194, 1), (195, 1), (196, 1)],\n",
       " [(197, 1), (198, 1), (199, 1), (200, 1), (201, 1), (202, 1)],\n",
       " [(130, 1), (164, 1), (166, 1), (203, 1), (204, 1), (205, 1)],\n",
       " [(36, 1), (206, 1), (207, 1), (208, 1), (209, 1)],\n",
       " [(210, 1), (211, 1), (212, 1), (213, 1), (214, 1), (215, 1), (216, 1)],\n",
       " [(217, 1), (218, 1), (219, 1), (220, 1), (221, 1)],\n",
       " [(47, 1), (151, 1), (222, 1), (223, 1), (224, 1)],\n",
       " [(225, 1), (226, 1), (227, 1), (228, 1)],\n",
       " [(35, 1), (229, 1), (230, 1), (231, 1), (232, 1)],\n",
       " [(33, 1), (233, 1), (234, 1), (235, 1), (236, 1), (237, 1)],\n",
       " [(94, 1), (115, 1), (238, 1), (239, 1), (240, 1)],\n",
       " [(115, 1), (132, 1), (238, 1), (241, 1)],\n",
       " [(115, 1), (242, 1), (243, 1), (244, 1)],\n",
       " [(115, 1), (245, 1), (246, 1)],\n",
       " [(115, 1), (130, 1), (247, 1), (248, 1)],\n",
       " [(249, 1), (250, 1), (251, 1), (252, 1), (253, 1), (254, 1)],\n",
       " [(255, 1), (256, 1), (257, 1), (258, 1)],\n",
       " [(229, 1), (230, 1), (231, 1), (232, 1), (259, 1)],\n",
       " [(260, 1), (261, 1), (262, 1), (263, 1), (264, 1)],\n",
       " [(265, 1), (266, 1), (267, 1), (268, 1), (269, 1), (270, 1)],\n",
       " [(47, 1), (106, 1), (188, 1), (271, 1), (272, 1)],\n",
       " [(273, 1), (274, 1), (275, 1), (276, 1), (277, 1)],\n",
       " [(8, 1), (255, 1), (264, 1), (278, 1), (279, 1)],\n",
       " [(280, 1), (281, 1), (282, 1), (283, 1), (284, 1), (285, 1)],\n",
       " [(52, 1), (286, 1), (287, 1), (288, 1), (289, 1), (290, 1), (291, 1)],\n",
       " [(200, 1), (292, 1), (293, 1), (294, 1), (295, 1), (296, 1)],\n",
       " [(200, 1), (255, 1), (294, 1), (297, 1)],\n",
       " [(173, 1), (298, 1), (299, 1)],\n",
       " [(120, 1), (255, 1), (300, 1), (301, 1), (302, 1), (303, 1)],\n",
       " [(304, 1), (305, 1), (306, 1), (307, 1), (308, 1), (309, 1)],\n",
       " [(232, 1), (310, 1), (311, 1), (312, 1), (313, 1), (314, 1)],\n",
       " [(163, 1), (315, 1), (316, 1), (317, 1), (318, 1)],\n",
       " [(163, 1), (164, 1), (167, 1), (319, 1), (320, 1)],\n",
       " [(228, 1), (319, 1), (320, 1), (321, 1), (322, 1)],\n",
       " [(43, 1), (323, 1), (324, 1), (325, 1), (326, 1)],\n",
       " [(17, 1), (43, 1), (327, 1), (328, 1), (329, 1)],\n",
       " [(318, 1), (330, 1), (331, 1), (332, 1), (333, 1)],\n",
       " [(334, 1), (335, 1), (336, 1), (337, 1)],\n",
       " [(338, 1), (339, 1), (340, 1), (341, 1), (342, 1)],\n",
       " [(254, 1), (343, 1), (344, 1), (345, 1), (346, 1)],\n",
       " [(347, 1), (348, 1), (349, 1), (350, 1), (351, 1)],\n",
       " [(106, 1), (352, 1), (353, 1), (354, 1), (355, 1)],\n",
       " [(106, 1), (189, 1), (354, 1), (356, 1), (357, 1), (358, 1)],\n",
       " [(8, 1), (164, 1), (166, 1), (215, 1), (359, 1), (360, 1)],\n",
       " [(11, 1), (61, 1), (88, 1), (361, 1), (362, 1), (363, 1), (364, 1)],\n",
       " [(15, 1), (125, 1), (338, 1), (357, 1), (365, 1), (366, 1)],\n",
       " [(318, 1), (330, 1), (367, 1), (368, 1), (369, 1), (370, 1)],\n",
       " [(318, 1), (346, 1), (371, 1), (372, 1)],\n",
       " [(318, 1), (373, 1), (374, 1), (375, 1), (376, 1), (377, 1)],\n",
       " [(318, 1), (378, 1), (379, 1), (380, 1)],\n",
       " [(318, 1), (369, 1), (381, 1), (382, 1), (383, 1)],\n",
       " [(222, 1), (384, 1), (385, 1), (386, 1), (387, 1)],\n",
       " [(200, 1), (388, 1), (389, 1), (390, 1), (391, 1), (392, 1)],\n",
       " [(393, 1), (394, 1), (395, 1), (396, 1)],\n",
       " [(212, 1), (344, 1), (397, 1), (398, 1), (399, 1)],\n",
       " [(69, 1), (398, 1), (400, 1), (401, 1), (402, 1), (403, 1)],\n",
       " [(404, 1), (405, 1), (406, 1), (407, 1)],\n",
       " [(408, 1), (409, 1), (410, 1), (411, 1)],\n",
       " [(69, 1), (145, 1), (412, 1), (413, 1), (414, 1)],\n",
       " [(93, 1), (139, 1), (183, 1), (415, 1)],\n",
       " [(200, 1), (416, 1), (417, 1), (418, 1)],\n",
       " [(419, 1), (420, 1), (421, 1), (422, 1)],\n",
       " [(146, 1), (148, 1), (423, 1), (424, 1)],\n",
       " [(14, 1), (425, 1), (426, 1), (427, 1)],\n",
       " [(224, 1), (428, 1), (429, 1), (430, 1)],\n",
       " [(252, 1), (274, 1), (382, 1), (431, 1), (432, 1), (433, 1)],\n",
       " [(373, 1), (374, 1), (376, 1), (377, 1), (434, 1), (435, 1)],\n",
       " [(436, 1), (437, 1), (438, 1), (439, 1), (440, 1), (441, 1)],\n",
       " [(438, 1), (442, 1), (443, 1), (444, 1), (445, 1), (446, 1)],\n",
       " [(8, 1), (188, 1), (200, 1), (255, 1), (447, 1), (448, 1)],\n",
       " [(47, 1), (200, 1), (423, 1), (434, 1), (449, 1), (450, 1), (451, 1)],\n",
       " [(47, 1), (200, 1), (452, 1), (453, 1), (454, 1), (455, 1)],\n",
       " [(66, 1), (188, 1), (456, 1), (457, 1), (458, 1), (459, 1)],\n",
       " [(164, 1), (374, 1), (460, 1), (461, 1), (462, 1), (463, 1)],\n",
       " [(456, 1), (464, 1), (465, 1)],\n",
       " [(466, 1), (467, 1), (468, 1), (469, 1), (470, 1)],\n",
       " [(471, 1), (472, 1), (473, 1)],\n",
       " [(474, 1), (475, 1), (476, 1), (477, 1), (478, 1)],\n",
       " [(93, 1), (130, 1), (144, 1), (479, 1), (480, 1), (481, 1)],\n",
       " [(465, 1), (482, 1), (483, 1), (484, 1)],\n",
       " [(485, 1), (486, 1), (487, 1), (488, 1), (489, 1)],\n",
       " [(189, 1), (206, 1), (468, 1), (490, 1), (491, 1), (492, 1)],\n",
       " [(250, 1), (346, 1), (493, 1), (494, 1), (495, 1)],\n",
       " [(147, 1), (189, 1), (300, 1), (434, 1), (496, 1), (497, 1)],\n",
       " [(153, 1), (497, 1), (498, 1), (499, 1), (500, 1), (501, 1)],\n",
       " [(300, 1), (398, 1), (497, 1), (502, 1), (503, 1), (504, 1), (505, 1)],\n",
       " [(506, 1), (507, 1), (508, 1), (509, 1), (510, 1), (511, 1)],\n",
       " [(512, 1), (513, 1), (514, 1), (515, 1), (516, 1)],\n",
       " [(60, 1), (517, 1), (518, 1)],\n",
       " [(60, 1), (519, 1), (520, 1), (521, 1), (522, 1)],\n",
       " [(20, 1), (458, 1), (523, 1), (524, 1), (525, 1), (526, 1)],\n",
       " [(276, 1), (527, 1), (528, 1), (529, 1)],\n",
       " [(276, 1), (373, 1), (374, 1), (376, 1), (377, 1), (431, 1)],\n",
       " [(530, 1), (531, 1), (532, 1), (533, 1), (534, 1)],\n",
       " [(229, 1), (383, 1), (535, 1), (536, 1)],\n",
       " [(537, 1), (538, 1), (539, 1), (540, 1), (541, 1)],\n",
       " [(93, 1), (542, 1), (543, 1), (544, 1), (545, 1)],\n",
       " [(545, 1), (546, 1), (547, 1), (548, 1)],\n",
       " [(17, 1), (20, 1), (549, 1), (550, 1), (551, 1)],\n",
       " [(49, 1),\n",
       "  (60, 1),\n",
       "  (125, 1),\n",
       "  (551, 1),\n",
       "  (552, 1),\n",
       "  (553, 1),\n",
       "  (554, 1),\n",
       "  (555, 1)],\n",
       " [(189, 1), (412, 1), (556, 1), (557, 1), (558, 1)],\n",
       " [(164, 1), (166, 1), (186, 1), (545, 1), (559, 1), (560, 1)],\n",
       " [(541, 1), (561, 1), (562, 1), (563, 1)],\n",
       " [(228, 1), (564, 1), (565, 1), (566, 1), (567, 1), (568, 1)],\n",
       " [(69, 1), (403, 1), (569, 1), (570, 1), (571, 1)],\n",
       " [(237, 1), (572, 1), (573, 1), (574, 1)],\n",
       " [(33, 1), (575, 1), (576, 1), (577, 1)],\n",
       " [(7, 1), (28, 1), (250, 1), (343, 1), (578, 1)],\n",
       " [(563, 1), (579, 1), (580, 1), (581, 1)],\n",
       " [(78, 1), (582, 1), (583, 1), (584, 1), (585, 1)],\n",
       " [(66, 1), (586, 1), (587, 1), (588, 1)],\n",
       " [(589, 1), (590, 1), (591, 1), (592, 1), (593, 1)],\n",
       " [(5, 1), (423, 1), (424, 1), (594, 1), (595, 1), (596, 1)],\n",
       " [(232, 1), (597, 1), (598, 1), (599, 1), (600, 1)],\n",
       " [(244, 1), (601, 1), (602, 1), (603, 1), (604, 1), (605, 1)],\n",
       " [(78, 1), (79, 1), (606, 1), (607, 1), (608, 1)],\n",
       " [(163, 1), (482, 1), (529, 1), (609, 1), (610, 1)],\n",
       " [(11, 1), (336, 1), (611, 1), (612, 1), (613, 1)],\n",
       " [(563, 1), (614, 1), (615, 1), (616, 1), (617, 1)],\n",
       " [(43, 1), (49, 1), (157, 1), (616, 1), (618, 1), (619, 1), (620, 1)],\n",
       " [(94, 1), (162, 1), (164, 1), (165, 1), (166, 1), (621, 1)],\n",
       " [(43, 1), (159, 1), (517, 1), (622, 1), (623, 1)],\n",
       " [(275, 1), (624, 1), (625, 1), (626, 1)],\n",
       " [(339, 1), (627, 1), (628, 1), (629, 1), (630, 1)],\n",
       " [(16, 1), (413, 1), (631, 1), (632, 1), (633, 1)],\n",
       " [(265, 1), (270, 1), (634, 1), (635, 1), (636, 1), (637, 1)],\n",
       " [(346, 1), (563, 1), (638, 1), (639, 1)],\n",
       " [(73, 1), (106, 1), (107, 1), (508, 1), (640, 1), (641, 1)],\n",
       " [(126, 1), (127, 1), (277, 1), (366, 1), (430, 1), (546, 1)],\n",
       " [(642, 1), (643, 1), (644, 1)],\n",
       " [(215, 1), (360, 1), (645, 1), (646, 1)],\n",
       " [(157, 1), (492, 1), (647, 1), (648, 1), (649, 1), (650, 1)],\n",
       " [(60, 1), (651, 1), (652, 1), (653, 1)],\n",
       " [(16, 1), (438, 1), (654, 1), (655, 1), (656, 1), (657, 1)],\n",
       " [(658, 1), (659, 1), (660, 1), (661, 1)],\n",
       " [(362, 1), (545, 1), (659, 1), (662, 1), (663, 1)],\n",
       " [(450, 1), (664, 1), (665, 1), (666, 1), (667, 1), (668, 1), (669, 1)],\n",
       " [(261, 1), (621, 1), (670, 1), (671, 1), (672, 1)],\n",
       " [(673, 1), (674, 1), (675, 1), (676, 1), (677, 1)],\n",
       " [(250, 1), (390, 1), (494, 1), (678, 1), (679, 1)],\n",
       " [(69, 1), (501, 1), (680, 1), (681, 1), (682, 1), (683, 1)],\n",
       " [(684, 1), (685, 1), (686, 1), (687, 1), (688, 1)],\n",
       " [(545, 1), (555, 1), (689, 1), (690, 1), (691, 1), (692, 1)],\n",
       " [(484, 1), (693, 1), (694, 1), (695, 1), (696, 1)],\n",
       " [(43, 1), (81, 1), (95, 1), (697, 1), (698, 1), (699, 1)],\n",
       " [(8, 1), (588, 1), (700, 1), (701, 1), (702, 1), (703, 1), (704, 1)],\n",
       " [(42, 1), (149, 1), (705, 1), (706, 1), (707, 1), (708, 1), (709, 1)],\n",
       " [(671, 1), (710, 1), (711, 1), (712, 1)],\n",
       " [(305, 1), (713, 1), (714, 1), (715, 1)],\n",
       " [(209, 1), (716, 1), (717, 1), (718, 1), (719, 1), (720, 1)],\n",
       " [(721, 1), (722, 1), (723, 1), (724, 1)],\n",
       " [(725, 1), (726, 1), (727, 1), (728, 1)],\n",
       " [(729, 1), (730, 1), (731, 1), (732, 1)],\n",
       " [(60, 1), (652, 1), (733, 1), (734, 1)],\n",
       " [(28, 1), (468, 1), (735, 1), (736, 1), (737, 1), (738, 1), (739, 1)],\n",
       " [(133, 1), (255, 1), (558, 1), (740, 1), (741, 1)],\n",
       " [(536, 1), (742, 1), (743, 1), (744, 1), (745, 1)],\n",
       " [(331, 1), (376, 1), (746, 1), (747, 1), (748, 1), (749, 1)],\n",
       " [(656, 1), (750, 1)],\n",
       " [(610, 1), (751, 1), (752, 1), (753, 1), (754, 1)],\n",
       " [(42, 1), (755, 1), (756, 1), (757, 1)],\n",
       " [(387, 1), (758, 1), (759, 1), (760, 1), (761, 1)],\n",
       " [(33, 1), (235, 1), (762, 1), (763, 1), (764, 1)],\n",
       " [(450, 1), (765, 1), (766, 1), (767, 1), (768, 1)],\n",
       " [(78, 1), (513, 1), (769, 1), (770, 1), (771, 1)],\n",
       " [(16, 1), (270, 1), (408, 1), (681, 1), (695, 1), (772, 2)],\n",
       " [(188, 1), (200, 1), (773, 1), (774, 1), (775, 1), (776, 1), (777, 1)],\n",
       " [(22, 1), (53, 1), (54, 1), (778, 1), (779, 1)],\n",
       " [(170, 1), (398, 1), (553, 1), (780, 1), (781, 1), (782, 1)],\n",
       " [(8, 1), (327, 1), (783, 1), (784, 1), (785, 1), (786, 1)],\n",
       " [(229, 1), (383, 1), (787, 1), (788, 1), (789, 1), (790, 1), (791, 1)],\n",
       " [(88, 1), (125, 1), (318, 1), (769, 1), (792, 1), (793, 1)],\n",
       " [(409, 1), (682, 1), (794, 1), (795, 1)],\n",
       " [(183, 1), (260, 1), (796, 1), (797, 1)],\n",
       " [(20, 1), (230, 1), (705, 1), (785, 1), (798, 1)],\n",
       " [(43, 1), (84, 1), (157, 1), (224, 1), (799, 1), (800, 1)],\n",
       " [(81, 1), (250, 1), (438, 1), (460, 1), (801, 1), (802, 1), (803, 1)],\n",
       " [(81, 1), (804, 1), (805, 1), (806, 1)],\n",
       " [(111, 1), (807, 1), (808, 1), (809, 1), (810, 1)],\n",
       " [(90, 1), (811, 1), (812, 1), (813, 1)],\n",
       " [(432, 1), (433, 1), (692, 1), (814, 1), (815, 1)],\n",
       " [(11, 1), (130, 1), (206, 1), (816, 1), (817, 1), (818, 1)],\n",
       " [(64, 1), (570, 1), (819, 1), (820, 1), (821, 1)],\n",
       " [(822, 1), (823, 1), (824, 1)],\n",
       " [(825, 1), (826, 1), (827, 1), (828, 1), (829, 1)],\n",
       " [(489, 1), (830, 1), (831, 1), (832, 1), (833, 1)],\n",
       " [(17, 1), (834, 1), (835, 1), (836, 1), (837, 1), (838, 1)],\n",
       " [(423, 1), (839, 1), (840, 1), (841, 1), (842, 1)],\n",
       " [(300, 1), (423, 1), (843, 1), (844, 1), (845, 1)],\n",
       " [(257, 1), (423, 1), (752, 1), (802, 1), (846, 1), (847, 1)],\n",
       " [(117, 1), (144, 1), (423, 1), (438, 1), (848, 1), (849, 1)],\n",
       " [(145, 1), (257, 1), (423, 1), (752, 1), (802, 1), (846, 1), (847, 1)],\n",
       " [(244, 1), (693, 1), (850, 1), (851, 1)],\n",
       " [(5, 1), (8, 1), (189, 1), (419, 1), (536, 1), (852, 1), (853, 1)],\n",
       " [(854, 1), (855, 1), (856, 1), (857, 1), (858, 1)],\n",
       " [(159, 1), (163, 1), (420, 1), (811, 1), (812, 1)],\n",
       " [(42, 1), (133, 1), (147, 1), (553, 1), (859, 1), (860, 1)],\n",
       " [(42, 1), (861, 1), (862, 1), (863, 1)],\n",
       " [(42, 1), (275, 1), (864, 1), (865, 1), (866, 1)],\n",
       " [(170, 1), (215, 1), (266, 1), (485, 1), (867, 1), (868, 1), (869, 1)],\n",
       " [(250, 1), (492, 1), (544, 1), (870, 1), (871, 1), (872, 1)],\n",
       " [(36, 1), (289, 1), (305, 1), (385, 1), (873, 1), (874, 1), (875, 1)],\n",
       " [(787, 1), (876, 1), (877, 1), (878, 1), (879, 1), (880, 1)],\n",
       " [(661, 1), (881, 1), (882, 1), (883, 1), (884, 1), (885, 1)],\n",
       " [(11, 1), (886, 1), (887, 1), (888, 1), (889, 1)],\n",
       " [(76, 1), (423, 1), (551, 1), (890, 1), (891, 1)],\n",
       " [(43, 1), (396, 1), (482, 1), (611, 1), (666, 1), (777, 1), (892, 1)],\n",
       " [(31, 1), (199, 1), (453, 1), (508, 1), (570, 1), (893, 1)],\n",
       " [(269, 1), (453, 1), (508, 1), (894, 1), (895, 1)],\n",
       " [(167, 1), (453, 1), (896, 1), (897, 1)],\n",
       " [(898, 1), (899, 1), (900, 1), (901, 1), (902, 1)],\n",
       " [(726, 1), (727, 1), (728, 1), (903, 1), (904, 1), (905, 1)],\n",
       " [(592, 1), (906, 1), (907, 1), (908, 1)],\n",
       " [(207, 1), (909, 1), (910, 1), (911, 1), (912, 1)],\n",
       " [(11, 1), (207, 1), (573, 1), (913, 1), (914, 1)],\n",
       " [(213, 1), (228, 1), (567, 1), (915, 1)],\n",
       " [(189, 1), (544, 1), (916, 1), (917, 1), (918, 1), (919, 1)],\n",
       " [(28, 1), (544, 1), (611, 1), (871, 1), (917, 1), (920, 1)],\n",
       " [(921, 1), (922, 1), (923, 1), (924, 1)],\n",
       " [(164, 1), (925, 1), (926, 1), (927, 1), (928, 1)],\n",
       " [(425, 1), (589, 1), (649, 1), (691, 1), (929, 1), (930, 1), (931, 1)],\n",
       " [(769, 1), (932, 1), (933, 1), (934, 1), (935, 1)],\n",
       " [(22, 1), (379, 1), (654, 1), (936, 1)],\n",
       " [(36, 1), (49, 1), (937, 1), (938, 1), (939, 1), (940, 1)],\n",
       " [(189, 1), (227, 1), (496, 1), (941, 1), (942, 1), (943, 1)],\n",
       " [(60, 1), (242, 1), (944, 1), (945, 1), (946, 1)],\n",
       " [(21, 1), (611, 1), (947, 1), (948, 1), (949, 1), (950, 1)],\n",
       " [(423, 1), (424, 1), (538, 1), (951, 1), (952, 1)],\n",
       " [(123, 1), (678, 1), (953, 1), (954, 1), (955, 1), (956, 1), (957, 1)],\n",
       " [(8, 1), (371, 1), (953, 1), (958, 1), (959, 1)],\n",
       " [(401, 1), (604, 1), (960, 1), (961, 1), (962, 1)],\n",
       " [(35, 1), (963, 1), (964, 1), (965, 1), (966, 1), (967, 1)],\n",
       " [(494, 1), (968, 1), (969, 1), (970, 1), (971, 1), (972, 1)],\n",
       " [(143, 1), (973, 1), (974, 1), (975, 1), (976, 1)],\n",
       " [(25, 1), (107, 1), (977, 1), (978, 1)],\n",
       " [(285, 1), (832, 1), (979, 1), (980, 1), (981, 1), (982, 1)],\n",
       " [(88, 1), (467, 1), (935, 1), (983, 1)],\n",
       " [(741, 1), (984, 1), (985, 1)],\n",
       " [(227, 1), (986, 1), (987, 1), (988, 1)],\n",
       " [(188, 1), (526, 1), (899, 1), (989, 1), (990, 1), (991, 1)],\n",
       " [(78, 1), (188, 1), (244, 1), (992, 1), (993, 1), (994, 1)],\n",
       " [(11, 1), (265, 1), (579, 1), (995, 1)],\n",
       " [(274, 1), (589, 1), (996, 1), (997, 1), (998, 1), (999, 1), (1000, 1)],\n",
       " [(15, 1), (281, 1), (419, 1), (1001, 1)],\n",
       " [(281, 1), (480, 1), (1002, 1), (1003, 1), (1004, 1)],\n",
       " [(56, 1), (281, 1), (1005, 1), (1006, 1)],\n",
       " [(1007, 1), (1008, 1), (1009, 1), (1010, 1)],\n",
       " [(33, 1), (173, 1), (255, 1), (1011, 1), (1012, 1), (1013, 1), (1014, 1)],\n",
       " [(49, 1), (395, 1), (589, 1), (863, 1), (998, 1), (1015, 1)],\n",
       " [(43, 1), (473, 1), (833, 1), (998, 1), (1016, 1)],\n",
       " [(43, 1), (49, 1), (468, 1), (1017, 1), (1018, 1), (1019, 1)],\n",
       " [(1020, 1), (1021, 1), (1022, 1), (1023, 1), (1024, 1)],\n",
       " [(376, 1), (1025, 1), (1026, 1), (1027, 1), (1028, 1)],\n",
       " [(60, 1), (69, 1), (335, 1), (559, 1), (1029, 1)],\n",
       " [(398, 1), (570, 1), (668, 1), (868, 1), (1030, 1), (1031, 1), (1032, 1)],\n",
       " [(74, 1), (103, 1), (730, 1), (743, 1), (1033, 1)],\n",
       " [(219, 1), (221, 1), (1005, 1), (1034, 1), (1035, 1), (1036, 1)],\n",
       " [(319, 1), (320, 1), (551, 1), (1037, 1)],\n",
       " [(106, 1), (193, 1), (563, 1), (860, 1), (1038, 1), (1039, 1)],\n",
       " [(229, 1), (383, 1), (1040, 1), (1041, 1), (1042, 1), (1043, 1)],\n",
       " [(229, 1), (383, 1), (1041, 1), (1044, 1), (1045, 1), (1046, 1)],\n",
       " [(49, 1), (171, 1), (531, 1), (1047, 1), (1048, 1), (1049, 1)],\n",
       " [(826, 1), (988, 1), (1050, 1), (1051, 1), (1052, 1)],\n",
       " [(129, 1), (531, 1), (1053, 1), (1054, 1), (1055, 1)],\n",
       " [(517, 1), (705, 1), (1056, 1), (1057, 1), (1058, 1)],\n",
       " [(1050, 1), (1059, 1), (1060, 1), (1061, 1), (1062, 1)],\n",
       " [(164, 1), (1063, 1), (1064, 1), (1065, 1), (1066, 1), (1067, 1), (1068, 1)],\n",
       " [(215, 1), (1069, 1), (1070, 1), (1071, 1)],\n",
       " [(839, 1), (841, 1), (1072, 1), (1073, 1), (1074, 1), (1075, 1)],\n",
       " [(253, 1), (318, 1), (723, 1), (1073, 1), (1076, 1), (1077, 1)],\n",
       " [(343, 1), (610, 1), (917, 1), (1073, 1), (1076, 1)],\n",
       " [(52, 1), (918, 1), (1078, 1), (1079, 1), (1080, 1), (1081, 1)],\n",
       " [(206, 1), (255, 1), (492, 1), (1082, 1), (1083, 1), (1084, 1)],\n",
       " [(1085, 1), (1086, 1), (1087, 1), (1088, 1), (1089, 1)],\n",
       " [(1090, 1), (1091, 1), (1092, 1), (1093, 1), (1094, 1)],\n",
       " [(318, 1), (369, 1), (383, 1), (1095, 1)],\n",
       " [(318, 1), (346, 1), (1096, 1), (1097, 1), (1098, 1)],\n",
       " [(163, 1), (318, 1), (370, 1), (1099, 1), (1100, 1)],\n",
       " [(175, 1), (318, 1), (371, 1), (383, 1), (1101, 1), (1102, 1)],\n",
       " [(95, 1), (318, 1), (420, 1), (1103, 1)],\n",
       " [(7, 1), (318, 1), (730, 1), (870, 1), (1104, 1)],\n",
       " [(318, 1), (346, 1), (678, 1), (1105, 1), (1106, 1)],\n",
       " [(250, 1), (318, 1), (352, 1), (369, 1), (494, 1)],\n",
       " [(250, 1), (318, 1), (494, 1), (1107, 1), (1108, 1), (1109, 1)],\n",
       " [(199, 1), (318, 1), (430, 1), (1110, 1), (1111, 1), (1112, 1)],\n",
       " [(11, 1), (887, 1), (888, 1)],\n",
       " [(49, 1), (1113, 1), (1114, 1), (1115, 1), (1116, 1)],\n",
       " [(336, 1), (344, 1), (398, 1), (659, 1), (1117, 1)],\n",
       " [(318, 1), (391, 1), (870, 1), (1028, 1), (1118, 1), (1119, 1)],\n",
       " [(28, 1), (127, 1), (800, 1), (1120, 1), (1121, 1), (1122, 1)],\n",
       " [(159, 1), (181, 1), (565, 1), (763, 1), (1123, 1), (1124, 1)],\n",
       " [(304, 1), (1125, 1), (1126, 1), (1127, 1)],\n",
       " [(8, 1), (1128, 1), (1129, 1), (1130, 1), (1131, 1), (1132, 1)],\n",
       " [(49, 1), (589, 1), (1039, 1), (1133, 1)],\n",
       " [(224, 1), (757, 1), (1134, 1), (1135, 1)],\n",
       " [(465, 1), (555, 1), (1120, 1), (1136, 1)],\n",
       " [(376, 1), (1027, 1), (1137, 1)],\n",
       " [(351, 1), (410, 1), (415, 1), (727, 1), (930, 1), (1138, 1)],\n",
       " [(1139, 1), (1140, 1), (1141, 1), (1142, 1)],\n",
       " [(106, 1), (107, 1), (502, 1), (1143, 1), (1144, 1), (1145, 1)],\n",
       " [(59, 1), (96, 1), (1146, 1), (1147, 1)],\n",
       " [(398, 1), (612, 1), (1148, 1), (1149, 1), (1150, 1)],\n",
       " [(463, 1), (536, 2), (964, 1), (1151, 1)],\n",
       " [(56, 1), (438, 1), (1152, 1), (1153, 1)],\n",
       " [(179, 1), (438, 1), (440, 1), (1154, 1), (1155, 1), (1156, 1)],\n",
       " [(200, 1), (817, 1), (1070, 1), (1157, 1)],\n",
       " [(837, 1), (1158, 1), (1159, 1), (1160, 1)],\n",
       " [(200, 1), (1161, 1), (1162, 1), (1163, 1), (1164, 1), (1165, 1)],\n",
       " [(2, 1), (188, 1), (1166, 1), (1167, 1), (1168, 1)],\n",
       " [(275, 1), (1169, 1), (1170, 1), (1171, 1)],\n",
       " [(438, 1), (635, 1), (802, 1), (978, 1), (1172, 1)],\n",
       " [(250, 1), (1035, 1), (1173, 1), (1174, 1), (1175, 1), (1176, 1)],\n",
       " [(162, 1), (200, 1), (722, 1), (1035, 1), (1174, 1), (1176, 1), (1177, 1)],\n",
       " [(4, 1), (319, 1), (362, 1), (1178, 1), (1179, 1)],\n",
       " [(15, 2), (133, 1), (229, 1), (338, 1), (628, 1), (1180, 1)],\n",
       " [(115, 1), (858, 1), (950, 1), (1181, 1), (1182, 1), (1183, 1)],\n",
       " [(59, 1), (144, 1), (537, 1), (802, 1), (1135, 1), (1184, 1)],\n",
       " [(190, 1), (281, 1), (509, 1), (674, 1), (690, 1), (1185, 1)],\n",
       " [(1186, 1), (1187, 1), (1188, 1)],\n",
       " [(856, 1), (857, 1), (858, 1), (1086, 1), (1189, 1), (1190, 1)],\n",
       " [(441, 1), (691, 1), (693, 1), (719, 1)],\n",
       " [(153, 1), (395, 1), (1015, 1), (1191, 1)],\n",
       " [(49, 1), (395, 1), (434, 1), (589, 1), (1015, 1)],\n",
       " [(276, 1), (316, 1), (536, 1), (693, 1), (1047, 1), (1088, 1)],\n",
       " [(276, 1), (316, 1), (388, 1), (517, 1), (1192, 1)],\n",
       " [(64, 1), (276, 1), (290, 1), (1193, 1), (1194, 1), (1195, 1)],\n",
       " [(276, 1), (327, 1), (360, 1), (927, 1), (1196, 1)],\n",
       " [(276, 1), (376, 1), (390, 1), (858, 1), (1197, 1)],\n",
       " [(17, 1), (130, 1), (276, 1), (463, 1), (1198, 1)],\n",
       " [(276, 1), (923, 1), (1199, 2), (1200, 1), (1201, 1), (1202, 1)],\n",
       " [(276, 1), (390, 1), (492, 1), (521, 1), (950, 1), (1203, 1)],\n",
       " [(79, 1), (545, 1), (589, 1), (1204, 1), (1205, 1), (1206, 1)],\n",
       " [(674, 1), (1207, 1), (1208, 1), (1209, 1), (1210, 1)],\n",
       " [(338, 1), (438, 1), (533, 1), (1211, 1), (1212, 1), (1213, 1)],\n",
       " [(164, 1), (462, 1), (730, 1), (1075, 1), (1214, 1), (1215, 1), (1216, 1)],\n",
       " [(570, 1), (571, 1), (1217, 1), (1218, 1)],\n",
       " [(276, 1), (535, 1), (536, 1), (1219, 1), (1220, 1)],\n",
       " [(49, 1), (395, 1), (589, 1), (998, 1), (1015, 1), (1221, 1)],\n",
       " [(376, 1), (1027, 1), (1222, 1), (1223, 1)],\n",
       " [(545, 1), (548, 1), (1120, 1), (1224, 1), (1225, 1)],\n",
       " [(162, 1), (1226, 1), (1227, 1), (1228, 1)],\n",
       " [(551, 1), (668, 1), (1025, 1), (1026, 1), (1229, 1)],\n",
       " [(33, 1), (125, 1), (235, 1), (551, 1), (553, 1), (779, 1), (1230, 1)],\n",
       " [(33, 1), (52, 1), (235, 1), (551, 1), (1231, 1)],\n",
       " [(978, 1), (1232, 1), (1233, 1), (1234, 1)],\n",
       " [(188, 1), (370, 1), (420, 1), (438, 1), (468, 1), (1235, 1)],\n",
       " [(370, 1), (964, 1), (1236, 1), (1237, 1), (1238, 1), (1239, 1)],\n",
       " [(266, 1), (868, 1), (1084, 1), (1240, 1), (1241, 1)],\n",
       " [(66, 1), (356, 1), (520, 1), (570, 1)],\n",
       " [(34, 1), (206, 1), (338, 1), (508, 1), (570, 1), (735, 1), (1242, 1)],\n",
       " [(376, 1), (699, 1), (1243, 1), (1244, 1)],\n",
       " [(115, 1), (1226, 1), (1245, 1), (1246, 1)],\n",
       " [(255, 1), (450, 1), (604, 1), (1247, 1), (1248, 1)],\n",
       " [(1249, 1), (1250, 1), (1251, 1), (1252, 1), (1253, 1), (1254, 1)],\n",
       " [(70, 1), (267, 1), (757, 1), (1039, 1), (1255, 1), (1256, 1), (1257, 1)],\n",
       " [(1258, 1), (1259, 1), (1260, 1), (1261, 1), (1262, 1)],\n",
       " [(59, 1), (188, 1), (338, 1), (434, 1), (1263, 1), (1264, 1)],\n",
       " [(147, 1), (188, 1), (1020, 1), (1076, 1)],\n",
       " [(116, 1), (513, 1), (723, 1), (1265, 1), (1266, 1)],\n",
       " [(355, 1), (1267, 1), (1268, 1), (1269, 1), (1270, 1)],\n",
       " [(1271, 1), (1272, 1), (1273, 1)],\n",
       " [(513, 1), (743, 1), (1016, 1), (1274, 1)],\n",
       " [(1275, 1), (1276, 1), (1277, 1), (1278, 1), (1279, 1), (1280, 1)],\n",
       " [(489, 1), (1281, 1), (1282, 1), (1283, 1)],\n",
       " [(230, 1), (655, 1), (1284, 1), (1285, 1)],\n",
       " [(338, 1), (482, 1), (556, 1), (1286, 1), (1287, 1)],\n",
       " [(35, 1), (450, 1), (638, 1), (765, 1), (767, 1), (1288, 1)],\n",
       " [(473, 1), (533, 1), (928, 1), (1289, 1), (1290, 1)],\n",
       " [(1217, 1), (1291, 1), (1292, 1), (1293, 1)],\n",
       " [(28, 1), (663, 1), (796, 1), (1294, 1), (1295, 1), (1296, 1)],\n",
       " [(8, 1), (145, 1), (232, 1), (276, 1), (318, 1), (327, 1), (560, 1)],\n",
       " [(350, 1), (494, 1), (528, 1), (563, 1), (1297, 1)],\n",
       " [(698, 1), (1298, 1), (1299, 1), (1300, 1), (1301, 1)],\n",
       " [(81, 1), (241, 1), (1000, 1), (1195, 1), (1302, 1), (1303, 1), (1304, 1)],\n",
       " [(688, 1), (705, 1), (1075, 1), (1305, 1), (1306, 1)],\n",
       " [(208, 1), (232, 1), (340, 1), (635, 1), (1307, 1), (1308, 1), (1309, 1)],\n",
       " [(101, 1), (1310, 1), (1311, 1), (1312, 1), (1313, 1)],\n",
       " [(28, 1), (252, 1), (1314, 1), (1315, 1), (1316, 1), (1317, 1)],\n",
       " [(57, 1), (69, 1), (470, 1), (1318, 1), (1319, 1)],\n",
       " [(9, 1), (43, 1), (651, 1), (975, 1), (1320, 1)],\n",
       " [(415, 1), (563, 1), (1321, 1), (1322, 1), (1323, 1), (1324, 1)],\n",
       " [(255, 1), (261, 1), (262, 1), (1325, 1), (1326, 1), (1327, 1)],\n",
       " [(1171, 1), (1328, 1), (1329, 1), (1330, 1)],\n",
       " [(50, 1), (275, 1), (433, 1), (617, 1), (1331, 1)],\n",
       " [(50, 1), (95, 1), (215, 1), (433, 1), (1332, 1), (1333, 1)],\n",
       " [(506, 1), (555, 1), (1334, 1), (1335, 1), (1336, 1)],\n",
       " [(42, 1), (44, 1), (305, 1), (312, 1), (705, 1), (1337, 1), (1338, 1)],\n",
       " [(668, 1), (1043, 1), (1339, 1), (1340, 1), (1341, 1)],\n",
       " [(44, 1), (449, 1), (1142, 1), (1342, 1), (1343, 1)],\n",
       " [(49, 1), (988, 1), (1344, 1), (1345, 1), (1346, 1)],\n",
       " [(50, 1), (157, 1), (275, 1), (433, 1), (451, 1), (470, 1)],\n",
       " [(56, 1), (611, 1), (1347, 1), (1348, 1)],\n",
       " [(1110, 1), (1349, 1), (1350, 1), (1351, 1), (1352, 1), (1353, 1)],\n",
       " [(438, 1), (1354, 1), (1355, 1), (1356, 1), (1357, 1), (1358, 1)],\n",
       " [(188, 1), (423, 1), (602, 1), (603, 1), (605, 1), (709, 1), (1359, 1)],\n",
       " [(8, 1), (90, 1), (549, 1), (1360, 1), (1361, 1)],\n",
       " [(49, 1), (56, 1), (167, 1), (586, 1), (668, 1)],\n",
       " [(43, 1), (49, 1), (212, 1), (892, 1), (1362, 1), (1363, 1), (1364, 1)],\n",
       " [(752, 1), (960, 1), (1365, 1), (1366, 1)],\n",
       " [(741, 1), (1367, 1)],\n",
       " [(68, 1), (392, 1), (730, 1), (1368, 1), (1369, 2), (1370, 1)],\n",
       " [(479, 1), (631, 1), (1371, 1), (1372, 1), (1373, 1)],\n",
       " [(57, 1), (93, 1), (341, 1), (741, 1), (1374, 1)],\n",
       " [(59, 1), (145, 1), (651, 1), (918, 1), (1375, 1), (1376, 1)],\n",
       " [(250, 1), (415, 1), (494, 1), (990, 1), (1377, 1)],\n",
       " [(1101, 1), (1104, 1), (1378, 1), (1379, 1), (1380, 1)],\n",
       " [(81, 1), (441, 1), (489, 1), (767, 1), (1381, 1), (1382, 1)],\n",
       " [(319, 1), (978, 1), (1383, 1), (1384, 1), (1385, 1)],\n",
       " [(129, 1), (611, 1), (847, 1), (1386, 1), (1387, 1), (1388, 1)],\n",
       " [(387, 1), (533, 1), (758, 1), (1389, 1), (1390, 1), (1391, 1)],\n",
       " [(156, 1), (423, 1), (1025, 1), (1392, 1), (1393, 1), (1394, 1)],\n",
       " [(678, 1), (954, 1), (1395, 1), (1396, 1)],\n",
       " [(351, 1), (1076, 1), (1264, 1), (1395, 1)],\n",
       " [(15, 1), (419, 1), (420, 1), (1397, 1), (1398, 1)],\n",
       " [(300, 1), (419, 1), (1205, 1), (1397, 1), (1399, 1), (1400, 1)],\n",
       " [(33, 1), (116, 1), (1401, 1), (1402, 1), (1403, 1)],\n",
       " [(50, 1), (284, 1), (892, 1), (1404, 1), (1405, 1), (1406, 1)],\n",
       " [(404, 1), (1319, 1), (1407, 1), (1408, 1), (1409, 1)],\n",
       " [(17, 1), (52, 1), (1200, 1), (1201, 1), (1407, 1), (1410, 1)],\n",
       " [(49, 1), (73, 1), (531, 1), (618, 1), (1411, 1), (1412, 1)],\n",
       " [(8, 1), (266, 1), (747, 1), (1046, 1)],\n",
       " [(8, 1), (232, 1), (1046, 1), (1413, 1), (1414, 1), (1415, 1)],\n",
       " [(34, 1), (161, 1), (162, 1), (1416, 1)],\n",
       " [(16, 1), (35, 1), (615, 1), (699, 1), (892, 1), (1068, 1), (1400, 1)],\n",
       " [(45, 1), (509, 1), (540, 1), (1417, 1), (1418, 1)],\n",
       " [(16, 1), (305, 1), (1345, 1), (1419, 1), (1420, 1), (1421, 1), (1422, 1)],\n",
       " [(60, 1), (188, 1), (667, 1), (833, 1), (1423, 1), (1424, 1)],\n",
       " [(115, 1), (170, 1), (696, 1), (1425, 1), (1426, 1), (1427, 1)],\n",
       " [(641, 1), (1428, 1), (1429, 1), (1430, 1)],\n",
       " [(214, 1), (244, 1), (276, 1), (1431, 1), (1432, 1)],\n",
       " [(781, 1), (782, 1), (1433, 1), (1434, 1), (1435, 1)],\n",
       " [(61, 1), (96, 1), (255, 1), (613, 1), (1436, 1), (1437, 1)],\n",
       " [(37, 1), (1234, 1), (1438, 1), (1439, 1)],\n",
       " [(255, 1), (1353, 1), (1390, 1), (1440, 1), (1441, 1), (1442, 1), (1443, 1)],\n",
       " [(81, 1), (188, 1), (250, 1), (460, 1), (802, 1), (826, 1)],\n",
       " [(43, 1), (81, 1), (710, 1), (1444, 1), (1445, 1)],\n",
       " [(163, 1), (1446, 1), (1447, 1), (1448, 1)],\n",
       " [(1449, 1), (1450, 1), (1451, 1), (1452, 1), (1453, 1)],\n",
       " [(250, 1), (1173, 1), (1450, 1), (1451, 1), (1452, 1), (1454, 1)],\n",
       " [(375, 1),\n",
       "  (705, 1),\n",
       "  (1035, 1),\n",
       "  (1110, 1),\n",
       "  (1350, 1),\n",
       "  (1455, 1),\n",
       "  (1456, 1),\n",
       "  (1457, 1)],\n",
       " [(1151, 1), (1458, 1), (1459, 1)],\n",
       " [(28, 1), (1460, 1), (1461, 1), (1462, 1), (1463, 1)],\n",
       " [(232, 1), (1414, 1), (1460, 1), (1464, 1), (1465, 1)],\n",
       " [(78, 1), (232, 1), (1414, 1), (1460, 1), (1464, 1)],\n",
       " [(11, 1), (224, 1), (521, 1), (699, 1), (1391, 1)],\n",
       " [(8, 1), (241, 1), (1466, 1), (1467, 1)],\n",
       " [(1337, 1), (1468, 1), (1469, 1), (1470, 1)],\n",
       " [(318, 1), (825, 1), (1471, 1), (1472, 1)],\n",
       " [(368, 1), (370, 1), (537, 1), (1135, 1), (1473, 1)],\n",
       " [(91, 1), (275, 1), (453, 1), (1474, 1)],\n",
       " [(49, 1), (210, 1), (407, 1), (1475, 1), (1476, 1), (1477, 1), (1478, 1)],\n",
       " [(14, 1), (425, 1), (668, 1), (1479, 1), (1480, 1), (1481, 1)],\n",
       " [(6, 1), (189, 1), (840, 1), (841, 1), (1413, 1), (1482, 1)],\n",
       " [(357, 1),\n",
       "  (423, 1),\n",
       "  (802, 1),\n",
       "  (846, 1),\n",
       "  (978, 1),\n",
       "  (1172, 1),\n",
       "  (1384, 1),\n",
       "  (1483, 1)],\n",
       " [(145, 1), (418, 1), (423, 1), (1484, 1), (1485, 1), (1486, 1), (1487, 1)],\n",
       " [(66, 1), (423, 1), (570, 1), (588, 1), (978, 1)],\n",
       " [(212, 1), (452, 1), (508, 1), (611, 1), (917, 1), (920, 1)],\n",
       " [(983, 1), (1266, 1), (1488, 1), (1489, 1)],\n",
       " [(1161, 1), (1183, 1), (1391, 1), (1490, 1), (1491, 1)],\n",
       " [(162, 1), (1110, 1), (1492, 1), (1493, 1), (1494, 1)],\n",
       " [(1290, 1), (1495, 1), (1496, 1), (1497, 1), (1498, 1)],\n",
       " [(42, 1), (1499, 1), (1500, 1), (1501, 1)],\n",
       " [(42, 1), (570, 1), (1096, 1)],\n",
       " [(42, 1), (60, 1), (847, 1), (1135, 1), (1502, 1), (1503, 1)],\n",
       " [(42, 1), (508, 1), (1039, 1), (1162, 1)],\n",
       " [(42, 1), (424, 1), (617, 1), (705, 1), (1306, 1), (1504, 1), (1505, 1)],\n",
       " [(13, 1), (42, 1), (206, 1), (696, 1), (1506, 1)],\n",
       " [(42, 1), (115, 1), (695, 1), (1507, 1)],\n",
       " [(482, 1), (722, 1), (1508, 1), (1509, 1), (1510, 1), (1511, 1)],\n",
       " [(165, 1), (166, 1), (536, 1), (678, 1), (1512, 1), (1513, 1), (1514, 1)],\n",
       " [(1217, 1), (1515, 1), (1516, 1), (1517, 1)],\n",
       " [(723, 1), (811, 1), (812, 1), (1065, 1), (1151, 1)],\n",
       " [(761, 1), (901, 1), (1442, 1), (1443, 1), (1518, 1)],\n",
       " [(33, 1), (163, 1), (305, 1), (1519, 1), (1520, 1)],\n",
       " [(1521, 1), (1522, 1), (1523, 1)],\n",
       " [(336, 1), (883, 1), (1524, 1), (1525, 1), (1526, 1), (1527, 1)],\n",
       " [(201, 1), (1528, 1), (1529, 1), (1530, 1), (1531, 1)],\n",
       " [(115, 1), (626, 1), (1181, 1), (1532, 1), (1533, 1)],\n",
       " [(1142, 1), (1534, 1), (1535, 1), (1536, 1)],\n",
       " [(1236, 1), (1245, 1), (1291, 1), (1537, 1)],\n",
       " [(453, 1), (1538, 1), (1539, 1)],\n",
       " [(269, 1), (413, 1), (453, 1), (1540, 1), (1541, 1)],\n",
       " [(419, 1), (752, 1), (1503, 1), (1542, 1), (1543, 1)],\n",
       " [(250, 1), (424, 1), (730, 1), (927, 1), (1544, 1), (1545, 1)],\n",
       " [(520, 1), (570, 1), (1217, 1), (1546, 1)],\n",
       " [(145, 1),\n",
       "  (300, 1),\n",
       "  (301, 1),\n",
       "  (497, 1),\n",
       "  (787, 1),\n",
       "  (867, 1),\n",
       "  (1547, 1),\n",
       "  (1548, 1)],\n",
       " [(115, 1), (221, 1), (533, 1), (695, 1), (1549, 1)],\n",
       " [(188, 1), (222, 1), (1076, 1), (1545, 1), (1550, 1)],\n",
       " [(28, 1), (226, 1), (227, 1), (941, 1), (1360, 1), (1551, 1)],\n",
       " [(250, 1), (282, 1), (301, 1), (1390, 1), (1552, 1)],\n",
       " [(281, 1), (463, 1), (611, 1), (1020, 1), (1553, 1), (1554, 1)],\n",
       " [(21, 1), (611, 1), (947, 1), (949, 1), (1032, 1)],\n",
       " [(430, 1), (449, 1), (847, 1), (1555, 1), (1556, 1), (1557, 1), (1558, 1)],\n",
       " [(718, 1), (953, 1), (1283, 1), (1559, 1), (1560, 1)],\n",
       " [(1561, 1), (1562, 1), (1563, 1), (1564, 1)],\n",
       " [(88, 1), (1565, 1), (1566, 1), (1567, 1)],\n",
       " [(33, 1), (60, 1), (489, 1), (1258, 1), (1568, 1)],\n",
       " [(10, 1), (362, 1), (1158, 1), (1569, 1)],\n",
       " [(261, 1), (262, 1), (430, 1), (624, 1), (1320, 1)],\n",
       " [(281, 1), (570, 1), (1570, 1), (1571, 1), (1572, 1), (1573, 1)],\n",
       " [(281, 1), (430, 1), (520, 1), (1574, 1), (1575, 1)],\n",
       " [(310, 1), (311, 1), (1576, 1), (1577, 1), (1578, 1)],\n",
       " [(163, 1), (300, 1), (366, 1), (1359, 1), (1579, 1)],\n",
       " [(463, 1), (907, 1), (1558, 1), (1580, 1), (1581, 1), (1582, 1)],\n",
       " [(316, 1), (565, 1), (1583, 1), (1584, 1), (1585, 1), (1586, 1)],\n",
       " [(11, 1), (441, 1), (998, 1), (1587, 1), (1588, 1)],\n",
       " [(230, 1), (1327, 1), (1589, 1), (1590, 1)],\n",
       " [(858, 1), (1081, 1), (1591, 1), (1592, 1), (1593, 1)],\n",
       " [(255, 1), (740, 1), (1594, 1), (1595, 1), (1596, 1)],\n",
       " [(541, 1), (667, 1), (1041, 1), (1075, 1), (1597, 1), (1598, 1)],\n",
       " [(379, 1), (1180, 1), (1599, 1), (1600, 1), (1601, 1)],\n",
       " [(719, 1), (1599, 1), (1602, 1), (1603, 1), (1604, 1)],\n",
       " [(45, 1), (468, 1), (1605, 1), (1606, 1), (1607, 1)],\n",
       " [(269, 1), (611, 1), (785, 1), (1270, 1), (1608, 1)],\n",
       " [(319, 1), (320, 1), (1187, 1)],\n",
       " [(19, 1), (420, 1), (536, 1), (1609, 1), (1610, 1)],\n",
       " [(81, 1), (255, 1), (635, 1), (1611, 1), (1612, 1), (1613, 1)],\n",
       " [(261, 1), (262, 1), (461, 1), (1537, 1), (1614, 1), (1615, 1)],\n",
       " [(295, 1), (558, 1), (1616, 1), (1617, 1)],\n",
       " [(507, 1), (513, 1), (1618, 1), (1619, 1), (1620, 1)],\n",
       " [(11, 1), (1084, 1), (1155, 1), (1465, 1), (1621, 1)],\n",
       " [(635, 1), (1622, 1), (1623, 1), (1624, 1), (1625, 1)],\n",
       " [(42, 1), (755, 1), (756, 1), (757, 1), (1626, 1)],\n",
       " [(705, 1), (719, 1), (1035, 1), (1353, 1), (1627, 1), (1628, 1)],\n",
       " [(28, 1), (1563, 1), (1596, 1), (1629, 1), (1630, 1)],\n",
       " [(189, 1), (497, 1), (501, 1), (1631, 1), (1632, 1)],\n",
       " [(69, 1), (414, 1), (988, 1), (1633, 1)],\n",
       " [(723, 1), (1634, 1), (1635, 1), (1636, 1), (1637, 1)],\n",
       " [(1638, 1), (1639, 1), (1640, 1), (1641, 1)],\n",
       " [(69, 1), (265, 1), (357, 1), (1152, 1), (1642, 1), (1643, 1), (1644, 1)],\n",
       " [(1645, 1), (1646, 1), (1647, 1), (1648, 1), (1649, 1), (1650, 1)],\n",
       " [(210, 1), (249, 1), (318, 1), (1651, 1), (1652, 1), (1653, 1), (1654, 1)],\n",
       " [(250, 1), (318, 1), (346, 1), (371, 1), (1655, 1), (1656, 1)],\n",
       " [(318, 1), (346, 1), (371, 1), (1656, 1)],\n",
       " [(135, 1), (318, 1), (803, 1), (1077, 1), (1569, 1), (1657, 1)],\n",
       " [(318, 1), (420, 1), (1658, 1), (1659, 1), (1660, 1)],\n",
       " [(318, 1), (420, 1), (1103, 1)],\n",
       " [(318, 1), (379, 1), (1103, 1), (1661, 1), (1662, 1)],\n",
       " [(318, 1), (346, 1), (379, 1), (1663, 1), (1664, 1)],\n",
       " [(318, 1), (346, 1), (1100, 1), (1656, 1)],\n",
       " [(250, 1), (318, 1), (494, 1), (635, 1), (1219, 1), (1665, 1)],\n",
       " [(318, 1), (932, 1), (1237, 1), (1666, 1), (1667, 1)],\n",
       " [(68, 1), (69, 1), (318, 1), (1028, 1), (1668, 1), (1669, 1)],\n",
       " [(336, 1), (583, 1), (584, 1), (1670, 1), (1671, 1), (1672, 1)],\n",
       " [(394, 1), (606, 1), (866, 1), (1673, 1)],\n",
       " [(11, 1), (66, 1), (817, 1), (1277, 1), (1674, 1), (1675, 1)],\n",
       " [(224, 1), (1676, 1), (1677, 1), (1678, 1)],\n",
       " [(69, 1), (414, 1), (508, 1), (570, 1), (1679, 1), (1680, 1)],\n",
       " [(79, 1), (130, 1), (749, 1), (1681, 1), (1682, 1), (1683, 1)],\n",
       " [(1019, 1), (1684, 1), (1685, 1), (1686, 1), (1687, 1)],\n",
       " [(149, 1), (276, 1), (277, 1), (1688, 1)],\n",
       " [(565, 1), (756, 1), (1236, 1), (1689, 1), (1690, 1)],\n",
       " [(130, 1), (1076, 1), (1174, 1), (1295, 1), (1691, 1), (1692, 1)],\n",
       " [(438, 1), (767, 1), (799, 1), (828, 1), (1360, 1), (1693, 1)],\n",
       " [(28, 1), (165, 1), (977, 1), (1025, 1), (1694, 1), (1695, 1), (1696, 1)],\n",
       " [(414, 1), (438, 1), (1039, 1), (1147, 1), (1697, 1), (1698, 1)],\n",
       " [(366, 1), (438, 1), (510, 1), (1699, 1)],\n",
       " [(14, 1), (667, 1), (668, 1), (1513, 1), (1700, 1), (1701, 1)],\n",
       " [(396, 1), (509, 1), (950, 1), (1513, 1), (1702, 1)],\n",
       " [(60, 1), (69, 1), (212, 1), (1703, 1), (1704, 1), (1705, 1)],\n",
       " [(163, 1), (200, 1), (202, 1), (428, 1), (992, 1), (1706, 1)],\n",
       " [(33, 1), (200, 1), (306, 1), (1707, 1), (1708, 1)],\n",
       " [(60, 1),\n",
       "  (189, 1),\n",
       "  (200, 1),\n",
       "  (390, 1),\n",
       "  (438, 1),\n",
       "  (1709, 1),\n",
       "  (1710, 1),\n",
       "  (1711, 1),\n",
       "  (1712, 1)],\n",
       " [(127, 1), (464, 1), (957, 1), (1713, 1)],\n",
       " [(266, 1), (931, 1), (1714, 1)],\n",
       " [(52, 1), (489, 1), (767, 1), (1035, 1), (1715, 1), (1716, 1), (1717, 1)],\n",
       " [(28, 1), (312, 1), (1718, 1), (1719, 1)],\n",
       " [(459, 1), (1452, 1), (1720, 1), (1721, 1), (1722, 1)],\n",
       " [(95, 1), (250, 1), (494, 1), (495, 1), (1723, 1)],\n",
       " [(339, 1), (342, 1), (628, 1), (629, 1), (1084, 1), (1724, 1)],\n",
       " [(497, 1), (501, 1), (1725, 1), (1726, 1)],\n",
       " [(301, 1), (497, 1), (501, 1), (1727, 1)],\n",
       " [(40, 1), (300, 1), (398, 1), (468, 1), (470, 1), (497, 1)],\n",
       " [(18, 1), (978, 1), (1384, 1)],\n",
       " [(49, 1), (173, 1), (635, 1), (1362, 1), (1384, 1), (1728, 1)],\n",
       " [(60, 1), (508, 1), (1030, 1), (1729, 1), (1730, 1), (1731, 1)],\n",
       " [(482, 1), (556, 1), (1732, 1), (1733, 1)],\n",
       " [(485, 1), (716, 1), (1734, 1), (1735, 1), (1736, 1)],\n",
       " [(434, 1), (691, 1), (1737, 1)],\n",
       " [(43, 1), (473, 1), (1738, 1)],\n",
       " [(155, 1), (1004, 1), (1496, 1), (1739, 1)],\n",
       " [(191, 1), (524, 1), (861, 1), (1162, 1), (1740, 1), (1741, 1)],\n",
       " [(276, 1), (318, 1), (678, 1), (1103, 1)],\n",
       " [(276, 1), (388, 1), (693, 1), (1192, 1), (1742, 1)],\n",
       " [(276, 1), (277, 1), (494, 1), (1743, 1)],\n",
       " [(11, 1), (1216, 1), (1744, 1), (1745, 1)],\n",
       " [(341, 1), (463, 1), (957, 1), (1032, 1), (1746, 1), (1747, 1)],\n",
       " [(143, 1), (341, 1), (489, 1), (1748, 1), (1749, 1), (1750, 1)],\n",
       " [(383, 1), (551, 1), (856, 1), (857, 1), (858, 1)],\n",
       " [(98, 1), (468, 1), (551, 1), (1751, 1), (1752, 1)],\n",
       " [(44, 1), (93, 1), (551, 1), (1346, 1), (1753, 1)],\n",
       " [(188, 1), (370, 1), (423, 1), (424, 1), (757, 1), (1754, 1)],\n",
       " [(189, 1), (358, 1), (668, 1), (1384, 1), (1755, 1), (1756, 1)],\n",
       " [(957, 1), (961, 1), (1331, 1), (1597, 1), (1757, 1)],\n",
       " [(570, 1), (588, 1), (918, 1), (1570, 1)],\n",
       " [(570, 1), (1028, 1), (1245, 1), (1758, 1), (1759, 1)],\n",
       " [(5, 1), (159, 1), (570, 1), (693, 1), (1760, 1)],\n",
       " [(428, 1), (1032, 1), (1708, 1), (1761, 1)],\n",
       " [(149, 1), (189, 1), (200, 1), (453, 1), (455, 1), (570, 1)],\n",
       " [(31, 1), (189, 1), (453, 1), (570, 1), (1762, 1)],\n",
       " [(66, 1), (68, 1), (69, 1), (275, 1), (570, 1)],\n",
       " [(924, 1), (1396, 1), (1763, 1), (1764, 1), (1765, 1)],\n",
       " [(8, 1), (430, 1), (624, 1), (1482, 1)],\n",
       " [(15, 1), (419, 1), (610, 1), (1233, 1), (1766, 1), (1767, 1), (1768, 1)],\n",
       " [(1365, 1), (1464, 1), (1563, 1), (1769, 1), (1770, 1), (1771, 1)],\n",
       " [(489, 1), (1772, 1), (1773, 1)],\n",
       " [(23, 1), (45, 1), (561, 1), (1774, 1), (1775, 1)],\n",
       " [(69, 1), (1302, 1), (1670, 1), (1672, 1), (1776, 1)],\n",
       " [(387, 1), (421, 1), (533, 1), (760, 1)],\n",
       " [(190, 1), (371, 1), (1777, 1), (1778, 1)],\n",
       " [(463, 1), (772, 1), (1779, 1), (1780, 1), (1781, 1)],\n",
       " [(36, 1), (512, 1), (723, 1), (1274, 1)],\n",
       " [(17, 1), (621, 1), (1664, 1), (1782, 1)],\n",
       " [(8, 1), (517, 1), (1042, 1), (1414, 1)],\n",
       " [(261, 1), (275, 1), (295, 1), (1783, 1), (1784, 1)],\n",
       " [(8, 1), (747, 1), (1413, 1), (1414, 1), (1415, 1), (1785, 1)],\n",
       " [(189, 1), (257, 1), (468, 1), (556, 1), (626, 1), (1786, 1)],\n",
       " [(664, 1), (1787, 1), (1788, 1), (1789, 1)],\n",
       " [(73, 1), (300, 1), (301, 1), (398, 1), (1421, 1), (1790, 1)],\n",
       " [(78, 1), (407, 1), (847, 1), (991, 1), (1432, 1), (1791, 1)],\n",
       " [(20, 1), (159, 1), (1792, 1), (1793, 1), (1794, 1)],\n",
       " [(20, 1), (68, 1), (200, 1), (508, 1), (1793, 1), (1795, 1)],\n",
       " [(273, 1), (388, 1), (653, 1), (695, 1), (1503, 1), (1796, 1)],\n",
       " [(229, 1), (536, 1), (695, 1), (1797, 1), (1798, 1)],\n",
       " [(78, 1), (430, 1), (723, 1), (1136, 1), (1794, 1), (1799, 1)],\n",
       " [(724, 1), (1771, 1), (1800, 1), (1801, 1), (1802, 1), (1803, 1)],\n",
       " [(133, 1), (1363, 1), (1804, 1), (1805, 1), (1806, 1)],\n",
       " [(391, 1), (1805, 1), (1807, 1), (1808, 1), (1809, 1), (1810, 1)],\n",
       " [(215, 1), (577, 1), (1805, 1), (1811, 1), (1812, 1)],\n",
       " [(655, 1), (699, 1), (1593, 1), (1813, 1)],\n",
       " [(386, 1), (623, 1), (1814, 1), (1815, 1), (1816, 1), (1817, 1)],\n",
       " [(1818, 1), (1819, 1), (1820, 1), (1821, 1)],\n",
       " [(556, 1), (860, 1), (1671, 1), (1822, 1), (1823, 1), (1824, 1)],\n",
       " [(79, 1), (337, 1), (433, 1), (1679, 1)],\n",
       " [(384, 1), (433, 1), (692, 1), (1825, 1), (1826, 1)],\n",
       " [(338, 1), (433, 1), (1827, 1), (1828, 1)],\n",
       " [(60, 1), (555, 1), (1829, 1), (1830, 1), (1831, 1), (1832, 1)],\n",
       " [(33, 1), (991, 1), (1047, 1), (1558, 1), (1605, 1), (1833, 1)],\n",
       " [(66, 1), (79, 1), (457, 1), (748, 1)],\n",
       " [(41, 1), (261, 1), (262, 1), (1834, 1), (1835, 1)],\n",
       " [(954, 1), (1647, 1), (1836, 1), (1837, 1), (1838, 1)],\n",
       " [(59, 1), (97, 1), (1839, 1), (1840, 1)],\n",
       " [(935, 1), (1841, 2), (1842, 1), (1843, 1)],\n",
       " [(188, 1), (430, 1), (453, 1), (520, 1), (709, 1), (1753, 1)],\n",
       " [(64, 1), (173, 1), (453, 1), (520, 1), (570, 1), (712, 1)],\n",
       " [(149, 1), (455, 1), (570, 1), (1844, 1)],\n",
       " [(423, 1), (424, 1), (1845, 1), (1846, 1), (1847, 1)],\n",
       " [(1719, 1), (1848, 1), (1849, 1)],\n",
       " [(49, 1), (269, 1), (1850, 1), (1851, 1)],\n",
       " [(147, 1), (724, 1), (1308, 1), (1852, 1)],\n",
       " [(320, 1), (722, 1), (724, 1), (1853, 1)],\n",
       " [(56, 1), (60, 1), (250, 1), (739, 1), (1854, 1), (1855, 1)],\n",
       " [(741, 1), (1822, 1), (1856, 1), (1857, 1), (1858, 1)],\n",
       " [(110, 1), (170, 1), (177, 1), (630, 1), (1630, 1), (1859, 1)],\n",
       " [(473, 1), (893, 1), (943, 1), (1245, 1), (1860, 1), (1861, 1)],\n",
       " [(244, 1), (957, 1), (1641, 1), (1862, 1)],\n",
       " [(132, 1), (281, 1), (1076, 1), (1497, 1), (1863, 1)],\n",
       " [(8, 1), (747, 1), (1414, 1), (1864, 1)],\n",
       " [(5, 1), (710, 1), (711, 1), (1537, 1), (1865, 1), (1866, 1)],\n",
       " [(173, 1), (782, 1), (1189, 1), (1867, 1)],\n",
       " [(98, 1), (379, 1), (615, 1), (690, 1), (1868, 1)],\n",
       " [(457, 1), (1338, 1), (1869, 1), (1870, 1), (1871, 1), (1872, 1)],\n",
       " [(241, 1), (1181, 1), (1873, 1), (1874, 1), (1875, 1), (1876, 1)],\n",
       " [(36, 1), (45, 1), (93, 1), (441, 1), (489, 1), (729, 1), (767, 1)],\n",
       " [(705, 1), (913, 1), (1877, 2)],\n",
       " [(171, 1), (592, 1), (1878, 1), (1879, 1), (1880, 1)],\n",
       " [(111, 1), (1090, 1), (1881, 1), (1882, 1), (1883, 1), (1884, 1)],\n",
       " [(56, 1), (250, 1), (438, 1), (1885, 1), (1886, 1), (1887, 1)],\n",
       " [(146, 1), (716, 1), (1468, 1), (1469, 1), (1888, 1), (1889, 1)],\n",
       " [(720, 1), (1890, 1), (1891, 1), (1892, 1)],\n",
       " [(1230, 1), (1296, 1), (1460, 1), (1464, 1)],\n",
       " [(5, 1), (11, 1), (22, 1), (1047, 1), (1558, 1)],\n",
       " [(28, 1), (62, 1), (1461, 1), (1893, 1), (1894, 1)],\n",
       " [(1530, 1), (1894, 1), (1895, 1), (1896, 1), (1897, 1)],\n",
       " [(43, 1), (1272, 1), (1898, 1), (1899, 1), (1900, 1)],\n",
       " [(1558, 1), (1901, 1), (1902, 1), (1903, 1)],\n",
       " [(327, 1), (387, 1), (1062, 1), (1386, 1), (1408, 1), (1904, 1)],\n",
       " [(1578, 1), (1905, 1), (1906, 1), (1907, 1), (1908, 1), (1909, 1)],\n",
       " [(730, 1), (1343, 1), (1910, 1), (1911, 1)],\n",
       " [(28, 1), (482, 1), (843, 1), (1912, 1)],\n",
       " [(276, 1), (350, 1), (686, 1), (915, 1), (1108, 1), (1913, 1)],\n",
       " [(88, 1), (727, 1), (728, 1), (1420, 1), (1914, 1)],\n",
       " [(18, 1), (163, 1), (167, 1), (266, 1), (941, 1)],\n",
       " [(43, 1), (468, 1), (1142, 1), (1915, 1), (1916, 1)],\n",
       " [(188, 1), (453, 1), (468, 1), (570, 1), (1230, 1), (1917, 1)],\n",
       " [(826, 1), (1918, 1), (1919, 1), (1920, 1)],\n",
       " [(1921, 1), (1922, 1), (1923, 1), (1924, 1), (1925, 1)],\n",
       " [(1230, 1), (1926, 1), (1927, 1), (1928, 1)],\n",
       " [(36, 1), (1296, 1), (1929, 1), (1930, 1), (1931, 1)],\n",
       " [(17, 1), (1560, 1), (1932, 1), (1933, 1)],\n",
       " [(1295, 1), (1934, 1), (1935, 1), (1936, 1), (1937, 1)],\n",
       " [(1259, 1), (1260, 1), (1938, 1), (1939, 1)],\n",
       " [(305, 1), (449, 1), (1260, 1), (1940, 1), (1941, 1)],\n",
       " [(1226, 1), (1295, 1), (1942, 1), (1943, 1), (1944, 1)],\n",
       " [(953, 1), (1945, 1), (1946, 1), (1947, 1), (1948, 1)],\n",
       " [(450, 1), (767, 1), (768, 1), (1949, 1)],\n",
       " [(1210, 1), (1950, 1), (1951, 1)],\n",
       " [(43, 1), (324, 1), (692, 1), (974, 1), (1952, 1), (1953, 1)],\n",
       " [(173, 1), (1338, 1), (1568, 1), (1677, 1), (1954, 1)],\n",
       " [(173, 1), (438, 1), (1568, 1), (1578, 1), (1955, 1)],\n",
       " [(135, 1), (250, 1), (343, 1), (590, 1), (1956, 1)],\n",
       " [(722, 1), (1494, 1), (1712, 1), (1957, 1)],\n",
       " [(268, 1), (1481, 1), (1564, 1), (1958, 1), (1959, 1), (1960, 1)],\n",
       " [(88, 1), (1035, 1), (1565, 1), (1961, 1)],\n",
       " [(826, 1), (1467, 1), (1637, 1), (1962, 1), (1963, 1)],\n",
       " [(482, 1), (667, 1), (1041, 1), (1598, 1), (1964, 1)],\n",
       " [(43, 1), (1737, 1), (1900, 1), (1965, 1), (1966, 1)],\n",
       " [(88, 1), (255, 2), (913, 1), (1613, 1), (1895, 1)],\n",
       " [(43, 1), (255, 1), (337, 1), (449, 1), (1967, 1), (1968, 1)],\n",
       " [(1461, 1), (1969, 1), (1970, 1), (1971, 1)],\n",
       " [(1193, 1), (1522, 1), (1972, 1), (1973, 1), (1974, 1), (1975, 1)],\n",
       " [(338, 1), (1025, 1), (1976, 1), (1977, 1)],\n",
       " [(42, 1), (699, 1), (1144, 1), (1978, 1), (1979, 1)],\n",
       " [(25, 1), (843, 1), (1511, 1), (1980, 1)],\n",
       " [(382, 1), (450, 1), (765, 1), (767, 1), (768, 1), (813, 1), (1679, 1)],\n",
       " [(215, 1), (1161, 1), (1981, 1), (1982, 1), (1983, 1), (1984, 1)],\n",
       " [(173, 1), (570, 1), (1541, 1), (1707, 1), (1985, 1)],\n",
       " [(62, 1), (1062, 1), (1822, 1), (1986, 1), (1987, 1), (1988, 1)],\n",
       " [(136, 1), (415, 1), (528, 1), (1989, 1), (1990, 1), (1991, 1)],\n",
       " [(237, 1), (977, 1), (1024, 1), (1992, 1)],\n",
       " [(171, 1), (592, 1), (1900, 1), (1993, 1), (1994, 1)],\n",
       " [(189, 1), (244, 1), (561, 1), (566, 1), (1995, 1), (1996, 1)],\n",
       " [(2, 1), (47, 1), (60, 1), (200, 1), (366, 1), (812, 1)],\n",
       " [(11, 1), (300, 1), (301, 1), (398, 1), (1997, 1)],\n",
       " [(1918, 1), (1948, 1), (1998, 1), (1999, 1), (2000, 1)],\n",
       " [(95, 1), (98, 1), (394, 1), (1296, 1), (2001, 1)],\n",
       " [(915, 1), (1414, 1), (1464, 1), (1561, 1), (2002, 1)],\n",
       " [(129, 1), (147, 1), (508, 1), (978, 1), (1172, 1), (1828, 1), (2003, 1)],\n",
       " [(107, 1), (628, 1), (1035, 1), (2004, 1), (2005, 1)],\n",
       " [(107, 1), (360, 1), (495, 1), (2004, 1), (2005, 1)],\n",
       " [(34, 1), (415, 1), (1252, 1), (2006, 1)],\n",
       " [(18, 1), (129, 1), (219, 1), (978, 1), (1384, 1), (2003, 1), (2007, 1)],\n",
       " [(276, 1), (423, 1), (2008, 1), (2009, 1), (2010, 1)],\n",
       " [(163, 1), (276, 1), (915, 1), (2011, 1)],\n",
       " [(163, 1), (276, 1), (346, 1), (2012, 1), (2013, 1), (2014, 1)],\n",
       " [(111, 1), (668, 1), (1216, 1), (1477, 1), (1968, 1)],\n",
       " [(283, 1), (665, 1), (668, 1), (1216, 1), (1288, 1), (1513, 1), (2015, 1)],\n",
       " [(1209, 1), (1918, 1), (2016, 1)],\n",
       " [(395, 1), (509, 1), (2017, 1), (2018, 1), (2019, 1)],\n",
       " [(545, 1), (772, 1), (1409, 1), (1571, 1), (2020, 1)],\n",
       " [(16, 1), (56, 1), (370, 1), (710, 1), (1320, 1), (2021, 1)],\n",
       " [(5, 1), (455, 1), (520, 1), (570, 1), (1570, 1)],\n",
       " [(73, 1), (453, 1), (570, 1), (2022, 1), (2023, 1), (2024, 1)],\n",
       " [(36, 1), (208, 1), (265, 1), (879, 1), (2025, 1), (2026, 1)],\n",
       " [(50, 1), (445, 1), (563, 1), (573, 1), (763, 1), (2027, 1)],\n",
       " [(56, 1), (1515, 1), (2028, 1), (2029, 1), (2030, 1)],\n",
       " [(37, 1), (230, 1), (1066, 1), (1908, 1)],\n",
       " [(1391, 1), (1736, 1), (1880, 1), (2031, 1), (2032, 1)],\n",
       " [(1559, 1), (2033, 1), (2034, 1), (2035, 1), (2036, 1), (2037, 1)],\n",
       " [(18, 1), (188, 1), (802, 1), (1117, 1), (1424, 1), (2038, 1)],\n",
       " [(1931, 1), (2039, 1), (2040, 1), (2041, 1), (2042, 1)],\n",
       " [(276, 1), (1650, 1), (2043, 1), (2044, 1)],\n",
       " [(1075, 1), (1245, 1), (1274, 1), (2045, 1), (2046, 1)],\n",
       " [(747, 1), (867, 1), (1471, 1), (1477, 1), (2047, 1), (2048, 1)],\n",
       " [(724, 1), (777, 1), (1925, 1), (2049, 1), (2050, 1)],\n",
       " [(103, 1), (494, 1), (823, 1), (2051, 1), (2052, 1), (2053, 1)],\n",
       " [(249, 1), (563, 1), (1452, 1), (1651, 1), (1652, 1), (2054, 1)],\n",
       " [(8, 1), (19, 1), (166, 1), (494, 1), (678, 1), (1042, 1), (1513, 1)],\n",
       " [(56, 1), (62, 1), (489, 1), (2055, 1), (2056, 1), (2057, 1)],\n",
       " [(28, 1), (714, 1), (1437, 1), (1719, 1), (1848, 1), (2058, 1)],\n",
       " [(642, 1), (2059, 1), (2060, 1)],\n",
       " [(149, 1), (275, 1), (927, 1), (1606, 1), (1656, 1)],\n",
       " [(103, 1), (230, 1), (705, 1), (2061, 1), (2062, 1)],\n",
       " [(436, 1), (450, 1), (516, 1), (655, 1), (1293, 1), (2063, 1), (2064, 1)],\n",
       " [(473, 1), (663, 1), (1294, 1), (1515, 1), (1635, 1), (2065, 1)],\n",
       " [(42, 1), (145, 1), (422, 1), (1886, 1), (2066, 1), (2067, 1)],\n",
       " [(923, 1), (1448, 1), (1884, 1), (2068, 1)],\n",
       " [(8, 1), (18, 1), (167, 1), (266, 1)],\n",
       " [(43, 1), (433, 1), (770, 1), (1237, 1)],\n",
       " [(628, 1), (1338, 1), (2069, 1), (2070, 1)],\n",
       " [(43, 1), (103, 1), (396, 1), (617, 1), (2071, 1)],\n",
       " [(759, 1), (1870, 1), (2072, 1), (2073, 1)],\n",
       " [(8, 1), (266, 1), (594, 1), (628, 1), (2074, 1)],\n",
       " [(103, 1), (1908, 1), (2075, 1), (2076, 1), (2077, 1)],\n",
       " [(8, 1), (163, 1), (167, 1), (635, 1), (1414, 1)],\n",
       " [(28, 1), (343, 1), (1831, 1), (2078, 1), (2079, 1), (2080, 1)],\n",
       " [(18, 1), (171, 1), (588, 1), (1737, 1), (2081, 1), (2082, 1)],\n",
       " [(11, 1), (73, 1), (188, 1), (211, 1), (709, 1), (2083, 1)],\n",
       " [(47, 1), (276, 1), (468, 1), (2008, 1), (2084, 1)],\n",
       " [(199, 1), (265, 1), (724, 1), (1076, 1)],\n",
       " [(206, 1), (329, 1), (791, 1), (2085, 1), (2086, 1), (2087, 1)],\n",
       " [(1088, 1), (1682, 1), (2088, 1)],\n",
       " [(957, 1), (2089, 1), (2090, 1), (2091, 1)],\n",
       " [(249, 1), (250, 1), (494, 1), (686, 1), (1186, 1), (2092, 1)],\n",
       " [(5, 1), (365, 1), (545, 1), (2093, 1), (2094, 1), (2095, 1)],\n",
       " [(295, 1), (752, 1), (847, 1), (960, 1), (2096, 1), (2097, 1)],\n",
       " [(361, 1), (2098, 1), (2099, 1), (2100, 1)],\n",
       " [(336, 1), (1046, 1), (1989, 1), (1995, 1), (2101, 1), (2102, 1)],\n",
       " [(34, 1), (441, 1), (1790, 1)],\n",
       " [(30, 1), (516, 1), (883, 1), (1247, 1), (2103, 1)],\n",
       " [(312, 1), (1084, 1), (1534, 1), (2104, 1)],\n",
       " [(189, 1), (2105, 1), (2106, 1), (2107, 1), (2108, 1)],\n",
       " [(43, 1), (343, 1), (604, 1), (801, 1), (2109, 1)],\n",
       " [(159, 1), (274, 1), (2110, 1), (2111, 1), (2112, 1), (2113, 1)],\n",
       " [(438, 1), (622, 1), (692, 1), (799, 1), (1133, 1)],\n",
       " [(423, 1), (857, 1), (892, 1), (974, 1), (976, 1), (2114, 1), (2115, 1)],\n",
       " [(978, 1), (2116, 1), (2117, 1), (2118, 1)],\n",
       " [(11, 1), (171, 1), (622, 1), (2119, 1)],\n",
       " [(674, 1), (856, 1), (1965, 1), (2120, 1)],\n",
       " [(1189, 1), (1644, 1), (2121, 1), (2122, 1), (2123, 1)],\n",
       " [(60, 1), (390, 1), (449, 1), (589, 1), (1469, 1), (2124, 1)],\n",
       " [(181, 1), (1300, 1), (1945, 1), (2125, 1), (2126, 1), (2127, 1)],\n",
       " [(197, 1), (1945, 1), (2128, 1)],\n",
       " [(197, 1), (771, 1), (1945, 1), (2128, 1), (2129, 1), (2130, 1)],\n",
       " [(57, 1), (1161, 1), (1162, 1), (1343, 1), (2131, 1)],\n",
       " [(255, 1), (365, 1), (749, 1), (2132, 1), (2133, 1)],\n",
       " [(212, 1), (918, 1), (2134, 1), (2135, 1), (2136, 1)],\n",
       " [(42, 1), (674, 1), (1491, 1), (2137, 1), (2138, 1), (2139, 1)],\n",
       " [(250, 1), (316, 1), (318, 1), (954, 1), (2140, 1), (2141, 1)],\n",
       " [(265, 1), (468, 1), (724, 1), (2142, 1), (2143, 1), (2144, 1)],\n",
       " [(319, 1), (434, 1), (1754, 1), (2145, 1)],\n",
       " [(36, 1), (686, 1), (1296, 1), (1719, 1), (2146, 1), (2147, 1)],\n",
       " [(56, 1), (726, 1), (727, 1), (1914, 1)],\n",
       " [(33, 1), (2148, 1), (2149, 1), (2150, 1)],\n",
       " [(8, 1), (266, 1), (284, 1), (2151, 1), (2152, 1), (2153, 1)],\n",
       " [(59, 1), (125, 1), (169, 1), (500, 1), (845, 1), (1424, 1)],\n",
       " [(92, 1), (473, 1), (2154, 1), (2155, 1), (2156, 1)],\n",
       " [(43, 1), (255, 1), (438, 1), (666, 1), (2031, 1), (2157, 1)],\n",
       " [(283, 1), (341, 1), (666, 1), (668, 1), (1513, 1), (2158, 1)],\n",
       " [(147, 1), (171, 1), (666, 1), (1900, 1), (2159, 1)],\n",
       " [(453, 1), (1285, 1), (2160, 1), (2161, 1), (2162, 1)],\n",
       " [(305, 1), (441, 1), (494, 1), (691, 1), (719, 1), (943, 1), (1663, 1)],\n",
       " [(207, 1), (767, 1), (827, 1), (2163, 1), (2164, 1)],\n",
       " [(207, 1), (796, 1), (880, 1), (1294, 1), (1295, 1), (2165, 1)],\n",
       " [(207, 1), (1637, 1), (2166, 1), (2167, 1)],\n",
       " [(355, 1), (1516, 1), (2168, 1), (2169, 1)],\n",
       " [(170, 1), (767, 1), (791, 1), (868, 1), (2170, 1)],\n",
       " [(227, 1), (693, 1), (1113, 1), (2171, 1), (2172, 1)],\n",
       " [(629, 1), (746, 1), (2101, 1), (2173, 1), (2174, 1)],\n",
       " [(45, 1), (78, 1), (508, 1), (929, 1), (1296, 1)],\n",
       " [(8, 1), (266, 1), (1771, 1), (2095, 1), (2175, 1), (2176, 1)],\n",
       " [(953, 1), (998, 1), (2177, 1), (2178, 1), (2179, 1)],\n",
       " [(159, 1), (450, 1), (1028, 1), (1950, 1)],\n",
       " [(240, 1), (1651, 1), (2180, 1), (2181, 1), (2182, 1)],\n",
       " [(817, 1), (923, 1), (1245, 1), (2183, 1), (2184, 1)],\n",
       " [(188, 1), (1189, 1), (2097, 1), (2185, 1), (2186, 1)],\n",
       " [(318, 1), (1694, 1), (2016, 1), (2187, 1), (2188, 1)],\n",
       " [(11, 1), (610, 1), (1561, 1), (2189, 1), (2190, 1)],\n",
       " [(265, 1), (724, 1), (1019, 1), (2190, 1), (2191, 1)],\n",
       " [(244, 1), (2192, 1), (2193, 1), (2194, 1), (2195, 1)],\n",
       " [(189, 1), (472, 1), (1561, 1), (2196, 1), (2197, 1)],\n",
       " [(177, 1), (823, 1), (2051, 1), (2052, 1), (2053, 1), (2198, 1)],\n",
       " [(402, 1), (423, 1), (767, 1), (1523, 1), (1948, 1), (2199, 1)],\n",
       " [(363, 1), (1800, 1), (2086, 1), (2200, 1), (2201, 1)],\n",
       " [(265, 1), (270, 1), (923, 1), (1129, 1), (2142, 1)],\n",
       " [(88, 1), (1961, 1), (2202, 1)],\n",
       " [(207, 1), (933, 1), (1963, 1), (2203, 1), (2204, 1)],\n",
       " [(171, 1), (468, 1), (1598, 1), (2205, 1), (2206, 1)],\n",
       " [(147, 1), (171, 1), (301, 1), (468, 1), (691, 1), (1900, 1), (2207, 1)],\n",
       " [(912, 1), (1024, 1), (1068, 1), (2208, 1)],\n",
       " [(504, 1), (1171, 1), (2209, 1)],\n",
       " [(318, 1), (371, 1), (1414, 1), (2210, 1), (2211, 1)],\n",
       " [(95, 1), (318, 1), (371, 1), (2212, 1)],\n",
       " [(318, 1), (346, 1), (371, 1), (1103, 1), (1108, 1)],\n",
       " [(318, 1), (923, 1), (1103, 1), (1664, 1)],\n",
       " [(163, 1), (318, 1), (1028, 1), (1448, 1), (1464, 1)],\n",
       " [(363, 1), (858, 1), (887, 1), (1035, 1), (2213, 1)],\n",
       " [(1200, 1), (2214, 1), (2215, 1), (2216, 1), (2217, 1), (2218, 1)],\n",
       " [(103, 1), (1260, 1), (1578, 1), (2219, 1), (2220, 1), (2221, 1)],\n",
       " [(295, 1), (772, 1), (1880, 1), (2222, 1), (2223, 1)],\n",
       " [(163, 1), (415, 1), (1615, 1), (2224, 1), (2225, 1)],\n",
       " [(1163, 1), (2226, 1)],\n",
       " [(169, 1), (950, 1), (2227, 1), (2228, 1), (2229, 1)],\n",
       " [(2230, 1)],\n",
       " [(78, 1), (413, 1), (2231, 1), (2232, 1), (2233, 1)],\n",
       " [(252, 1), (438, 1), (622, 1), (666, 1), (705, 1), (1018, 1), (2234, 1)],\n",
       " [(240, 1), (628, 1), (1083, 1), (2235, 1), (2236, 1), (2237, 1)],\n",
       " [(11, 1), (200, 1), (274, 1), (362, 1), (501, 1), (1983, 1)],\n",
       " [(484, 1), (1119, 1), (1168, 1), (1997, 1), (2238, 1)],\n",
       " [(33, 1), (175, 1), (1050, 1), (1051, 1), (2239, 1), (2240, 1)],\n",
       " [(69, 1), (1172, 1), (1928, 1), (2241, 1)],\n",
       " [(49, 1), (454, 1), (1172, 1), (1230, 1), (2242, 1), (2243, 1)],\n",
       " [(73, 1), (275, 1), (468, 1), (497, 1), (858, 1)],\n",
       " [(135, 1), (468, 1), (847, 1), (2006, 1), (2244, 1), (2245, 1)],\n",
       " [(28, 1), (1463, 1), (1523, 1), (1674, 1), (1695, 1), (2246, 1)],\n",
       " [(1190, 1), (1559, 1), (2247, 1), (2248, 1)],\n",
       " [(430, 1), (1800, 1), (2249, 1), (2250, 1), (2251, 1), (2252, 1)],\n",
       " [(276, 1), (495, 1), (1197, 1), (2253, 1), (2254, 1), (2255, 1)],\n",
       " [(276, 1), (410, 1), (621, 1), (2123, 1)],\n",
       " [(49, 1), (191, 1), (801, 1), (2109, 1), (2256, 1)],\n",
       " [(101, 1), (229, 1), (1230, 1), (2257, 1), (2258, 1), (2259, 1)],\n",
       " [(215, 1), (285, 1), (368, 1), (370, 1), (570, 1), (1292, 1)],\n",
       " [(37, 1), (434, 1), (1895, 1), (2260, 1)],\n",
       " [(681, 1), (902, 1), (1285, 1), (2261, 1), (2262, 1)],\n",
       " [(174, 1), (1019, 1), (1063, 1), (1066, 1), (1255, 1)],\n",
       " [(43, 1), (1195, 1), (1952, 1), (2263, 1)],\n",
       " [(229, 1), (276, 1), (915, 1), (1219, 1), (1245, 1)],\n",
       " [(1190, 1), (1645, 1), (2048, 1), (2248, 1), (2264, 1)],\n",
       " [(360, 1), (621, 1), (1190, 1), (2265, 1)],\n",
       " [(360, 1), (482, 1), (621, 1), (1190, 1)],\n",
       " [(200, 1), (283, 1), (285, 1), (1942, 1), (1943, 1), (1944, 1), (2161, 1)],\n",
       " [(642, 1), (2195, 1), (2246, 1), (2266, 1)],\n",
       " [(60, 1),\n",
       "  (489, 1),\n",
       "  (2267, 1),\n",
       "  (2268, 1),\n",
       "  (2269, 1),\n",
       "  (2270, 1),\n",
       "  (2271, 1),\n",
       "  (2272, 1)],\n",
       " [(200, 1), (261, 1), (412, 1), (2161, 1), (2273, 1), (2274, 1), (2275, 1)],\n",
       " [(1252, 1), (2276, 1), (2277, 1)],\n",
       " [(74, 1), (1252, 1), (2276, 1), (2277, 1), (2278, 1)],\n",
       " [(2279, 1), (2280, 1), (2281, 1)],\n",
       " [(52, 1), (212, 1), (508, 1), (1226, 1), (2282, 1)],\n",
       " [(465, 1), (961, 1), (1136, 1), (2283, 1), (2284, 1)],\n",
       " [(1559, 1), (1884, 1), (1928, 1), (2285, 1)],\n",
       " [(61, 1), (941, 1), (2148, 1), (2286, 1), (2287, 1)],\n",
       " [(621, 1), (1421, 1), (2288, 1), (2289, 1), (2290, 1)],\n",
       " [(237, 1), (470, 1), (785, 1), (1461, 1), (2291, 1), (2292, 1), (2293, 1)],\n",
       " [(44, 1), (441, 1), (737, 1), (2143, 1), (2294, 1)],\n",
       " [(1537, 1), (1793, 1), (2295, 1), (2296, 1), (2297, 1)],\n",
       " [(501, 1), (1285, 1), (2298, 1), (2299, 1)],\n",
       " [(57, 1), (79, 1), (433, 1), (2300, 1)],\n",
       " [(364, 1), (772, 1), (922, 1), (924, 1), (1328, 1)],\n",
       " [(43, 1), (181, 1), (337, 1), (777, 1), (1216, 1)],\n",
       " [(517, 1), (622, 1), (2103, 1), (2301, 1)],\n",
       " [(438, 1), (604, 1), (622, 1)],\n",
       " [(724, 1), (1076, 1), (1679, 1), (1925, 1), (2302, 1)],\n",
       " [(255, 1), (724, 1), (1208, 1)],\n",
       " [(69, 1), (570, 1), (1607, 1), (2303, 1), (2304, 1)],\n",
       " [(103, 1), (705, 1), (1035, 1), (2280, 1)],\n",
       " [(103, 1), (159, 1), (677, 1), (705, 1), (1035, 1), (1296, 1)],\n",
       " [(88, 1), (677, 1), (705, 1), (1035, 1), (1895, 1), (2129, 1)],\n",
       " [(43, 1), (1195, 1), (1302, 1), (1837, 1), (2305, 1)],\n",
       " [(79, 1), (229, 1), (289, 1), (1042, 1), (2306, 1), (2307, 1)],\n",
       " [(747, 1), (1477, 1), (2308, 1)],\n",
       " [(751, 1), (847, 1), (1503, 1), (2309, 1), (2310, 1)],\n",
       " [(318, 1), (371, 1), (1189, 1), (2311, 1), (2312, 1)],\n",
       " [(101, 1), (512, 1), (760, 1), (1937, 1), (2313, 1)],\n",
       " [(25, 1), (586, 1), (753, 1), (1084, 1)],\n",
       " [(152, 1), (2314, 1), (2315, 1), (2316, 1)],\n",
       " [(902, 1), (1705, 1), (2317, 1), (2318, 1), (2319, 1), (2320, 1)],\n",
       " [(589, 1), (974, 1), (2321, 1), (2322, 1), (2323, 1), (2324, 1)],\n",
       " [(149, 1), (250, 1), (1390, 1), (2189, 1), (2325, 1)],\n",
       " [(628, 1), (1046, 1), (2174, 1), (2326, 1), (2327, 1), (2328, 1)],\n",
       " [(434, 1), (978, 1), (1024, 1), (1993, 1), (2329, 1), (2330, 1), (2331, 1)],\n",
       " [(18, 1), (723, 1), (978, 1), (2116, 1)],\n",
       " [(235, 1), (1370, 1), (1433, 1), (2332, 1), (2333, 1), (2334, 1)],\n",
       " [(509, 1), (2335, 1), (2336, 1), (2337, 1)],\n",
       " [(239, 1), (748, 1), (949, 1), (1652, 1), (1679, 1), (2338, 1)],\n",
       " [(723, 1), (2339, 1), (2340, 1), (2341, 1), (2342, 1)],\n",
       " [(876, 1), (909, 1), (1614, 1), (2274, 1), (2343, 1)],\n",
       " [(274, 1), (508, 1), (2015, 1), (2111, 1), (2112, 1)],\n",
       " [(78, 1), (171, 1), (799, 1), (1571, 1), (1880, 1)],\n",
       " [(651, 1), (723, 1), (1005, 1), (2344, 1)],\n",
       " [(282, 1), (844, 1), (2345, 1), (2346, 1), (2347, 1)],\n",
       " [(449, 1), (863, 1), (1461, 1), (1537, 1)],\n",
       " [(1360, 1), (1469, 1), (1503, 1), (2348, 1)],\n",
       " [(35, 1), (215, 1), (2349, 1), (2350, 1)],\n",
       " [(162, 1), (240, 1), (2351, 1), (2352, 1), (2353, 1)],\n",
       " [(95, 1), (628, 1), (670, 1), (2354, 1), (2355, 1), (2356, 1)],\n",
       " [(423, 1), (1126, 1), (1649, 1), (2357, 1), (2358, 1)],\n",
       " [(86, 1), (346, 1), (423, 1), (438, 1), (2359, 1), (2360, 1)],\n",
       " [(211, 1), (215, 1), (893, 1), (1353, 1), (2361, 1), (2362, 1)],\n",
       " [(405, 1), (978, 1), (2363, 1), (2364, 1), (2365, 1), (2366, 1)],\n",
       " [(1246, 1), (1504, 1), (2367, 1), (2368, 1)],\n",
       " [(275, 1), (1607, 1), (1746, 1), (1747, 1), (2369, 1)],\n",
       " [(2, 1), (123, 1), (206, 1), (501, 1), (1420, 1), (1768, 1), (2370, 1)],\n",
       " [(2, 1), (211, 1), (2371, 1)],\n",
       " [(2, 1), (40, 1), (277, 1), (1049, 1), (2372, 1), (2373, 1)],\n",
       " [(401, 1), (2374, 1), (2375, 1), (2376, 1)],\n",
       " [(42, 1), (2377, 1), (2378, 1)],\n",
       " [(42, 1), (2222, 1), (2379, 1), (2380, 1), (2381, 1)],\n",
       " [(327, 1), (2382, 1), (2383, 1), (2384, 1)],\n",
       " [(69, 1), (215, 1), (357, 1), (564, 1), (2318, 1), (2385, 1)],\n",
       " ...]"
      ]
     },
     "execution_count": 47,
     "metadata": {},
     "output_type": "execute_result"
    }
   ],
   "source": [
    "import gensim\n",
    "dic=gensim.corpora.Dictionary(corpus)\n",
    "bow_corpus = [dic.doc2bow(doc) for doc in corpus]\n",
    "#print(bow_corpus.shape)\n",
    "bow_corpus"
   ]
  },
  {
   "cell_type": "code",
   "execution_count": 48,
   "metadata": {},
   "outputs": [
    {
     "data": {
      "text/plain": [
       "[(0,\n",
       "  '0.015*\"iraq\" + 0.014*\"baghdad\" + 0.008*\"fire\" + 0.008*\"iraqi\" + 0.007*\"war\" + 0.007*\"govt\" + 0.006*\"say\" + 0.006*\"troop\" + 0.006*\"killed\" + 0.005*\"two\"'),\n",
       " (1,\n",
       "  '0.006*\"iraq\" + 0.006*\"back\" + 0.006*\"police\" + 0.006*\"may\" + 0.005*\"new\" + 0.005*\"govt\" + 0.005*\"seek\" + 0.004*\"concern\" + 0.004*\"council\" + 0.004*\"get\"'),\n",
       " (2,\n",
       "  '0.011*\"war\" + 0.010*\"man\" + 0.009*\"police\" + 0.008*\"anti\" + 0.008*\"say\" + 0.005*\"court\" + 0.005*\"face\" + 0.005*\"woman\" + 0.005*\"not\" + 0.005*\"coast\"'),\n",
       " (3,\n",
       "  '0.009*\"war\" + 0.009*\"iraq\" + 0.008*\"win\" + 0.007*\"claim\" + 0.006*\"iraqi\" + 0.005*\"cup\" + 0.005*\"coalition\" + 0.004*\"first\" + 0.004*\"world\" + 0.004*\"death\"')]"
      ]
     },
     "execution_count": 48,
     "metadata": {},
     "output_type": "execute_result"
    }
   ],
   "source": [
    "lda_model = gensim.models.LdaMulticore(bow_corpus, \n",
    "                                   num_topics = 4, \n",
    "                                   id2word = dic,                                    \n",
    "                                   passes = 10,\n",
    "                                   workers = 2)\n",
    "lda_model.show_topics()"
   ]
  },
  {
   "cell_type": "code",
   "execution_count": 52,
   "metadata": {},
   "outputs": [
    {
     "name": "stderr",
     "output_type": "stream",
     "text": [
      "C:\\Users\\Ali\\.conda\\envs\\tensor_ali\\lib\\site-packages\\ipykernel\\ipkernel.py:287: DeprecationWarning: `should_run_async` will not call `transform_cell` automatically in the future. Please pass the result to `transformed_cell` argument and any exception that happen during thetransform in `preprocessing_exc_tuple` in IPython 7.17 and above.\n",
      "  and should_run_async(code)\n"
     ]
    },
    {
     "data": {
      "text/html": [
       "\n",
       "<link rel=\"stylesheet\" type=\"text/css\" href=\"https://cdn.jsdelivr.net/gh/bmabey/pyLDAvis@3.2.2/pyLDAvis/js/ldavis.v1.0.0.css\">\n",
       "\n",
       "\n",
       "<div id=\"ldavis_el139627161923398887457806910\"></div>\n",
       "<script type=\"text/javascript\">\n",
       "\n",
       "var ldavis_el139627161923398887457806910_data = {\"mdsDat\": {\"x\": [-0.11845105532910213, 0.05840812287150228, 0.14046019217261607, -0.08041725971501637], \"y\": [0.09811224608314978, -0.1351783356002782, 0.10185632385567406, -0.0647902343385456], \"topics\": [1, 2, 3, 4], \"cluster\": [1, 1, 1, 1], \"Freq\": [26.611742119519615, 25.617131658204954, 23.971064929859672, 23.80006129241576]}, \"tinfo\": {\"Term\": [\"baghdad\", \"anti\", \"man\", \"fire\", \"claim\", \"iraqi\", \"win\", \"coast\", \"coalition\", \"killed\", \"seek\", \"two\", \"face\", \"cup\", \"attack\", \"missing\", \"govt\", \"soldier\", \"say\", \"iraq\", \"concern\", \"community\", \"season\", \"first\", \"group\", \"king\", \"back\", \"court\", \"lead\", \"call\", \"season\", \"king\", \"teacher\", \"operation\", \"coalition\", \"hewitt\", \"food\", \"semi\", \"decision\", \"russian\", \"likely\", \"released\", \"davis\", \"agreement\", \"super\", \"singapore\", \"strong\", \"duel\", \"reduce\", \"army\", \"division\", \"sentence\", \"sri\", \"comeback\", \"bronco\", \"wildcat\", \"grower\", \"grand\", \"quarter\", \"dept\", \"reject\", \"brawl\", \"cup\", \"dengue\", \"final\", \"title\", \"win\", \"first\", \"championship\", \"victory\", \"farmer\", \"still\", \"claim\", \"start\", \"park\", \"rain\", \"hope\", \"security\", \"public\", \"world\", \"warning\", \"australia\", \"war\", \"death\", \"iraqi\", \"welcome\", \"iraq\", \"water\", \"case\", \"council\", \"fund\", \"govt\", \"new\", \"hospital\", \"report\", \"sars\", \"raid\", \"baghdad\", \"human\", \"shooting\", \"rock\", \"bus\", \"vote\", \"threatens\", \"northern\", \"shield\", \"soldier\", \"friendly\", \"ground\", \"telstra\", \"saudi\", \"review\", \"jet\", \"sport\", \"spy\", \"fighter\", \"billion\", \"wage\", \"prepare\", \"cruise\", \"zimbabwe\", \"die\", \"policeman\", \"nasiriyah\", \"quarantine\", \"mosul\", \"crew\", \"two\", \"missing\", \"killed\", \"explosion\", \"fire\", \"find\", \"group\", \"airport\", \"attack\", \"put\", \"begin\", \"post\", \"suicide\", \"troop\", \"toll\", \"iraq\", \"minister\", \"iraqi\", \"blast\", \"govt\", \"call\", \"saddam\", \"say\", \"take\", \"nsw\", \"war\", \"man\", \"death\", \"sars\", \"dead\", \"council\", \"plan\", \"face\", \"sex\", \"life\", \"coast\", \"hearing\", \"flood\", \"level\", \"spot\", \"captain\", \"india\", \"row\", \"cleared\", \"trading\", \"pm\", \"block\", \"grab\", \"parent\", \"easter\", \"offence\", \"export\", \"community\", \"highway\", \"gold\", \"couple\", \"shareholder\", \"webber\", \"webb\", \"pole\", \"asx\", \"juve\", \"special\", \"anti\", \"rally\", \"black\", \"turn\", \"basra\", \"korea\", \"suspected\", \"stabbing\", \"arrest\", \"north\", \"charge\", \"melbourne\", \"run\", \"man\", \"open\", \"court\", \"market\", \"protest\", \"woman\", \"face\", \"police\", \"talk\", \"say\", \"lead\", \"murder\", \"war\", \"not\", \"claim\", \"home\", \"qld\", \"plan\", \"call\", \"new\", \"sars\", \"charged\", \"seek\", \"iran\", \"sale\", \"youth\", \"canberra\", \"syria\", \"qaeda\", \"visit\", \"nation\", \"winning\", \"expert\", \"treatment\", \"insurance\", \"amp\", \"ama\", \"waterfall\", \"bushfires\", \"sign\", \"hotel\", \"victorian\", \"africa\", \"finding\", \"stanbroke\", \"chopper\", \"strategy\", \"truck\", \"yet\", \"schumacher\", \"speed\", \"smoking\", \"tax\", \"demand\", \"terrorism\", \"stay\", \"concern\", \"announces\", \"profit\", \"back\", \"rail\", \"trial\", \"probe\", \"threat\", \"continue\", \"labor\", \"may\", \"worker\", \"hold\", \"return\", \"ta\", \"killer\", \"get\", \"police\", \"warns\", \"new\", \"govt\", \"vic\", \"council\", \"iraq\", \"crash\", \"air\", \"centre\", \"report\", \"denies\", \"car\", \"not\", \"fire\", \"plan\", \"world\", \"say\", \"war\"], \"Freq\": [190.0, 113.0, 204.0, 149.0, 148.0, 205.0, 156.0, 60.0, 65.0, 93.0, 55.0, 79.0, 101.0, 86.0, 92.0, 70.0, 211.0, 54.0, 214.0, 421.0, 67.0, 51.0, 47.0, 76.0, 72.0, 46.0, 118.0, 102.0, 76.0, 132.0, 46.46349279438148, 45.48676125952081, 29.407900539650882, 22.386617926337593, 63.725345074710376, 21.03029642889674, 24.291051999564353, 24.097229517543887, 39.037646860948534, 17.203440047185826, 16.21495727642787, 16.649198252460774, 14.336445979448767, 14.657503248415393, 15.789780950799146, 13.6412686042658, 13.28074864366811, 12.941248242667383, 12.959150095087386, 13.280094036111382, 12.461891650424555, 12.25313127756055, 11.919268743579872, 13.867813539091703, 11.74478175207883, 12.575786232767326, 12.700532559994205, 11.546916711769175, 11.545131994798531, 11.42700623842989, 39.764013987950605, 11.67419587888867, 71.39546899222994, 16.329813165025254, 51.319298739903175, 40.197259580095796, 110.18798196574892, 58.302297113688134, 21.119117005806935, 28.12943771630587, 43.61950350649514, 44.546738468035, 88.51888683186972, 36.8995115499452, 24.30798620570498, 46.547057490763564, 45.765541658364924, 35.41975294039093, 37.128640044861825, 58.149007994980494, 30.088182026654362, 47.61615367637666, 128.05565531225815, 57.08626134416704, 83.0356530157771, 37.24955065710739, 116.15987953043572, 50.13787316556055, 41.243382685981985, 55.230751657026275, 36.28302022208958, 52.64879242256153, 50.246661650460226, 38.83619257412021, 39.27506176822974, 37.66579547285195, 37.133221008820676, 186.07227636887822, 27.327621373232514, 25.34224022843831, 20.952694625815557, 20.76842014214234, 23.026529048539693, 18.153132282493626, 21.258793958579133, 16.530129904160123, 52.300264432541866, 15.719816524436881, 14.767251329881883, 14.650803282948132, 13.239432386774794, 30.237603458913632, 11.662055012666341, 11.65805292638462, 11.452837293562864, 10.984452828057124, 11.00088686211752, 10.642481955252983, 10.659292853709712, 10.97441328260012, 24.101109813033396, 12.330144041359993, 11.248774377548516, 10.0233738548319, 10.017218148730642, 9.835397098050564, 13.61115037173737, 68.6599082074809, 60.91080723238549, 73.25628065265225, 15.994262299441944, 107.5777392869239, 33.84923991683075, 56.11924039064794, 32.64710047166197, 68.43461958681227, 36.42157286413128, 42.658065265217, 31.339585469131098, 35.97088271605181, 77.33345296948418, 36.111430249382735, 197.01320822510928, 45.599877897603896, 104.08431923964642, 34.82845262831684, 95.14554738556379, 67.93944113076391, 45.37118986853434, 79.99159504087315, 51.182634158159196, 52.08908000005023, 95.36502588630835, 68.3821881369514, 49.19968050832276, 48.69161542599326, 36.59291952582012, 45.88026500847668, 40.667913047680535, 37.53642319142843, 36.93333980871209, 24.45298099830104, 58.756765765611256, 18.471541306773307, 18.110879062097972, 16.445881687483677, 24.144714884138942, 15.241041953691926, 26.713354551702896, 14.157042125466521, 17.608389334032793, 13.453776947128736, 12.835322999093624, 11.902043248031779, 11.739831401215065, 11.617634441722105, 11.412397346504028, 11.371729988223448, 12.017174389657495, 48.354071507974254, 11.184874156317521, 25.993680514050453, 10.537395244788339, 10.344255989072808, 9.967347645890424, 9.132471080293138, 9.120518155018422, 8.41698099480476, 8.89252738444163, 8.045720737191749, 100.2127315690465, 37.080404192473125, 20.647856041676093, 26.563451847893344, 31.34499031118657, 48.79097862465696, 31.03951682982874, 22.228561878390966, 28.95482786325254, 55.82113188686535, 50.12950637373163, 34.41771162173225, 23.55915004105227, 120.3923076345097, 49.47003955763136, 66.43740258952091, 33.97177841885906, 56.26891256767756, 59.15489583374388, 63.1668126796175, 109.74289654706237, 34.89176532343616, 96.51681625887564, 47.435400967121865, 38.07833353572645, 131.56803577562061, 58.94809252268414, 58.71275181668997, 39.459864403443554, 44.60032471295179, 51.51875267482004, 46.8244054617092, 53.52245243461966, 42.43864988437568, 36.42442959510458, 55.10629006080159, 23.877982000553814, 23.535468575167265, 20.935198789819452, 20.868316354489547, 20.648682499841264, 17.573459819596547, 19.29864306442247, 16.039118747337064, 17.207898589622893, 14.462122438726592, 13.97827305440299, 16.112184497975964, 14.785385652766015, 13.410379061790746, 16.05119761706378, 13.110536465709881, 15.417685635993625, 12.537173598622143, 12.585269358621897, 11.87263234647077, 11.882607584854401, 11.694287218325265, 11.897513740776398, 11.545066185704972, 21.413861390393485, 26.343922733789967, 10.840940800507735, 11.504647829582687, 10.620450042121648, 11.445503752407713, 16.09784323227649, 15.147595815020628, 32.34745411018395, 54.519484649221596, 19.402288016768306, 16.494176449578816, 77.98855984081999, 34.416222441646674, 34.87210090032216, 40.44387186633669, 31.96595688050747, 27.370404106571385, 29.17710590102464, 74.32729438623421, 31.734962849589976, 33.53563442319856, 32.11046387941386, 29.242446051380636, 19.466074541819705, 47.84456600479251, 76.02297434322746, 26.14737779242754, 63.9744003099469, 63.78900291365324, 34.486640225069344, 51.053233191355034, 78.8806129335962, 36.892621794862144, 31.100179333941146, 30.377134024528146, 38.06287871522041, 31.365982509913135, 31.061301845251435, 37.23734233210933, 36.278990831033774, 35.83421455610429, 32.301242262620164, 32.467536871865676, 33.26965830718354], \"Total\": [190.0, 113.0, 204.0, 149.0, 148.0, 205.0, 156.0, 60.0, 65.0, 93.0, 55.0, 79.0, 101.0, 86.0, 92.0, 70.0, 211.0, 54.0, 214.0, 421.0, 67.0, 51.0, 47.0, 76.0, 72.0, 46.0, 118.0, 102.0, 76.0, 132.0, 47.21408732143292, 46.225294437423315, 30.065651505356936, 23.04270716022984, 65.6166634470795, 21.73595430060447, 25.108990890030224, 24.948954563545684, 40.51443250161744, 17.889546944036557, 16.86969313479079, 17.37064143076184, 14.978679283473264, 15.315854013837077, 16.502483227630236, 14.293297582042593, 13.935643288307416, 13.58814024621149, 13.608736185697513, 13.954380125810244, 13.108489984061382, 12.912899005016302, 12.567087894607596, 14.62218071252837, 12.392382857404632, 13.282701917756025, 13.415622656468875, 12.19958678645907, 12.19937791649784, 12.076732820400547, 43.09570259658049, 12.340842988034163, 86.17980622627753, 17.788795097302998, 63.117568389993764, 49.07397573734585, 156.33687577152656, 76.68848326288222, 24.078887375015967, 33.62089132373422, 57.158119316450076, 60.20042012070021, 148.4960805203763, 50.47790841132077, 30.176774205510622, 70.59375962581387, 72.71943164729318, 51.59132695724213, 55.68848259382452, 111.63214294621464, 42.53033254482175, 85.32831207564132, 388.25837528137066, 113.79012432976722, 205.898640255781, 58.97882138307612, 421.61439566464026, 105.0230009536328, 73.09448210242567, 166.25812793943408, 65.19129942269927, 211.815039133873, 201.2452670292358, 90.02609841290113, 112.51201496043771, 129.06932853252815, 37.79346456276441, 190.00369052395038, 27.998132458485387, 26.016839946742607, 21.61043082123922, 21.445401550937902, 23.84283135995465, 18.813525474349035, 22.1036153854575, 17.192610354060687, 54.41981330863935, 16.386688958833687, 15.425033651297824, 15.329315648074925, 13.901846161216158, 31.78989502198585, 12.319094336956713, 12.328938904833409, 12.115447348740046, 11.638979911453458, 11.658774182248912, 11.299470541115504, 11.319024719105979, 11.66965510745192, 25.64767538192869, 13.122507304698615, 11.973585025498418, 10.678151141770083, 10.677735651692982, 10.493332253575563, 14.597218870548307, 79.48126839025859, 70.97595919843276, 93.43774922815643, 17.62868761174174, 149.61426465950265, 41.12280681041468, 72.79963358432937, 39.82921940415854, 92.55306326294443, 46.36565371301725, 55.86346130899105, 39.02131292400326, 47.28999093153198, 122.98163813307376, 48.08955948986624, 421.61439566464026, 64.86000629613082, 205.898640255781, 49.30923910431382, 211.815039133873, 132.32154404330728, 76.280640212416, 214.93919833877675, 100.69068411735242, 108.04157153463407, 388.25837528137066, 204.81672499662633, 113.79012432976722, 129.06932853252815, 60.71767534668028, 166.25812793943408, 158.21749891878457, 101.15480551426624, 37.60914013261193, 25.119801359184628, 60.57438764328719, 19.162837539032093, 18.810833018102887, 17.089273378850606, 25.107893930718486, 15.88588120060422, 27.91771176286525, 14.80667225969584, 18.496348170812997, 14.142306117113106, 13.499705738341264, 12.554812002358029, 12.388907152647759, 12.264703722679782, 12.06788241461493, 12.026305115665181, 12.720305780468737, 51.18531611337233, 11.85851159920753, 27.61630143832009, 11.195418982598781, 10.99855410788029, 10.60577197428022, 9.77546372724693, 9.764819632362968, 9.059179417396416, 9.58679824549468, 8.695314707997454, 113.77531860894807, 43.658417433798725, 23.543179355307977, 31.157040833872728, 37.46943603097315, 61.550300655588586, 37.38806352858668, 25.794968240148787, 35.156095157760475, 78.27509445304139, 69.52918777546768, 44.74662919647213, 28.592737485949794, 204.81672499662633, 70.46990648869802, 102.26217127386167, 44.79978501647655, 84.69712460111339, 91.02864968110262, 101.15480551426624, 249.39741707267854, 49.29910476982311, 214.93919833877675, 76.91193008597439, 57.05289068766193, 388.25837528137066, 139.40629151850777, 148.4960805203763, 67.42215543675121, 94.6043090820468, 158.21749891878457, 132.32154404330728, 201.2452670292358, 129.06932853252815, 68.66701991706506, 55.81035563240072, 24.526385179815147, 24.19498844439033, 21.6057843468368, 21.58423838784671, 21.402043009146816, 18.22400676137585, 20.022911702452763, 16.70059667853717, 17.94027611931993, 15.107526006025843, 14.62088896076481, 16.859281264298705, 15.478379758320516, 14.071820120933024, 16.844277426183826, 13.761459375274798, 16.186239544159605, 13.18242092596502, 13.23338831762441, 12.51928078740801, 12.529844774711519, 12.342176251415834, 12.559172202544389, 12.188295357251759, 22.621258136959412, 27.86179651513834, 11.484394528126241, 12.198140860935897, 11.267248332414123, 12.152854759383063, 17.394553809759998, 16.34372947906547, 37.103805684600644, 67.81978405218274, 21.765406220477868, 18.306221129740376, 118.16459301318815, 45.06337324842855, 46.03946061555126, 55.859483835980825, 42.57550763032563, 35.38543253248954, 39.455092621263745, 140.6695380156366, 46.759798411272996, 52.51794762372211, 51.31237914875713, 45.28769854000008, 23.6384665494254, 104.94767985117937, 249.39741707267854, 39.38326828556916, 201.2452670292358, 211.815039133873, 71.42980928817524, 166.25812793943408, 421.61439566464026, 91.23831269459566, 61.177205115483915, 58.42649312202733, 112.51201496043771, 65.72191543212747, 67.11276244787258, 139.40629151850777, 149.61426465950265, 158.21749891878457, 111.63214294621464, 214.93919833877675, 388.25837528137066], \"Category\": [\"Default\", \"Default\", \"Default\", \"Default\", \"Default\", \"Default\", \"Default\", \"Default\", \"Default\", \"Default\", \"Default\", \"Default\", \"Default\", \"Default\", \"Default\", \"Default\", \"Default\", \"Default\", \"Default\", \"Default\", \"Default\", \"Default\", \"Default\", \"Default\", \"Default\", \"Default\", \"Default\", \"Default\", \"Default\", \"Default\", \"Topic1\", \"Topic1\", \"Topic1\", \"Topic1\", \"Topic1\", \"Topic1\", \"Topic1\", \"Topic1\", \"Topic1\", \"Topic1\", \"Topic1\", \"Topic1\", \"Topic1\", \"Topic1\", \"Topic1\", \"Topic1\", \"Topic1\", \"Topic1\", \"Topic1\", \"Topic1\", \"Topic1\", \"Topic1\", \"Topic1\", \"Topic1\", \"Topic1\", \"Topic1\", \"Topic1\", \"Topic1\", \"Topic1\", \"Topic1\", \"Topic1\", \"Topic1\", \"Topic1\", \"Topic1\", \"Topic1\", \"Topic1\", \"Topic1\", \"Topic1\", \"Topic1\", \"Topic1\", \"Topic1\", \"Topic1\", \"Topic1\", \"Topic1\", \"Topic1\", \"Topic1\", \"Topic1\", \"Topic1\", \"Topic1\", \"Topic1\", \"Topic1\", \"Topic1\", \"Topic1\", \"Topic1\", \"Topic1\", \"Topic1\", \"Topic1\", \"Topic1\", \"Topic1\", \"Topic1\", \"Topic1\", \"Topic1\", \"Topic1\", \"Topic1\", \"Topic1\", \"Topic1\", \"Topic2\", \"Topic2\", \"Topic2\", \"Topic2\", \"Topic2\", \"Topic2\", \"Topic2\", \"Topic2\", \"Topic2\", \"Topic2\", \"Topic2\", \"Topic2\", \"Topic2\", \"Topic2\", \"Topic2\", \"Topic2\", \"Topic2\", \"Topic2\", \"Topic2\", \"Topic2\", \"Topic2\", \"Topic2\", \"Topic2\", \"Topic2\", \"Topic2\", \"Topic2\", \"Topic2\", \"Topic2\", \"Topic2\", \"Topic2\", \"Topic2\", \"Topic2\", \"Topic2\", \"Topic2\", \"Topic2\", \"Topic2\", \"Topic2\", \"Topic2\", \"Topic2\", \"Topic2\", \"Topic2\", \"Topic2\", \"Topic2\", \"Topic2\", \"Topic2\", \"Topic2\", \"Topic2\", \"Topic2\", \"Topic2\", \"Topic2\", \"Topic2\", \"Topic2\", \"Topic2\", \"Topic2\", \"Topic2\", \"Topic2\", \"Topic2\", \"Topic2\", \"Topic2\", \"Topic2\", \"Topic2\", \"Topic2\", \"Topic2\", \"Topic2\", \"Topic3\", \"Topic3\", \"Topic3\", \"Topic3\", \"Topic3\", \"Topic3\", \"Topic3\", \"Topic3\", \"Topic3\", \"Topic3\", \"Topic3\", \"Topic3\", \"Topic3\", \"Topic3\", \"Topic3\", \"Topic3\", \"Topic3\", \"Topic3\", \"Topic3\", \"Topic3\", \"Topic3\", \"Topic3\", \"Topic3\", \"Topic3\", \"Topic3\", \"Topic3\", \"Topic3\", \"Topic3\", \"Topic3\", \"Topic3\", \"Topic3\", \"Topic3\", \"Topic3\", \"Topic3\", \"Topic3\", \"Topic3\", \"Topic3\", \"Topic3\", \"Topic3\", \"Topic3\", \"Topic3\", \"Topic3\", \"Topic3\", \"Topic3\", \"Topic3\", \"Topic3\", \"Topic3\", \"Topic3\", \"Topic3\", \"Topic3\", \"Topic3\", \"Topic3\", \"Topic3\", \"Topic3\", \"Topic3\", \"Topic3\", \"Topic3\", \"Topic3\", \"Topic3\", \"Topic3\", \"Topic3\", \"Topic3\", \"Topic3\", \"Topic3\", \"Topic3\", \"Topic4\", \"Topic4\", \"Topic4\", \"Topic4\", \"Topic4\", \"Topic4\", \"Topic4\", \"Topic4\", \"Topic4\", \"Topic4\", \"Topic4\", \"Topic4\", \"Topic4\", \"Topic4\", \"Topic4\", \"Topic4\", \"Topic4\", \"Topic4\", \"Topic4\", \"Topic4\", \"Topic4\", \"Topic4\", \"Topic4\", \"Topic4\", \"Topic4\", \"Topic4\", \"Topic4\", \"Topic4\", \"Topic4\", \"Topic4\", \"Topic4\", \"Topic4\", \"Topic4\", \"Topic4\", \"Topic4\", \"Topic4\", \"Topic4\", \"Topic4\", \"Topic4\", \"Topic4\", \"Topic4\", \"Topic4\", \"Topic4\", \"Topic4\", \"Topic4\", \"Topic4\", \"Topic4\", \"Topic4\", \"Topic4\", \"Topic4\", \"Topic4\", \"Topic4\", \"Topic4\", \"Topic4\", \"Topic4\", \"Topic4\", \"Topic4\", \"Topic4\", \"Topic4\", \"Topic4\", \"Topic4\", \"Topic4\", \"Topic4\", \"Topic4\", \"Topic4\", \"Topic4\", \"Topic4\", \"Topic4\", \"Topic4\", \"Topic4\"], \"logprob\": [30.0, 29.0, 28.0, 27.0, 26.0, 25.0, 24.0, 23.0, 22.0, 21.0, 20.0, 19.0, 18.0, 17.0, 16.0, 15.0, 14.0, 13.0, 12.0, 11.0, 10.0, 9.0, 8.0, 7.0, 6.0, 5.0, 4.0, 3.0, 2.0, 1.0, -5.6803, -5.7015, -6.1377, -6.4105, -5.3644, -6.473, -6.3288, -6.3368, -5.8544, -6.6738, -6.733, -6.7066, -6.8561, -6.834, -6.7596, -6.9058, -6.9326, -6.9585, -6.9571, -6.9327, -6.9963, -7.0132, -7.0408, -6.8894, -7.0555, -6.9872, -6.9773, -7.0725, -7.0727, -7.083, -5.836, -7.0616, -5.2507, -6.7259, -5.5809, -5.8251, -4.8167, -5.4533, -6.4688, -6.1821, -5.7434, -5.7224, -5.0357, -5.9107, -6.3281, -5.6785, -5.6954, -5.9517, -5.9045, -5.4559, -6.1148, -5.6558, -4.6665, -5.4744, -5.0997, -5.9013, -4.764, -5.6042, -5.7994, -5.5074, -5.9276, -5.5553, -5.602, -5.8596, -5.8483, -5.8902, -5.8663, -4.2547, -6.1729, -6.2484, -6.4386, -6.4474, -6.3442, -6.582, -6.4241, -6.6757, -5.5238, -6.7259, -6.7884, -6.7963, -6.8976, -6.0718, -7.0245, -7.0248, -7.0426, -7.0844, -7.0829, -7.116, -7.1144, -7.0853, -6.2986, -6.9688, -7.0606, -7.1759, -7.1765, -7.1949, -6.87, -5.2517, -5.3714, -5.1869, -6.7086, -4.8026, -5.9589, -5.4534, -5.9951, -5.255, -5.8857, -5.7276, -6.036, -5.8981, -5.1327, -5.8942, -4.1976, -5.6609, -4.8356, -5.9304, -4.9254, -5.2622, -5.666, -5.0989, -5.5454, -5.5279, -4.9231, -5.2557, -5.585, -5.5953, -5.881, -5.6548, -5.7754, -5.8555, -5.8053, -6.2177, -5.341, -6.4982, -6.5179, -6.6144, -6.2304, -6.6904, -6.1293, -6.7642, -6.5461, -6.8152, -6.8622, -6.9377, -6.9514, -6.9619, -6.9797, -6.9833, -6.9281, -5.5359, -6.9999, -6.1566, -7.0595, -7.078, -7.1151, -7.2026, -7.2039, -7.2842, -7.2292, -7.3293, -4.8071, -5.8013, -6.3868, -6.1349, -5.9694, -5.5269, -5.9792, -6.3131, -6.0487, -5.3923, -5.4998, -5.8759, -6.2549, -4.6237, -5.5131, -5.2182, -5.8889, -5.3843, -5.3343, -5.2687, -4.7163, -5.8622, -4.8447, -5.5551, -5.7748, -4.5349, -5.3378, -5.3418, -5.7391, -5.6167, -5.4725, -5.568, -5.4343, -5.6664, -5.8192, -5.398, -6.2343, -6.2488, -6.3658, -6.369, -6.3796, -6.5409, -6.4472, -6.6322, -6.5619, -6.7357, -6.7698, -6.6277, -6.7136, -6.8112, -6.6315, -6.8339, -6.6718, -6.8786, -6.8747, -6.933, -6.9322, -6.9482, -6.9309, -6.961, -6.3432, -6.136, -7.0239, -6.9645, -7.0445, -6.9697, -6.6286, -6.6894, -5.9307, -5.4087, -6.4419, -6.6043, -5.0507, -5.8687, -5.8556, -5.7074, -5.9426, -6.0978, -6.0339, -5.0988, -5.9499, -5.8947, -5.9381, -6.0316, -6.4386, -5.5393, -5.0762, -6.1435, -5.2488, -5.2517, -5.8667, -5.4744, -5.0393, -5.7993, -5.9701, -5.9936, -5.768, -5.9615, -5.9713, -5.79, -5.816, -5.8284, -5.9322, -5.927, -5.9026], \"loglift\": [30.0, 29.0, 28.0, 27.0, 26.0, 25.0, 24.0, 23.0, 22.0, 21.0, 20.0, 19.0, 18.0, 17.0, 16.0, 15.0, 14.0, 13.0, 12.0, 11.0, 10.0, 9.0, 8.0, 7.0, 6.0, 5.0, 4.0, 3.0, 2.0, 1.0, 1.3078, 1.3077, 1.3017, 1.2949, 1.2946, 1.2908, 1.2907, 1.2891, 1.2867, 1.2847, 1.2842, 1.2814, 1.28, 1.2799, 1.2797, 1.2771, 1.2757, 1.275, 1.2749, 1.2743, 1.2732, 1.2714, 1.2709, 1.2708, 1.2701, 1.2691, 1.269, 1.2688, 1.2687, 1.2685, 1.2434, 1.2683, 1.1356, 1.2382, 1.1169, 1.1243, 0.974, 1.0497, 1.1927, 1.1455, 1.0535, 1.0227, 0.8065, 1.0105, 1.1076, 0.9073, 0.8607, 0.9477, 0.9184, 0.6716, 0.9777, 0.7405, 0.2146, 0.634, 0.4157, 0.8643, 0.0347, 0.5844, 0.7516, 0.2218, 0.7378, -0.0683, -0.0638, 0.4831, 0.2713, 0.0922, 1.3443, 1.341, 1.3377, 1.3356, 1.331, 1.3298, 1.3271, 1.3262, 1.3229, 1.3226, 1.3222, 1.3204, 1.3183, 1.3166, 1.3131, 1.3118, 1.3071, 1.306, 1.3057, 1.304, 1.3038, 1.302, 1.3019, 1.3005, 1.2997, 1.2996, 1.2995, 1.2986, 1.2981, 1.2972, 1.292, 1.2156, 1.209, 1.1186, 1.2646, 1.0321, 1.1673, 1.1017, 1.1631, 1.06, 1.1205, 1.0922, 1.1427, 1.0883, 0.898, 1.0755, 0.6011, 1.0096, 0.6797, 1.0142, 0.5616, 0.6953, 0.8424, 0.3735, 0.6853, 0.6323, -0.0421, 0.2649, 0.5234, 0.3871, 0.8555, 0.0744, 0.0034, 0.3706, 1.4102, 1.4014, 1.3979, 1.3916, 1.3904, 1.3899, 1.3892, 1.3869, 1.3842, 1.3835, 1.3791, 1.3784, 1.3779, 1.3749, 1.3745, 1.3741, 1.3725, 1.3724, 1.3715, 1.3714, 1.3698, 1.3678, 1.3677, 1.367, 1.3662, 1.3603, 1.3601, 1.3548, 1.3531, 1.3507, 1.3014, 1.265, 1.2971, 1.2688, 1.2499, 1.196, 1.2422, 1.2795, 1.2343, 1.0902, 1.1012, 1.1659, 1.2347, 0.897, 1.0745, 0.997, 1.1516, 1.0194, 0.9973, 0.9574, 0.6074, 1.0827, 0.6277, 0.945, 1.024, 0.3462, 0.5676, 0.5004, 0.8926, 0.6764, 0.3063, 0.3895, 0.1039, 0.316, 0.7943, 1.4228, 1.4087, 1.4078, 1.404, 1.4018, 1.3996, 1.3991, 1.3986, 1.3951, 1.3938, 1.3918, 1.3905, 1.3902, 1.3897, 1.3873, 1.3873, 1.387, 1.3868, 1.3853, 1.3853, 1.3824, 1.3824, 1.3816, 1.3814, 1.3813, 1.3806, 1.3795, 1.3778, 1.3769, 1.3764, 1.3755, 1.358, 1.3595, 1.2983, 1.2172, 1.3206, 1.3312, 1.02, 1.1659, 1.1577, 1.1126, 1.1489, 1.1786, 1.1337, 0.7975, 1.0479, 0.9869, 0.9667, 0.9981, 1.2413, 0.65, 0.2475, 1.0259, 0.2894, 0.2353, 0.7073, 0.2548, -0.2407, 0.53, 0.7589, 0.7814, 0.3517, 0.6958, 0.6651, 0.1154, 0.0187, -0.0496, 0.1954, -0.4546, -1.0215]}, \"token.table\": {\"Topic\": [4, 1, 1, 2, 3, 4, 2, 3, 4, 4, 4, 1, 4, 2, 3, 4, 1, 2, 3, 4, 3, 2, 3, 4, 1, 2, 4, 1, 2, 3, 4, 1, 2, 3, 3, 4, 2, 3, 4, 2, 2, 3, 1, 2, 3, 1, 1, 2, 4, 1, 2, 3, 4, 3, 1, 3, 4, 1, 2, 3, 4, 1, 3, 4, 1, 3, 2, 3, 4, 1, 2, 3, 4, 4, 1, 2, 3, 3, 1, 3, 1, 3, 1, 1, 3, 4, 1, 4, 3, 4, 1, 2, 3, 4, 3, 2, 3, 4, 1, 2, 3, 4, 1, 2, 2, 1, 4, 1, 1, 2, 3, 4, 1, 2, 4, 1, 3, 1, 4, 1, 3, 4, 1, 2, 3, 4, 1, 2, 1, 1, 3, 4, 1, 2, 3, 2, 3, 1, 2, 2, 1, 2, 3, 2, 4, 4, 1, 2, 4, 1, 3, 3, 1, 2, 1, 2, 3, 4, 1, 3, 4, 1, 3, 1, 2, 4, 3, 1, 2, 1, 2, 1, 3, 1, 3, 1, 2, 4, 1, 2, 3, 4, 1, 3, 4, 1, 2, 3, 4, 4, 2, 3, 4, 4, 4, 1, 2, 3, 4, 1, 2, 3, 2, 3, 2, 4, 2, 4, 1, 1, 2, 3, 4, 1, 4, 1, 3, 3, 3, 1, 1, 2, 3, 4, 1, 3, 1, 2, 3, 4, 1, 3, 1, 2, 2, 3, 2, 2, 3, 4, 2, 4, 1, 2, 3, 4, 1, 2, 3, 4, 2, 1, 2, 3, 4, 1, 2, 3, 3, 1, 2, 3, 4, 1, 3, 1, 3, 1, 2, 3, 4, 3, 3, 1, 2, 3, 4, 2, 2, 3, 4, 2, 2, 3, 4, 1, 2, 4, 1, 2, 3, 4, 1, 2, 4, 2, 4, 4, 1, 2, 3, 4, 2, 1, 2, 1, 4, 1, 3, 3, 4, 1, 1, 3, 1, 1, 2, 3, 4, 1, 2, 3, 4, 2, 4, 2, 3, 3, 4, 1, 1, 2, 3, 4, 4, 1, 2, 3, 2, 1, 2, 3, 4, 4, 1, 1, 2, 3, 4, 4, 1, 1, 3, 3, 2, 2, 4, 1, 4, 1, 2, 3, 4, 2, 2, 3, 2, 1, 1, 2, 3, 4, 1, 2, 3, 4, 1, 2, 4, 4, 1, 1, 2, 4, 1, 1, 2, 3, 4, 2, 4, 1, 2, 3, 1, 2, 3, 4, 4, 1, 2, 2, 4, 2, 4, 2, 1, 2, 4, 1, 2, 4, 3, 4, 2, 3, 4, 1, 2, 3, 4, 3, 4, 2, 3, 2, 3, 2, 3, 4, 4, 1, 4, 4, 2, 2, 1, 2, 3, 4, 1, 4, 1, 4, 1, 2, 3, 4, 4, 3, 3, 1, 2, 3, 4, 1, 1, 2, 3, 4, 1, 2, 3, 4, 1, 2, 4, 1, 2, 3, 4, 3, 4, 4, 1, 2, 3], \"Freq\": [0.9585215160338678, 0.9793773162403011, 0.3105731941191787, 0.17980553343741926, 0.016345957585219933, 0.5067246851418179, 0.8285374529974969, 0.15064317327227217, 0.025107195545378692, 0.9238321616022791, 0.9690936799723265, 0.09188893511752198, 0.8729448836164587, 0.07031401975235449, 0.8789252469044311, 0.04394626234522156, 0.9316071285714076, 0.028444569725749436, 0.8248925220467337, 0.14222284862874718, 0.8830821900532773, 0.7347136615760749, 0.24850609141543706, 0.010804612670236394, 0.5625331010585238, 0.3164248693454197, 0.12891383565924505, 0.15232989460718618, 0.033851087690485816, 0.14386712268456472, 0.6600962099644735, 0.010526111332284337, 0.9789283539024433, 0.005263055666142168, 0.8273409819772746, 0.16013051264076283, 0.7697339010584954, 0.017900788396709194, 0.21480946076051033, 0.943495416246081, 0.08495029366325095, 0.8919780834641351, 0.2839224505245957, 0.7098061263114893, 0.9558088163921671, 0.9723808990711049, 0.9683367709084151, 0.9792309064542359, 0.9446672511606645, 0.12847492162301324, 0.513899686492053, 0.3551953715459778, 0.972932174981181, 0.9442346830234053, 0.044700886844437994, 0.491709755288818, 0.46190916405919263, 0.5609178534509296, 0.13680923254900723, 0.21889477207841154, 0.08208553952940432, 0.22250180192825708, 0.25673284837875815, 0.5134656967575163, 0.8721333204867849, 0.124590474355255, 0.1869718375250006, 0.7191224520192331, 0.08629469424230797, 0.02912606375543264, 0.32038670130975905, 0.5242691475977875, 0.11650425502173056, 0.9554769857816661, 0.5993424182518247, 0.0067341844747396025, 0.39731688400963655, 0.9731650720331796, 0.9753619985816049, 0.015240031227837576, 0.016508627472865908, 0.9740090208990885, 0.9574495265268277, 0.0390737061302918, 0.9377689471270032, 0.0195368530651459, 0.17693951945890612, 0.8109727975199864, 0.19782151860296945, 0.7630258574685965, 0.33081089437044464, 0.2766782025643719, 0.08420640947611319, 0.30675192023441233, 0.9825447370122973, 0.21513331592660234, 0.645399947779807, 0.12712423213844684, 0.131523694877698, 0.27400769766187083, 0.197285542316547, 0.4055313925395688, 0.06850620031584397, 0.9590868044218156, 0.9426156898994987, 0.8238588958250758, 0.16245104988100087, 0.9346618440149733, 0.016469668746214187, 0.609377743609925, 0.21410569370078447, 0.1646966874621419, 0.5009222051187173, 0.43061733422486226, 0.061516762032123175, 0.9626199255893074, 0.024682562194597624, 0.057489258473471444, 0.9198281355755431, 0.899442593637261, 0.05621516210232881, 0.05621516210232881, 0.28909686936348855, 0.09129374822004903, 0.13694062233007354, 0.47168436580358664, 0.910842374637809, 0.9144593880853323, 0.91543724827122, 0.9567166488162007, 0.9115103729116834, 0.9266904451738762, 0.05672572014572096, 0.9076115223315354, 0.9433735483328771, 0.3756618363982788, 0.6228077813971465, 0.7697943971249037, 0.22743925369599427, 0.9451000073619285, 0.8080159185613557, 0.15843449383555994, 0.03168689876711199, 0.8267918130381419, 0.17022184386079392, 0.9577133807929622, 0.04010312795811956, 0.7218563032461521, 0.24061876774871735, 0.7563065212957788, 0.23471581695386237, 0.9568954220516142, 0.9558329167871673, 0.9764022518639903, 0.5522209300749876, 0.12271576223888615, 0.015339470279860769, 0.30678940559721535, 0.35255662681126154, 0.19057114962770894, 0.4573707591065015, 0.036210496986117426, 0.9414729216390532, 0.25021830469036016, 0.44850450840724937, 0.30215040566383117, 0.9686084375436907, 0.9836398732225421, 0.9724452042759685, 0.21978132597969713, 0.7692346409289399, 0.9690195030740175, 0.9393180922886002, 0.9661411553214388, 0.9276037644332277, 0.26657553528760264, 0.07616443865360076, 0.6473977285556064, 0.22247879651476754, 0.014831919767651169, 0.5784448709383956, 0.19281495697946519, 0.6325682002454464, 0.15126630875434588, 0.22002372182450308, 0.4332077107365916, 0.14440257024553052, 0.19994202033996533, 0.22215780037773927, 0.9861618038909901, 0.9643500344187106, 0.9671279734291854, 0.03581955457145131, 0.9490321532200591, 0.9785380040329646, 0.2751329204903822, 0.4672515977293559, 0.07115506564406436, 0.18737500619603614, 0.40311096710931105, 0.5051028985466066, 0.08742165551768191, 0.9740975815081272, 0.9387910092120227, 0.7812688191123749, 0.21404625181160958, 0.16921571421041404, 0.8037746424994666, 0.973492987933651, 0.016246874334466845, 0.08123437167233423, 0.7960968423888753, 0.11372812034126792, 0.2534527062448371, 0.7350128481100277, 0.3770546385662531, 0.6110885521590999, 0.9362598189693265, 0.9554215679028373, 0.9484464164320097, 0.004882413777568564, 0.3320041368746623, 0.5858896533082276, 0.07323620666352845, 0.2232153568666051, 0.7589322133464573, 0.2559189466876496, 0.014217719260424979, 0.1990480696459497, 0.5260556126357242, 0.223480520869903, 0.7598337709576701, 0.29293860862812515, 0.7092197893101978, 0.8594459404128343, 0.14089277711685808, 0.9529861209333707, 0.29796912645613527, 0.6660486356078318, 0.01752759567389031, 0.9364917079027533, 0.9580496019380227, 0.24845304805472157, 0.16894807267721068, 0.2683292918990993, 0.3180199015100436, 0.012775455679582956, 0.2044072908733273, 0.7154255180566456, 0.06387727839791478, 0.9500708202612143, 0.12911899315254574, 0.1793319349340913, 0.42322336644445546, 0.2654112637024551, 0.3332050754968864, 0.4812962201621693, 0.18511393083160357, 0.9146616433065264, 0.26961863505590467, 0.028380908953253126, 0.6953322693547016, 0.014190454476626563, 0.9547489297598903, 0.9784174384750695, 0.7953136354652953, 0.1656903407219365, 0.18961240194676224, 0.25913694932724174, 0.3286614967077212, 0.22753488233611469, 0.9629839532781799, 0.9216760102943252, 0.14434792638413332, 0.11227060940988148, 0.44106310839596297, 0.3047345112553926, 0.9186889287189164, 0.7944376464311868, 0.10250808341047571, 0.07688106255785677, 0.9718151760400805, 0.12531444115298257, 0.16111856719669188, 0.7160825208741861, 0.05462623841986674, 0.05462623841986674, 0.8740198147178678, 0.11806776259637679, 0.12987453885601447, 0.66117947053971, 0.08264743381746376, 0.6644102743805602, 0.10774220665630707, 0.21548441331261414, 0.7764368043384866, 0.19410920108462165, 0.9877081497878605, 0.1796958316693221, 0.0845627443149751, 0.47566543677173495, 0.2536882329449253, 0.936528148495086, 0.9836567144765463, 0.9790052441091583, 0.2219097080209973, 0.7544930072713909, 0.6657812283851448, 0.3399733932179463, 0.8474883464593009, 0.13743054266907584, 0.9552687202256679, 0.928166791349026, 0.06961250935117695, 0.9786627665858403, 0.346629646742292, 0.20442261218135171, 0.10665527592070524, 0.3377417070822333, 0.17539627180233747, 0.09744237322352083, 0.09744237322352083, 0.6236311886305332, 0.9436961015206888, 0.03145653671735629, 0.9717529545667699, 0.9455196788618315, 0.8393739848027275, 0.1748695801672349, 0.9502756024610738, 0.06554743098742587, 0.5899268788868327, 0.03932845859245552, 0.30151818254215895, 0.9919409573251713, 0.2944154155913441, 0.3796409306309437, 0.3254065119693803, 0.9351275973883124, 0.027914871025726498, 0.37219828034302, 0.4512904149159117, 0.14887931213720798, 0.9578215005640986, 0.9742854857456541, 0.6784086020700205, 0.2325972349954356, 0.0387662058325726, 0.0387662058325726, 0.9854801922829843, 0.9619641552062365, 0.9293033264906924, 0.9838034017671219, 0.9092104200164963, 0.9887969104112689, 0.9609160855498164, 0.9267130860801063, 0.9794800618710214, 0.9762809583556181, 0.018375660245810624, 0.9555343327821525, 0.9200357052795406, 0.9837564704986776, 0.973319771687371, 0.03982811153971543, 0.9558746769531704, 0.9079318066735648, 0.9548751548995749, 0.11630175203436094, 0.03876725067812031, 0.8528795149186469, 0.9722758576408612, 0.7329939207960912, 0.25753840460403205, 0.10780565298346573, 0.8624452238677258, 0.7475030890112764, 0.01661117975580614, 0.23255651658128598, 0.984551132727537, 0.9328596987630661, 0.21146123742079653, 0.7612604547148676, 0.021146123742079654, 0.9695510535778685, 0.16047902548930992, 0.02674650424821832, 0.829141631694768, 0.981214736883998, 0.3532968226651681, 0.6403504910806171, 0.24828513401362076, 0.5065016733877863, 0.2383537286530759, 0.02028434399912508, 0.08113737599650032, 0.7099520399693778, 0.18255909599212572, 0.9051371235640779, 0.9645558485513922, 0.9785172635468381, 0.06118554527477285, 0.9177831791215928, 0.23487682370878443, 0.7516058358681103, 0.9567584780716287, 0.8150959729468088, 0.08150959729468088, 0.08150959729468088, 0.04158906883772669, 0.7486032390790804, 0.20794534418863347, 0.9192277336062722, 0.9575341169452167, 0.21720497734550323, 0.02172049773455032, 0.7602174207092612, 0.21141367438825615, 0.6261097279959893, 0.008131295168779083, 0.15449460820680255, 0.04420620612459059, 0.9283303286164025, 0.12838189677022713, 0.8665778031990331, 0.8681290749061171, 0.12581580795740827, 0.39199320674422167, 0.11199805906977763, 0.4759917510465549, 0.9823636764808314, 0.8328155173040809, 0.14871705666144303, 0.9489129394538828, 0.9646505338552102, 0.973496940407445, 0.329677369888643, 0.24468242296422724, 0.33997978769766307, 0.08499494692441577, 0.7053789191134041, 0.28215156764536165, 0.33008941527494984, 0.6601788305498997, 0.476086186320983, 0.13330413216987524, 0.10473896099061626, 0.2856517117925898, 0.9498774922294128, 0.9206724357141751, 0.9428828023316679, 0.6273438351655005, 0.13564191030605416, 0.1695523878825677, 0.06782095515302708, 0.9787165352722313, 0.7036087900384802, 0.13432531446189167, 0.15991108864510914, 0.9475885369285179, 0.0549277619465555, 0.2526677049541553, 0.6481475909693549, 0.0329566571679333, 0.17108713621124882, 0.12831535215843662, 0.6843485448449953, 0.519563617335062, 0.08957993402328654, 0.0985379274256152, 0.2866557888745169, 0.035891440074823, 0.933177441945398, 0.9719619368076545, 0.03898988836643645, 0.9357573207944748, 0.03898988836643645], \"Term\": [\"africa\", \"agreement\", \"air\", \"air\", \"air\", \"air\", \"airport\", \"airport\", \"airport\", \"ama\", \"amp\", \"announces\", \"announces\", \"anti\", \"anti\", \"anti\", \"army\", \"arrest\", \"arrest\", \"arrest\", \"asx\", \"attack\", \"attack\", \"attack\", \"australia\", \"australia\", \"australia\", \"back\", \"back\", \"back\", \"back\", \"baghdad\", \"baghdad\", \"baghdad\", \"basra\", \"basra\", \"begin\", \"begin\", \"begin\", \"billion\", \"black\", \"black\", \"blast\", \"blast\", \"block\", \"brawl\", \"bronco\", \"bus\", \"bushfires\", \"call\", \"call\", \"call\", \"canberra\", \"captain\", \"car\", \"car\", \"car\", \"case\", \"case\", \"case\", \"case\", \"centre\", \"centre\", \"centre\", \"championship\", \"championship\", \"charge\", \"charge\", \"charge\", \"charged\", \"charged\", \"charged\", \"charged\", \"chopper\", \"claim\", \"claim\", \"claim\", \"cleared\", \"coalition\", \"coalition\", \"coast\", \"coast\", \"comeback\", \"community\", \"community\", \"community\", \"concern\", \"concern\", \"continue\", \"continue\", \"council\", \"council\", \"council\", \"council\", \"couple\", \"court\", \"court\", \"court\", \"crash\", \"crash\", \"crash\", \"crash\", \"crew\", \"crew\", \"cruise\", \"cup\", \"cup\", \"davis\", \"dead\", \"dead\", \"dead\", \"dead\", \"death\", \"death\", \"death\", \"decision\", \"decision\", \"demand\", \"demand\", \"dengue\", \"dengue\", \"dengue\", \"denies\", \"denies\", \"denies\", \"denies\", \"dept\", \"die\", \"division\", \"duel\", \"easter\", \"expert\", \"explosion\", \"explosion\", \"export\", \"face\", \"face\", \"farmer\", \"farmer\", \"fighter\", \"final\", \"final\", \"final\", \"find\", \"find\", \"finding\", \"fire\", \"fire\", \"fire\", \"first\", \"first\", \"flood\", \"food\", \"friendly\", \"fund\", \"fund\", \"fund\", \"fund\", \"get\", \"get\", \"get\", \"gold\", \"gold\", \"govt\", \"govt\", \"govt\", \"grab\", \"grand\", \"ground\", \"group\", \"group\", \"grower\", \"hearing\", \"hewitt\", \"highway\", \"hold\", \"hold\", \"hold\", \"home\", \"home\", \"home\", \"home\", \"hope\", \"hope\", \"hope\", \"hospital\", \"hospital\", \"hospital\", \"hospital\", \"hotel\", \"human\", \"india\", \"india\", \"insurance\", \"iran\", \"iraq\", \"iraq\", \"iraq\", \"iraq\", \"iraqi\", \"iraqi\", \"iraqi\", \"jet\", \"juve\", \"killed\", \"killed\", \"killer\", \"killer\", \"king\", \"korea\", \"korea\", \"korea\", \"korea\", \"labor\", \"labor\", \"lead\", \"lead\", \"level\", \"life\", \"likely\", \"man\", \"man\", \"man\", \"man\", \"market\", \"market\", \"may\", \"may\", \"may\", \"may\", \"melbourne\", \"melbourne\", \"minister\", \"minister\", \"missing\", \"missing\", \"mosul\", \"murder\", \"murder\", \"murder\", \"nasiriyah\", \"nation\", \"new\", \"new\", \"new\", \"new\", \"north\", \"north\", \"north\", \"north\", \"northern\", \"not\", \"not\", \"not\", \"not\", \"nsw\", \"nsw\", \"nsw\", \"offence\", \"open\", \"open\", \"open\", \"open\", \"operation\", \"parent\", \"park\", \"park\", \"plan\", \"plan\", \"plan\", \"plan\", \"pm\", \"pole\", \"police\", \"police\", \"police\", \"police\", \"policeman\", \"post\", \"post\", \"post\", \"prepare\", \"probe\", \"probe\", \"probe\", \"profit\", \"profit\", \"profit\", \"protest\", \"protest\", \"protest\", \"protest\", \"public\", \"public\", \"public\", \"put\", \"put\", \"qaeda\", \"qld\", \"qld\", \"qld\", \"qld\", \"quarantine\", \"quarter\", \"raid\", \"rail\", \"rail\", \"rain\", \"rain\", \"rally\", \"rally\", \"reduce\", \"reject\", \"reject\", \"released\", \"report\", \"report\", \"report\", \"report\", \"return\", \"return\", \"return\", \"return\", \"review\", \"review\", \"rock\", \"row\", \"run\", \"run\", \"russian\", \"saddam\", \"saddam\", \"saddam\", \"saddam\", \"sale\", \"sars\", \"sars\", \"sars\", \"saudi\", \"say\", \"say\", \"say\", \"say\", \"schumacher\", \"season\", \"security\", \"security\", \"security\", \"security\", \"seek\", \"semi\", \"sentence\", \"sex\", \"shareholder\", \"shield\", \"shooting\", \"sign\", \"singapore\", \"smoking\", \"soldier\", \"soldier\", \"special\", \"speed\", \"sport\", \"spot\", \"spot\", \"spy\", \"sri\", \"stabbing\", \"stabbing\", \"stabbing\", \"stanbroke\", \"start\", \"start\", \"stay\", \"stay\", \"still\", \"still\", \"still\", \"strategy\", \"strong\", \"suicide\", \"suicide\", \"suicide\", \"super\", \"suspected\", \"suspected\", \"suspected\", \"syria\", \"ta\", \"ta\", \"take\", \"take\", \"take\", \"talk\", \"talk\", \"talk\", \"talk\", \"tax\", \"teacher\", \"telstra\", \"terrorism\", \"terrorism\", \"threat\", \"threat\", \"threatens\", \"title\", \"title\", \"title\", \"toll\", \"toll\", \"toll\", \"trading\", \"treatment\", \"trial\", \"trial\", \"trial\", \"troop\", \"troop\", \"troop\", \"troop\", \"truck\", \"truck\", \"turn\", \"turn\", \"two\", \"two\", \"vic\", \"vic\", \"vic\", \"victorian\", \"victory\", \"victory\", \"visit\", \"vote\", \"wage\", \"war\", \"war\", \"war\", \"war\", \"warning\", \"warning\", \"warns\", \"warns\", \"water\", \"water\", \"water\", \"water\", \"waterfall\", \"webb\", \"webber\", \"welcome\", \"welcome\", \"welcome\", \"welcome\", \"wildcat\", \"win\", \"win\", \"win\", \"winning\", \"woman\", \"woman\", \"woman\", \"woman\", \"worker\", \"worker\", \"worker\", \"world\", \"world\", \"world\", \"world\", \"yet\", \"yet\", \"youth\", \"zimbabwe\", \"zimbabwe\", \"zimbabwe\"]}, \"R\": 30, \"lambda.step\": 0.01, \"plot.opts\": {\"xlab\": \"PC1\", \"ylab\": \"PC2\"}, \"topic.order\": [4, 1, 3, 2]};\n",
       "\n",
       "function LDAvis_load_lib(url, callback){\n",
       "  var s = document.createElement('script');\n",
       "  s.src = url;\n",
       "  s.async = true;\n",
       "  s.onreadystatechange = s.onload = callback;\n",
       "  s.onerror = function(){console.warn(\"failed to load library \" + url);};\n",
       "  document.getElementsByTagName(\"head\")[0].appendChild(s);\n",
       "}\n",
       "\n",
       "if(typeof(LDAvis) !== \"undefined\"){\n",
       "   // already loaded: just create the visualization\n",
       "   !function(LDAvis){\n",
       "       new LDAvis(\"#\" + \"ldavis_el139627161923398887457806910\", ldavis_el139627161923398887457806910_data);\n",
       "   }(LDAvis);\n",
       "}else if(typeof define === \"function\" && define.amd){\n",
       "   // require.js is available: use it to load d3/LDAvis\n",
       "   require.config({paths: {d3: \"https://d3js.org/d3.v5\"}});\n",
       "   require([\"d3\"], function(d3){\n",
       "      window.d3 = d3;\n",
       "      LDAvis_load_lib(\"https://cdn.jsdelivr.net/gh/bmabey/pyLDAvis@3.2.2/pyLDAvis/js/ldavis.v3.0.0.js\", function(){\n",
       "        new LDAvis(\"#\" + \"ldavis_el139627161923398887457806910\", ldavis_el139627161923398887457806910_data);\n",
       "      });\n",
       "    });\n",
       "}else{\n",
       "    // require.js not available: dynamically load d3 & LDAvis\n",
       "    LDAvis_load_lib(\"https://d3js.org/d3.v5.js\", function(){\n",
       "         LDAvis_load_lib(\"https://cdn.jsdelivr.net/gh/bmabey/pyLDAvis@3.2.2/pyLDAvis/js/ldavis.v3.0.0.js\", function(){\n",
       "                 new LDAvis(\"#\" + \"ldavis_el139627161923398887457806910\", ldavis_el139627161923398887457806910_data);\n",
       "            })\n",
       "         });\n",
       "}\n",
       "</script>"
      ],
      "text/plain": [
       "PreparedData(topic_coordinates=              x         y  topics  cluster       Freq\n",
       "topic                                                \n",
       "3     -0.118451  0.098112       1        1  26.611742\n",
       "0      0.058408 -0.135178       2        1  25.617132\n",
       "2      0.140460  0.101856       3        1  23.971065\n",
       "1     -0.080417 -0.064790       4        1  23.800061, topic_info=         Term        Freq       Total Category  logprob  loglift\n",
       "3496  baghdad  190.000000  190.000000  Default  30.0000  30.0000\n",
       "589      anti  113.000000  113.000000  Default  29.0000  29.0000\n",
       "318       man  204.000000  204.000000  Default  28.0000  28.0000\n",
       "8        fire  149.000000  149.000000  Default  27.0000  27.0000\n",
       "423     claim  148.000000  148.000000  Default  26.0000  26.0000\n",
       "...       ...         ...         ...      ...      ...      ...\n",
       "8        fire   36.278991  149.614265   Topic4  -5.8160   0.0187\n",
       "60       plan   35.834215  158.217499   Topic4  -5.8284  -0.0496\n",
       "489     world   32.301242  111.632143   Topic4  -5.9322   0.1954\n",
       "468       say   32.467537  214.939198   Topic4  -5.9270  -0.4546\n",
       "49        war   33.269658  388.258375   Topic4  -5.9026  -1.0215\n",
       "\n",
       "[295 rows x 6 columns], token_table=      Topic      Freq       Term\n",
       "term                            \n",
       "1479      4  0.958522     africa\n",
       "506       1  0.979377  agreement\n",
       "15        1  0.310573        air\n",
       "15        2  0.179806        air\n",
       "15        3  0.016346        air\n",
       "...     ...       ...        ...\n",
       "2427      4  0.933177        yet\n",
       "132       4  0.971962      youth\n",
       "441       1  0.038990   zimbabwe\n",
       "441       2  0.935757   zimbabwe\n",
       "441       3  0.038990   zimbabwe\n",
       "\n",
       "[477 rows x 3 columns], R=30, lambda_step=0.01, plot_opts={'xlab': 'PC1', 'ylab': 'PC2'}, topic_order=[4, 1, 3, 2])"
      ]
     },
     "execution_count": 52,
     "metadata": {},
     "output_type": "execute_result"
    }
   ],
   "source": [
    "import pyLDAvis.gensim\n",
    "pyLDAvis.enable_notebook()\n",
    "vis = pyLDAvis.gensim.prepare(lda_model, bow_corpus, dic)\n",
    "vis"
   ]
  },
  {
   "cell_type": "markdown",
   "metadata": {},
   "source": [
    "1. POS"
   ]
  },
  {
   "cell_type": "code",
   "execution_count": 5,
   "metadata": {},
   "outputs": [
    {
     "name": "stdout",
     "output_type": "stream",
     "text": [
      "['decides']\n"
     ]
    },
    {
     "ename": "NameError",
     "evalue": "name 'Counter' is not defined",
     "output_type": "error",
     "traceback": [
      "\u001b[1;31m---------------------------------------------------------------------------\u001b[0m",
      "\u001b[1;31mNameError\u001b[0m                                 Traceback (most recent call last)",
      "\u001b[1;32m<ipython-input-5-ac9801da5383>\u001b[0m in \u001b[0;36m<module>\u001b[1;34m\u001b[0m\n\u001b[0;32m     15\u001b[0m \u001b[0mtags\u001b[0m \u001b[1;33m=\u001b[0m \u001b[0mdf\u001b[0m\u001b[1;33m[\u001b[0m\u001b[1;34m'headline_text'\u001b[0m\u001b[1;33m]\u001b[0m\u001b[1;33m.\u001b[0m\u001b[0mapply\u001b[0m\u001b[1;33m(\u001b[0m\u001b[1;32mlambda\u001b[0m \u001b[0mx\u001b[0m \u001b[1;33m:\u001b[0m \u001b[0mpos_identification\u001b[0m\u001b[1;33m(\u001b[0m\u001b[0mx\u001b[0m\u001b[1;33m)\u001b[0m\u001b[1;33m)\u001b[0m\u001b[1;33m\u001b[0m\u001b[1;33m\u001b[0m\u001b[0m\n\u001b[0;32m     16\u001b[0m \u001b[0mtags\u001b[0m \u001b[1;33m=\u001b[0m \u001b[1;33m[\u001b[0m\u001b[0mi\u001b[0m \u001b[1;32mfor\u001b[0m \u001b[0mj\u001b[0m \u001b[1;32min\u001b[0m \u001b[0mtags\u001b[0m \u001b[1;32mfor\u001b[0m \u001b[0mi\u001b[0m \u001b[1;32min\u001b[0m \u001b[0mj\u001b[0m\u001b[1;33m]\u001b[0m\u001b[1;33m\u001b[0m\u001b[1;33m\u001b[0m\u001b[0m\n\u001b[1;32m---> 17\u001b[1;33m \u001b[0mCount\u001b[0m \u001b[1;33m=\u001b[0m \u001b[0mCounter\u001b[0m\u001b[1;33m(\u001b[0m\u001b[0mtags\u001b[0m\u001b[1;33m)\u001b[0m\u001b[1;33m\u001b[0m\u001b[1;33m\u001b[0m\u001b[0m\n\u001b[0m\u001b[0;32m     18\u001b[0m \u001b[0mx\u001b[0m \u001b[1;33m,\u001b[0m \u001b[0my\u001b[0m \u001b[1;33m=\u001b[0m \u001b[0mlist\u001b[0m\u001b[1;33m(\u001b[0m\u001b[0mmap\u001b[0m\u001b[1;33m(\u001b[0m\u001b[0mlist\u001b[0m\u001b[1;33m,\u001b[0m\u001b[0mzip\u001b[0m\u001b[1;33m(\u001b[0m\u001b[1;33m*\u001b[0m\u001b[0mCount\u001b[0m\u001b[1;33m.\u001b[0m\u001b[0mmost_common\u001b[0m\u001b[1;33m(\u001b[0m\u001b[1;36m10\u001b[0m\u001b[1;33m)\u001b[0m\u001b[1;33m)\u001b[0m\u001b[1;33m)\u001b[0m\u001b[1;33m)\u001b[0m\u001b[1;33m\u001b[0m\u001b[1;33m\u001b[0m\u001b[0m\n\u001b[0;32m     19\u001b[0m \u001b[0msns\u001b[0m\u001b[1;33m.\u001b[0m\u001b[0mbarplot\u001b[0m\u001b[1;33m(\u001b[0m\u001b[0mx\u001b[0m \u001b[1;33m=\u001b[0m \u001b[0my\u001b[0m \u001b[1;33m,\u001b[0m \u001b[0my\u001b[0m \u001b[1;33m=\u001b[0m \u001b[0mx\u001b[0m\u001b[1;33m)\u001b[0m\u001b[1;33m\u001b[0m\u001b[1;33m\u001b[0m\u001b[0m\n",
      "\u001b[1;31mNameError\u001b[0m: name 'Counter' is not defined"
     ]
    }
   ],
   "source": [
    "## Practice\n",
    "x = df['headline_text'][0]\n",
    "x = nlp(x)\n",
    "l1 = []\n",
    "l2 = []\n",
    "l1 = [(token.text,token.pos_) for token in x if token.pos_ == 'VERB']\n",
    "l2 = list(map(list,zip(*l1)))[0]\n",
    "print(l2)\n",
    "def pos_identification(text):\n",
    "    x = nlp(text)\n",
    "    l1 = [(token.text,token.pos_) for token in x]\n",
    "    l2 = list(map(list,zip(*l1)))[1]\n",
    "    return l2\n",
    "\n",
    "tags = df['headline_text'].apply(lambda x : pos_identification(x))\n",
    "tags = [i for j in tags for i in j]\n",
    "Count = Counter(tags)\n",
    "x , y = list(map(list,zip(*Count.most_common(10))))\n",
    "sns.barplot(x = y , y = x)"
   ]
  },
  {
   "cell_type": "code",
   "execution_count": 25,
   "metadata": {},
   "outputs": [
    {
     "name": "stdout",
     "output_type": "stream",
     "text": [
      "adposition\n",
      "particle\n",
      "determiner\n",
      "auxiliary\n"
     ]
    }
   ],
   "source": [
    "print(spacy.explain('ADP'))\n",
    "print(spacy.explain('PART'))\n",
    "print(spacy.explain('DET'))\n",
    "print(spacy.explain('AUX'))\n"
   ]
  },
  {
   "cell_type": "code",
   "execution_count": 40,
   "metadata": {},
   "outputs": [
    {
     "data": {
      "text/plain": [
       "0       [aba, community, broadcasting, licence, act, fire, witnesses, defamation, g, infrastructure, protection, summit, air, staff, strike, pay, rise, air, strike, travellers, olsson, jump, record, breaking, barca, stosur, match, security, council, iraq, australia, war, timetable, aid, iraq, barca, take, record, robson, birthday, bathhouse, plans, hopes, launceston, cycling, championship, plan, paroo, water, supplies, blizzard, buries, states, bills, brigadier, reports, troops, combat, troops, kuwait, bryant, lakers, overtime, win, bushfire, victims, centrelink, businesses, attacks, calleri, defeat, massu, ethanol, blend, fuel, carews, freak, goal, roma, ruins, cemeteries, funds, code, conduct, toughens, organ, donation, regulations, commonwealth, bank, cuts, home, loan, rates, community, youth, council, chief, executive, position, ...]\n",
       "1       [aba, community, broadcasting, licence, act, fire, witnesses, defamation, g, infrastructure, protection, summit, air, staff, strike, pay, rise, air, strike, travellers, olsson, jump, record, breaking, barca, stosur, match, security, council, iraq, australia, war, timetable, aid, iraq, barca, take, record, robson, birthday, bathhouse, plans, hopes, launceston, cycling, championship, plan, paroo, water, supplies, blizzard, buries, states, bills, brigadier, reports, troops, combat, troops, kuwait, bryant, lakers, overtime, win, bushfire, victims, centrelink, businesses, attacks, calleri, defeat, massu, ethanol, blend, fuel, carews, freak, goal, roma, ruins, cemeteries, funds, code, conduct, toughens, organ, donation, regulations, commonwealth, bank, cuts, home, loan, rates, community, youth, council, chief, executive, position, ...]\n",
       "2       [aba, community, broadcasting, licence, act, fire, witnesses, defamation, g, infrastructure, protection, summit, air, staff, strike, pay, rise, air, strike, travellers, olsson, jump, record, breaking, barca, stosur, match, security, council, iraq, australia, war, timetable, aid, iraq, barca, take, record, robson, birthday, bathhouse, plans, hopes, launceston, cycling, championship, plan, paroo, water, supplies, blizzard, buries, states, bills, brigadier, reports, troops, combat, troops, kuwait, bryant, lakers, overtime, win, bushfire, victims, centrelink, businesses, attacks, calleri, defeat, massu, ethanol, blend, fuel, carews, freak, goal, roma, ruins, cemeteries, funds, code, conduct, toughens, organ, donation, regulations, commonwealth, bank, cuts, home, loan, rates, community, youth, council, chief, executive, position, ...]\n",
       "3       [aba, community, broadcasting, licence, act, fire, witnesses, defamation, g, infrastructure, protection, summit, air, staff, strike, pay, rise, air, strike, travellers, olsson, jump, record, breaking, barca, stosur, match, security, council, iraq, australia, war, timetable, aid, iraq, barca, take, record, robson, birthday, bathhouse, plans, hopes, launceston, cycling, championship, plan, paroo, water, supplies, blizzard, buries, states, bills, brigadier, reports, troops, combat, troops, kuwait, bryant, lakers, overtime, win, bushfire, victims, centrelink, businesses, attacks, calleri, defeat, massu, ethanol, blend, fuel, carews, freak, goal, roma, ruins, cemeteries, funds, code, conduct, toughens, organ, donation, regulations, commonwealth, bank, cuts, home, loan, rates, community, youth, council, chief, executive, position, ...]\n",
       "4       [aba, community, broadcasting, licence, act, fire, witnesses, defamation, g, infrastructure, protection, summit, air, staff, strike, pay, rise, air, strike, travellers, olsson, jump, record, breaking, barca, stosur, match, security, council, iraq, australia, war, timetable, aid, iraq, barca, take, record, robson, birthday, bathhouse, plans, hopes, launceston, cycling, championship, plan, paroo, water, supplies, blizzard, buries, states, bills, brigadier, reports, troops, combat, troops, kuwait, bryant, lakers, overtime, win, bushfire, victims, centrelink, businesses, attacks, calleri, defeat, massu, ethanol, blend, fuel, carews, freak, goal, roma, ruins, cemeteries, funds, code, conduct, toughens, organ, donation, regulations, commonwealth, bank, cuts, home, loan, rates, community, youth, council, chief, executive, position, ...]\n",
       "                                                                                                                                                                                                                                                                                                                                                                                                                                          ...                                                                                                                                                                                                                                                                                                                                                                                                                                    \n",
       "9995    [aba, community, broadcasting, licence, act, fire, witnesses, defamation, g, infrastructure, protection, summit, air, staff, strike, pay, rise, air, strike, travellers, olsson, jump, record, breaking, barca, stosur, match, security, council, iraq, australia, war, timetable, aid, iraq, barca, take, record, robson, birthday, bathhouse, plans, hopes, launceston, cycling, championship, plan, paroo, water, supplies, blizzard, buries, states, bills, brigadier, reports, troops, combat, troops, kuwait, bryant, lakers, overtime, win, bushfire, victims, centrelink, businesses, attacks, calleri, defeat, massu, ethanol, blend, fuel, carews, freak, goal, roma, ruins, cemeteries, funds, code, conduct, toughens, organ, donation, regulations, commonwealth, bank, cuts, home, loan, rates, community, youth, council, chief, executive, position, ...]\n",
       "9996    [aba, community, broadcasting, licence, act, fire, witnesses, defamation, g, infrastructure, protection, summit, air, staff, strike, pay, rise, air, strike, travellers, olsson, jump, record, breaking, barca, stosur, match, security, council, iraq, australia, war, timetable, aid, iraq, barca, take, record, robson, birthday, bathhouse, plans, hopes, launceston, cycling, championship, plan, paroo, water, supplies, blizzard, buries, states, bills, brigadier, reports, troops, combat, troops, kuwait, bryant, lakers, overtime, win, bushfire, victims, centrelink, businesses, attacks, calleri, defeat, massu, ethanol, blend, fuel, carews, freak, goal, roma, ruins, cemeteries, funds, code, conduct, toughens, organ, donation, regulations, commonwealth, bank, cuts, home, loan, rates, community, youth, council, chief, executive, position, ...]\n",
       "9997    [aba, community, broadcasting, licence, act, fire, witnesses, defamation, g, infrastructure, protection, summit, air, staff, strike, pay, rise, air, strike, travellers, olsson, jump, record, breaking, barca, stosur, match, security, council, iraq, australia, war, timetable, aid, iraq, barca, take, record, robson, birthday, bathhouse, plans, hopes, launceston, cycling, championship, plan, paroo, water, supplies, blizzard, buries, states, bills, brigadier, reports, troops, combat, troops, kuwait, bryant, lakers, overtime, win, bushfire, victims, centrelink, businesses, attacks, calleri, defeat, massu, ethanol, blend, fuel, carews, freak, goal, roma, ruins, cemeteries, funds, code, conduct, toughens, organ, donation, regulations, commonwealth, bank, cuts, home, loan, rates, community, youth, council, chief, executive, position, ...]\n",
       "9998    [aba, community, broadcasting, licence, act, fire, witnesses, defamation, g, infrastructure, protection, summit, air, staff, strike, pay, rise, air, strike, travellers, olsson, jump, record, breaking, barca, stosur, match, security, council, iraq, australia, war, timetable, aid, iraq, barca, take, record, robson, birthday, bathhouse, plans, hopes, launceston, cycling, championship, plan, paroo, water, supplies, blizzard, buries, states, bills, brigadier, reports, troops, combat, troops, kuwait, bryant, lakers, overtime, win, bushfire, victims, centrelink, businesses, attacks, calleri, defeat, massu, ethanol, blend, fuel, carews, freak, goal, roma, ruins, cemeteries, funds, code, conduct, toughens, organ, donation, regulations, commonwealth, bank, cuts, home, loan, rates, community, youth, council, chief, executive, position, ...]\n",
       "9999    [aba, community, broadcasting, licence, act, fire, witnesses, defamation, g, infrastructure, protection, summit, air, staff, strike, pay, rise, air, strike, travellers, olsson, jump, record, breaking, barca, stosur, match, security, council, iraq, australia, war, timetable, aid, iraq, barca, take, record, robson, birthday, bathhouse, plans, hopes, launceston, cycling, championship, plan, paroo, water, supplies, blizzard, buries, states, bills, brigadier, reports, troops, combat, troops, kuwait, bryant, lakers, overtime, win, bushfire, victims, centrelink, businesses, attacks, calleri, defeat, massu, ethanol, blend, fuel, carews, freak, goal, roma, ruins, cemeteries, funds, code, conduct, toughens, organ, donation, regulations, commonwealth, bank, cuts, home, loan, rates, community, youth, council, chief, executive, position, ...]\n",
       "Name: headline_text, Length: 10000, dtype: object"
      ]
     },
     "execution_count": 40,
     "metadata": {},
     "output_type": "execute_result"
    }
   ],
   "source": [
    "l1 = []\n",
    "l2 = []\n",
    "def pos_identification(text):\n",
    "    x = nlp(text)\n",
    "    for token in x:\n",
    "        if token.pos_ == 'NOUN':\n",
    "            var = token.text\n",
    "            l1.append(var)\n",
    "            \n",
    "    return l1\n",
    "tokens = df['headline_text'].apply(lambda x : pos_identification(x))\n",
    "tokens"
   ]
  },
  {
   "cell_type": "markdown",
   "metadata": {},
   "source": [
    "## Topic Modeling"
   ]
  },
  {
   "cell_type": "code",
   "execution_count": 6,
   "metadata": {},
   "outputs": [
    {
     "name": "stdout",
     "output_type": "stream",
     "text": [
      "10000\n"
     ]
    },
    {
     "data": {
      "text/html": [
       "<div>\n",
       "<style scoped>\n",
       "    .dataframe tbody tr th:only-of-type {\n",
       "        vertical-align: middle;\n",
       "    }\n",
       "\n",
       "    .dataframe tbody tr th {\n",
       "        vertical-align: top;\n",
       "    }\n",
       "\n",
       "    .dataframe thead th {\n",
       "        text-align: right;\n",
       "    }\n",
       "</style>\n",
       "<table border=\"1\" class=\"dataframe\">\n",
       "  <thead>\n",
       "    <tr style=\"text-align: right;\">\n",
       "      <th></th>\n",
       "      <th>headline_text</th>\n",
       "      <th>index</th>\n",
       "    </tr>\n",
       "  </thead>\n",
       "  <tbody>\n",
       "    <tr>\n",
       "      <th>0</th>\n",
       "      <td>aba decides against community broadcasting licence</td>\n",
       "      <td>0</td>\n",
       "    </tr>\n",
       "    <tr>\n",
       "      <th>1</th>\n",
       "      <td>act fire witnesses must be aware of defamation</td>\n",
       "      <td>1</td>\n",
       "    </tr>\n",
       "    <tr>\n",
       "      <th>2</th>\n",
       "      <td>a g calls for infrastructure protection summit</td>\n",
       "      <td>2</td>\n",
       "    </tr>\n",
       "    <tr>\n",
       "      <th>3</th>\n",
       "      <td>air nz staff in aust strike for pay rise</td>\n",
       "      <td>3</td>\n",
       "    </tr>\n",
       "    <tr>\n",
       "      <th>4</th>\n",
       "      <td>air nz strike to affect australian travellers</td>\n",
       "      <td>4</td>\n",
       "    </tr>\n",
       "  </tbody>\n",
       "</table>\n",
       "</div>"
      ],
      "text/plain": [
       "                                        headline_text  index\n",
       "0  aba decides against community broadcasting licence      0\n",
       "1      act fire witnesses must be aware of defamation      1\n",
       "2      a g calls for infrastructure protection summit      2\n",
       "3            air nz staff in aust strike for pay rise      3\n",
       "4       air nz strike to affect australian travellers      4"
      ]
     },
     "execution_count": 6,
     "metadata": {},
     "output_type": "execute_result"
    }
   ],
   "source": [
    "data_text = df[['headline_text']]\n",
    "data_text['index'] = data_text.index\n",
    "documents = data_text\n",
    "print(len(documents))\n",
    "documents[:5]"
   ]
  },
  {
   "cell_type": "code",
   "execution_count": 9,
   "metadata": {},
   "outputs": [
    {
     "data": {
      "text/plain": [
       "[['aba', 'decide', 'community', 'broadcast', 'licence'],\n",
       " ['act', 'fire', 'witness', 'must', 'aware', 'defamation'],\n",
       " ['call', 'infrastructure', 'protection', 'summit'],\n",
       " ['air', 'staff', 'aust', 'strike', 'pay', 'rise'],\n",
       " ['air', 'strike', 'affect', 'australian', 'travellers'],\n",
       " ['ambitious', 'olsson', 'win', 'triple', 'jump'],\n",
       " ['antic', 'delight', 'record', 'break', 'barca'],\n",
       " ['aussie', 'qualifier', 'stosur', 'waste', 'four', 'memphis', 'match'],\n",
       " ['aust', 'address', 'security', 'council', 'iraq'],\n",
       " ['australia', 'lock', 'war', 'timetable', 'opp']]"
      ]
     },
     "execution_count": 9,
     "metadata": {},
     "output_type": "execute_result"
    }
   ],
   "source": [
    "from nltk.stem import WordNetLemmatizer\n",
    "def preprocess_news(news):\n",
    "    corpus=[]\n",
    "\n",
    "    lem=WordNetLemmatizer()\n",
    "    for news in news['headline_text']:\n",
    "        words=[w for w in nltk.word_tokenize(news) if (w not in stpwrds)]\n",
    "        \n",
    "        words=[lem.lemmatize(w , pos='v') for w in words if len(w)>2]\n",
    "        \n",
    "        corpus.append(words)\n",
    "    return corpus\n",
    "\n",
    "corpus=preprocess_news(documents)\n",
    "corpus[:10]"
   ]
  },
  {
   "cell_type": "code",
   "execution_count": 11,
   "metadata": {},
   "outputs": [
    {
     "data": {
      "text/html": [
       "<div>\n",
       "<style scoped>\n",
       "    .dataframe tbody tr th:only-of-type {\n",
       "        vertical-align: middle;\n",
       "    }\n",
       "\n",
       "    .dataframe tbody tr th {\n",
       "        vertical-align: top;\n",
       "    }\n",
       "\n",
       "    .dataframe thead th {\n",
       "        text-align: right;\n",
       "    }\n",
       "</style>\n",
       "<table border=\"1\" class=\"dataframe\">\n",
       "  <thead>\n",
       "    <tr style=\"text-align: right;\">\n",
       "      <th></th>\n",
       "      <th>headline_text</th>\n",
       "      <th>index</th>\n",
       "    </tr>\n",
       "  </thead>\n",
       "  <tbody>\n",
       "    <tr>\n",
       "      <th>0</th>\n",
       "      <td>aba decides against community broadcasting licence</td>\n",
       "      <td>0</td>\n",
       "    </tr>\n",
       "    <tr>\n",
       "      <th>1</th>\n",
       "      <td>act fire witnesses must be aware of defamation</td>\n",
       "      <td>1</td>\n",
       "    </tr>\n",
       "    <tr>\n",
       "      <th>2</th>\n",
       "      <td>a g calls for infrastructure protection summit</td>\n",
       "      <td>2</td>\n",
       "    </tr>\n",
       "    <tr>\n",
       "      <th>3</th>\n",
       "      <td>air nz staff in aust strike for pay rise</td>\n",
       "      <td>3</td>\n",
       "    </tr>\n",
       "    <tr>\n",
       "      <th>4</th>\n",
       "      <td>air nz strike to affect australian travellers</td>\n",
       "      <td>4</td>\n",
       "    </tr>\n",
       "    <tr>\n",
       "      <th>5</th>\n",
       "      <td>ambitious olsson wins triple jump</td>\n",
       "      <td>5</td>\n",
       "    </tr>\n",
       "    <tr>\n",
       "      <th>6</th>\n",
       "      <td>antic delighted with record breaking barca</td>\n",
       "      <td>6</td>\n",
       "    </tr>\n",
       "    <tr>\n",
       "      <th>7</th>\n",
       "      <td>aussie qualifier stosur wastes four memphis match</td>\n",
       "      <td>7</td>\n",
       "    </tr>\n",
       "    <tr>\n",
       "      <th>8</th>\n",
       "      <td>aust addresses un security council over iraq</td>\n",
       "      <td>8</td>\n",
       "    </tr>\n",
       "    <tr>\n",
       "      <th>9</th>\n",
       "      <td>australia is locked into war timetable opp</td>\n",
       "      <td>9</td>\n",
       "    </tr>\n",
       "  </tbody>\n",
       "</table>\n",
       "</div>"
      ],
      "text/plain": [
       "                                        headline_text  index\n",
       "0  aba decides against community broadcasting licence      0\n",
       "1      act fire witnesses must be aware of defamation      1\n",
       "2      a g calls for infrastructure protection summit      2\n",
       "3            air nz staff in aust strike for pay rise      3\n",
       "4       air nz strike to affect australian travellers      4\n",
       "5                   ambitious olsson wins triple jump      5\n",
       "6          antic delighted with record breaking barca      6\n",
       "7   aussie qualifier stosur wastes four memphis match      7\n",
       "8        aust addresses un security council over iraq      8\n",
       "9          australia is locked into war timetable opp      9"
      ]
     },
     "execution_count": 11,
     "metadata": {},
     "output_type": "execute_result"
    }
   ],
   "source": [
    "documents.head(10)"
   ]
  },
  {
   "cell_type": "code",
   "execution_count": 1,
   "metadata": {},
   "outputs": [
    {
     "name": "stdout",
     "output_type": "stream",
     "text": [
      "0 computer\n",
      "1 human\n",
      "2 interface\n",
      "3 non_existent_word\n",
      "4 cat\n",
      "5 meow\n",
      "6 say\n",
      "7 dog\n",
      "8\n"
     ]
    },
    {
     "data": {
      "text/plain": [
       "[(0, 2), (4, 1), (7, 2)]"
      ]
     },
     "execution_count": 1,
     "metadata": {},
     "output_type": "execute_result"
    }
   ],
   "source": [
    "from gensim.corpora import Dictionary\n",
    "\n",
    "texts = [['human', 'interface', 'computer','non_existent_word'],[\"cat\", \"say\", \"meow\",\"computer\"], [\"dog\"]]\n",
    "dct = Dictionary(texts)  # initialize a Dictionary\n",
    "#dct.add_documents([])  # add more document (extend the vocabulary)\n",
    "for i , j in dct.items():\n",
    "    print(i , j)\n",
    "print(len(dct))\n",
    "dct.doc2bow([\"dog\", \"computer\", \"cat\",\"computer\",\"dog\"]) # (token_id , token_count)"
   ]
  },
  {
   "cell_type": "code",
   "execution_count": 37,
   "metadata": {},
   "outputs": [
    {
     "name": "stdout",
     "output_type": "stream",
     "text": [
      "0 computer\n",
      "1 human\n",
      "2 interface\n",
      "3 non_existent_word\n",
      "4 cat\n",
      "5 meow\n",
      "6 say\n",
      "7 dog\n"
     ]
    }
   ],
   "source": [
    "for i , j in dct.items():\n",
    "    print(i , j)\n",
    "    "
   ]
  },
  {
   "cell_type": "code",
   "execution_count": 44,
   "metadata": {},
   "outputs": [
    {
     "data": {
      "application/javascript": [
       "\n",
       "        if (window._pyforest_update_imports_cell) { window._pyforest_update_imports_cell('import gensim'); }\n",
       "    "
      ],
      "text/plain": [
       "<IPython.core.display.Javascript object>"
      ]
     },
     "metadata": {},
     "output_type": "display_data"
    },
    {
     "data": {
      "text/plain": [
       "<gensim.corpora.dictionary.Dictionary at 0x26d5feb3e20>"
      ]
     },
     "execution_count": 44,
     "metadata": {},
     "output_type": "execute_result"
    }
   ],
   "source": [
    "## Create a dictionary from ‘corpus’ containing the number of times a word appears in the training set.\n",
    "dictionary = gensim.corpora.Dictionary(corpus)\n",
    "dictionary"
   ]
  },
  {
   "cell_type": "code",
   "execution_count": 45,
   "metadata": {},
   "outputs": [
    {
     "name": "stdout",
     "output_type": "stream",
     "text": [
      "0 community\n",
      "1 decide\n",
      "2 act\n",
      "3 fire\n",
      "4 must\n",
      "5 witness\n",
      "6 call\n",
      "7 summit\n",
      "8 air\n",
      "9 aust\n",
      "10 pay\n"
     ]
    }
   ],
   "source": [
    "dictionary.filter_extremes(no_below=15, no_above=0.5, keep_n=100000)#API https://radimrehurek.com/gensim/corpora/dictionary.html\n",
    "count = 0\n",
    "for i , j in dictionary.items():\n",
    "    print(i , j)\n",
    "    count+=1\n",
    "    if count > 10:\n",
    "        break"
   ]
  },
  {
   "cell_type": "code",
   "execution_count": 46,
   "metadata": {},
   "outputs": [
    {
     "data": {
      "text/plain": [
       "[(2, 1), (3, 1), (4, 1), (5, 1)]"
      ]
     },
     "execution_count": 46,
     "metadata": {},
     "output_type": "execute_result"
    }
   ],
   "source": [
    "bow_corpus = [dictionary.doc2bow(doc) for doc in corpus]\n",
    "bow_corpus[1]"
   ]
  },
  {
   "cell_type": "code",
   "execution_count": 52,
   "metadata": {},
   "outputs": [
    {
     "name": "stdout",
     "output_type": "stream",
     "text": [
      "Word 2 (\"act\") appears 1 time.\n",
      "Word 3 (\"fire\") appears 1 time.\n",
      "Word 4 (\"must\") appears 1 time.\n",
      "Word 5 (\"witness\") appears 1 time.\n"
     ]
    }
   ],
   "source": [
    "bow_doc_1 = bow_corpus[1]\n",
    "for i in range(len(bow_doc_1)):\n",
    "    print(\"Word {} (\\\"{}\\\") appears {} time.\".format(bow_doc_1[i][0], \n",
    "                                               dictionary[bow_doc_1[i][0]], \n",
    "bow_doc_1[i][1]))"
   ]
  },
  {
   "cell_type": "code",
   "execution_count": 54,
   "metadata": {
    "scrolled": true
   },
   "outputs": [
    {
     "data": {
      "application/javascript": [
       "\n",
       "        if (window._pyforest_update_imports_cell) { window._pyforest_update_imports_cell('import gensim'); }\n",
       "    "
      ],
      "text/plain": [
       "<IPython.core.display.Javascript object>"
      ]
     },
     "metadata": {},
     "output_type": "display_data"
    },
    {
     "data": {
      "text/plain": [
       "[(0,\n",
       "  '0.018*\"new\" + 0.013*\"call\" + 0.012*\"find\" + 0.011*\"sars\" + 0.011*\"world\" + 0.010*\"cup\" + 0.009*\"hospital\" + 0.008*\"get\" + 0.008*\"continue\" + 0.007*\"fire\"'),\n",
       " (1,\n",
       "  '0.016*\"govt\" + 0.014*\"council\" + 0.013*\"win\" + 0.013*\"say\" + 0.013*\"iraqi\" + 0.012*\"war\" + 0.008*\"fire\" + 0.008*\"not\" + 0.007*\"may\" + 0.007*\"fund\"'),\n",
       " (2,\n",
       "  '0.036*\"iraq\" + 0.026*\"war\" + 0.023*\"police\" + 0.018*\"baghdad\" + 0.017*\"plan\" + 0.015*\"man\" + 0.011*\"force\" + 0.011*\"charge\" + 0.010*\"report\" + 0.009*\"back\"')]"
      ]
     },
     "execution_count": 54,
     "metadata": {},
     "output_type": "execute_result"
    }
   ],
   "source": [
    "lda_model = gensim.models.LdaMulticore(bow_corpus, num_topics=3, id2word=dictionary, passes=2, workers=2)\n",
    "lda_model.show_topics()"
   ]
  },
  {
   "cell_type": "code",
   "execution_count": 55,
   "metadata": {},
   "outputs": [
    {
     "data": {
      "text/plain": [
       "<gensim.interfaces.TransformedCorpus at 0x26d5fd936a0>"
      ]
     },
     "execution_count": 55,
     "metadata": {},
     "output_type": "execute_result"
    }
   ],
   "source": [
    "doc_lda = lda_model[bow_corpus]\n",
    "doc_lda"
   ]
  },
  {
   "cell_type": "code",
   "execution_count": 57,
   "metadata": {},
   "outputs": [
    {
     "data": {
      "text/plain": [
       "<gensim.interfaces.TransformedCorpus at 0x26d5fd936a0>"
      ]
     },
     "execution_count": 57,
     "metadata": {},
     "output_type": "execute_result"
    }
   ],
   "source": [
    "doc_lda"
   ]
  },
  {
   "cell_type": "code",
   "execution_count": 62,
   "metadata": {},
   "outputs": [
    {
     "name": "stdout",
     "output_type": "stream",
     "text": [
      "[\"('new', 0.017801356)\", \"('call', 0.01342665)\", \"('find', 0.011549887)\", \"('sars', 0.011150546)\", \"('world', 0.010766102)\", \"('cup', 0.0100609055)\", \"('hospital', 0.008874823)\", \"('get', 0.007991244)\", \"('continue', 0.007862956)\", \"('fire', 0.0074831727)\", \"('claim', 0.0072920145)\", \"('australia', 0.007281329)\", \"('concern', 0.007185106)\", \"('face', 0.007085284)\", \"('water', 0.007042937)\", \"('coast', 0.006402312)\", \"('service', 0.00624877)\", \"('air', 0.006200967)\", \"('attack', 0.0061616283)\", \"('set', 0.0058306106)\"]\n",
      "\n",
      "[\"('govt', 0.016061438)\", \"('council', 0.013916104)\", \"('win', 0.013494268)\", \"('say', 0.012954439)\", \"('iraqi', 0.012661533)\", \"('war', 0.011696377)\", \"('fire', 0.008495932)\", \"('not', 0.008252576)\", \"('may', 0.007427741)\", \"('fund', 0.007361037)\", \"('nsw', 0.007095671)\", \"('take', 0.0070316927)\", \"('first', 0.006826566)\", \"('meet', 0.006714401)\", \"('qld', 0.006124116)\", \"('end', 0.006067853)\", \"('saddam', 0.006031912)\", \"('hit', 0.005839684)\", \"('lead', 0.00573783)\", \"('iraq', 0.0056006387)\"]\n",
      "\n",
      "[\"('iraq', 0.035611976)\", \"('war', 0.025634892)\", \"('police', 0.022527736)\", \"('baghdad', 0.017723244)\", \"('plan', 0.017408809)\", \"('man', 0.0147872735)\", \"('force', 0.011092607)\", \"('charge', 0.010597084)\", \"('report', 0.009981296)\", \"('back', 0.008582014)\", \"('anti', 0.008572112)\", \"('say', 0.008474896)\", \"('troop', 0.007644165)\", \"('kill', 0.006810193)\", \"('north', 0.00611323)\", \"('may', 0.0057380954)\", \"('two', 0.00561034)\", \"('health', 0.005590939)\", \"('death', 0.0055625928)\", \"('bomb', 0.005509192)\"]\n",
      "\n"
     ]
    },
    {
     "name": "stderr",
     "output_type": "stream",
     "text": [
      "<ipython-input-62-1d962fef1ca5>:2: VisibleDeprecationWarning: Creating an ndarray from ragged nested sequences (which is a list-or-tuple of lists-or-tuples-or ndarrays with different lengths or shapes) is deprecated. If you meant to do this, you must specify 'dtype=object' when creating the ndarray\n",
      "  topics_matrix = np.array(topics_matrix)\n"
     ]
    }
   ],
   "source": [
    "topics_matrix = lda_model.show_topics(formatted=False, num_words=20)\n",
    "topics_matrix = np.array(topics_matrix)\n",
    "topics_matrix\n",
    "topic_words = topics_matrix[:,1]\n",
    "for i in topic_words:\n",
    "    print([str(word) for word in i])\n",
    "    print()"
   ]
  },
  {
   "cell_type": "code",
   "execution_count": 89,
   "metadata": {},
   "outputs": [],
   "source": [
    "def format_topics_sentences(ldamodel, corpus, texts):\n",
    "    # Init output\n",
    "    sent_topics_df = pd.DataFrame()\n",
    "\n",
    "    # Get main topic in each document\n",
    "    for i, row in enumerate(ldamodel[bow_corpus]):\n",
    "        row = sorted(row, key=lambda x: (x[1]), reverse=True)\n",
    "        # Get the Dominant topic, Perc Contribution and Keywords for each document\n",
    "        for j, (topic_num, prop_topic) in enumerate(row):\n",
    "            if j == 0:  # => dominant topic\n",
    "                wp = ldamodel.show_topic(topic_num)\n",
    "                topic_keywords = \", \".join([word for word, prop in wp])\n",
    "                sent_topics_df = sent_topics_df.append(pd.Series([int(topic_num), round(prop_topic,4), topic_keywords]), ignore_index=True)\n",
    "            else:\n",
    "                break\n",
    "    sent_topics_df.columns = ['Topic', 'Percentage_cont', 'Topic_Keywords']\n",
    "    sent_topics_df['Topic'] = sent_topics_df['Topic'].astype('int32')\n",
    "    # Add original text to the end of the output\n",
    "    contents = pd.Series(texts)\n",
    "    sent_topics_df = pd.concat([sent_topics_df, contents], axis=1)\n",
    "    return(sent_topics_df)\n"
   ]
  },
  {
   "cell_type": "code",
   "execution_count": 90,
   "metadata": {},
   "outputs": [
    {
     "data": {
      "text/html": [
       "<div>\n",
       "<style scoped>\n",
       "    .dataframe tbody tr th:only-of-type {\n",
       "        vertical-align: middle;\n",
       "    }\n",
       "\n",
       "    .dataframe tbody tr th {\n",
       "        vertical-align: top;\n",
       "    }\n",
       "\n",
       "    .dataframe thead th {\n",
       "        text-align: right;\n",
       "    }\n",
       "</style>\n",
       "<table border=\"1\" class=\"dataframe\">\n",
       "  <thead>\n",
       "    <tr style=\"text-align: right;\">\n",
       "      <th></th>\n",
       "      <th>Topic</th>\n",
       "      <th>Percentage_cont</th>\n",
       "      <th>Topic_Keywords</th>\n",
       "      <th>0</th>\n",
       "    </tr>\n",
       "  </thead>\n",
       "  <tbody>\n",
       "    <tr>\n",
       "      <th>0</th>\n",
       "      <td>1</td>\n",
       "      <td>0.7561</td>\n",
       "      <td>govt, council, win, say, iraqi, war, fire, not, may, fund</td>\n",
       "      <td>aba decides against community broadcasting licence</td>\n",
       "    </tr>\n",
       "    <tr>\n",
       "      <th>1</th>\n",
       "      <td>2</td>\n",
       "      <td>0.8390</td>\n",
       "      <td>iraq, war, police, baghdad, plan, man, force, charge, report, back</td>\n",
       "      <td>act fire witnesses must be aware of defamation</td>\n",
       "    </tr>\n",
       "    <tr>\n",
       "      <th>2</th>\n",
       "      <td>0</td>\n",
       "      <td>0.7717</td>\n",
       "      <td>new, call, find, sars, world, cup, hospital, get, continue, fire</td>\n",
       "      <td>a g calls for infrastructure protection summit</td>\n",
       "    </tr>\n",
       "    <tr>\n",
       "      <th>3</th>\n",
       "      <td>0</td>\n",
       "      <td>0.6573</td>\n",
       "      <td>new, call, find, sars, world, cup, hospital, get, continue, fire</td>\n",
       "      <td>air nz staff in aust strike for pay rise</td>\n",
       "    </tr>\n",
       "    <tr>\n",
       "      <th>4</th>\n",
       "      <td>0</td>\n",
       "      <td>0.8526</td>\n",
       "      <td>new, call, find, sars, world, cup, hospital, get, continue, fire</td>\n",
       "      <td>air nz strike to affect australian travellers</td>\n",
       "    </tr>\n",
       "    <tr>\n",
       "      <th>...</th>\n",
       "      <td>...</td>\n",
       "      <td>...</td>\n",
       "      <td>...</td>\n",
       "      <td>...</td>\n",
       "    </tr>\n",
       "    <tr>\n",
       "      <th>9995</th>\n",
       "      <td>2</td>\n",
       "      <td>0.9004</td>\n",
       "      <td>iraq, war, police, baghdad, plan, man, force, charge, report, back</td>\n",
       "      <td>vic govt plan aims to reduce water use</td>\n",
       "    </tr>\n",
       "    <tr>\n",
       "      <th>9996</th>\n",
       "      <td>1</td>\n",
       "      <td>0.6045</td>\n",
       "      <td>govt, council, win, say, iraqi, war, fire, not, may, fund</td>\n",
       "      <td>vic govt urged to green light marina plan</td>\n",
       "    </tr>\n",
       "    <tr>\n",
       "      <th>9997</th>\n",
       "      <td>1</td>\n",
       "      <td>0.8785</td>\n",
       "      <td>govt, council, win, say, iraqi, war, fire, not, may, fund</td>\n",
       "      <td>vic nats leave door open on coalition</td>\n",
       "    </tr>\n",
       "    <tr>\n",
       "      <th>9998</th>\n",
       "      <td>0</td>\n",
       "      <td>0.8212</td>\n",
       "      <td>new, call, find, sars, world, cup, hospital, get, continue, fire</td>\n",
       "      <td>waterfall survivors tell of train speeding before</td>\n",
       "    </tr>\n",
       "    <tr>\n",
       "      <th>9999</th>\n",
       "      <td>2</td>\n",
       "      <td>0.8592</td>\n",
       "      <td>iraq, war, police, baghdad, plan, man, force, charge, report, back</td>\n",
       "      <td>water wont be moved without studies gallop</td>\n",
       "    </tr>\n",
       "  </tbody>\n",
       "</table>\n",
       "<p>10000 rows × 4 columns</p>\n",
       "</div>"
      ],
      "text/plain": [
       "      Topic  Percentage_cont                                                      Topic_Keywords                                                   0\n",
       "0         1           0.7561           govt, council, win, say, iraqi, war, fire, not, may, fund  aba decides against community broadcasting licence\n",
       "1         2           0.8390  iraq, war, police, baghdad, plan, man, force, charge, report, back      act fire witnesses must be aware of defamation\n",
       "2         0           0.7717    new, call, find, sars, world, cup, hospital, get, continue, fire      a g calls for infrastructure protection summit\n",
       "3         0           0.6573    new, call, find, sars, world, cup, hospital, get, continue, fire            air nz staff in aust strike for pay rise\n",
       "4         0           0.8526    new, call, find, sars, world, cup, hospital, get, continue, fire       air nz strike to affect australian travellers\n",
       "...     ...              ...                                                                 ...                                                 ...\n",
       "9995      2           0.9004  iraq, war, police, baghdad, plan, man, force, charge, report, back              vic govt plan aims to reduce water use\n",
       "9996      1           0.6045           govt, council, win, say, iraqi, war, fire, not, may, fund           vic govt urged to green light marina plan\n",
       "9997      1           0.8785           govt, council, win, say, iraqi, war, fire, not, may, fund               vic nats leave door open on coalition\n",
       "9998      0           0.8212    new, call, find, sars, world, cup, hospital, get, continue, fire   waterfall survivors tell of train speeding before\n",
       "9999      2           0.8592  iraq, war, police, baghdad, plan, man, force, charge, report, back          water wont be moved without studies gallop\n",
       "\n",
       "[10000 rows x 4 columns]"
      ]
     },
     "execution_count": 90,
     "metadata": {},
     "output_type": "execute_result"
    }
   ],
   "source": [
    "df_final = format_topics_sentences(ldamodel=lda_model, corpus=bow_corpus, texts=df['headline_text'].values)\n",
    "df_final"
   ]
  },
  {
   "cell_type": "code",
   "execution_count": 70,
   "metadata": {},
   "outputs": [
    {
     "name": "stdout",
     "output_type": "stream",
     "text": [
      "0 1 2\n",
      "1 3 4\n"
     ]
    }
   ],
   "source": [
    "l1 = [(1,2),(3,4)]\n",
    "for i ,(j,k) in enumerate(l1):\n",
    "    print(i,j,k)"
   ]
  },
  {
   "cell_type": "code",
   "execution_count": 78,
   "metadata": {},
   "outputs": [
    {
     "data": {
      "text/plain": [
       "'new, call, find, sars, world, cup, hospital, get, continue, fire'"
      ]
     },
     "execution_count": 78,
     "metadata": {},
     "output_type": "execute_result"
    }
   ],
   "source": [
    "wp = lda_model.show_topic(0)\n",
    "key_word = [word for word , prop in wp]\n",
    "key_word = ', '.join(key_word)\n",
    "key_word"
   ]
  },
  {
   "cell_type": "code",
   "execution_count": 81,
   "metadata": {},
   "outputs": [
    {
     "data": {
      "text/plain": [
       "2        1\n",
       "33      12\n",
       "200    100\n",
       "dtype: int64"
      ]
     },
     "execution_count": 81,
     "metadata": {},
     "output_type": "execute_result"
    }
   ],
   "source": [
    "pd.Series([1,12,100],[2,33,200])"
   ]
  },
  {
   "cell_type": "markdown",
   "metadata": {},
   "source": [
    "## NER"
   ]
  },
  {
   "cell_type": "code",
   "execution_count": 8,
   "metadata": {},
   "outputs": [],
   "source": [
    "import warnings\n",
    "warnings.filterwarnings('ignore')\n",
    "from spacy import displacy\n",
    "nlp = spacy.load('en_core_web_sm')"
   ]
  },
  {
   "cell_type": "code",
   "execution_count": 9,
   "metadata": {},
   "outputs": [
    {
     "data": {
      "text/plain": [
       "0       []\n",
       "1       []\n",
       "2       []\n",
       "3       []\n",
       "4       []\n",
       "        ..\n",
       "9995    []\n",
       "9996    []\n",
       "9997    []\n",
       "9998    []\n",
       "9999    []\n",
       "Name: headline_text, Length: 10000, dtype: object"
      ]
     },
     "execution_count": 9,
     "metadata": {},
     "output_type": "execute_result"
    }
   ],
   "source": [
    "def NER(text):\n",
    "    doc = nlp(text)\n",
    "    ents = [X.label_ for X in doc.ents]\n",
    "    return ents\n",
    "ents = df['headline_text'].apply(lambda x : NER(x))\n",
    "ents"
   ]
  },
  {
   "cell_type": "code",
   "execution_count": 15,
   "metadata": {},
   "outputs": [
    {
     "data": {
      "text/plain": [
       "[('CARDINAL', 710),\n",
       " ('DATE', 276),\n",
       " ('ORDINAL', 166),\n",
       " ('NORP', 64),\n",
       " ('GPE', 59),\n",
       " ('TIME', 23),\n",
       " ('QUANTITY', 15),\n",
       " ('MONEY', 10),\n",
       " ('PERSON', 9),\n",
       " ('ORG', 6),\n",
       " ('PERCENT', 1),\n",
       " ('PRODUCT', 1)]"
      ]
     },
     "execution_count": 15,
     "metadata": {},
     "output_type": "execute_result"
    }
   ],
   "source": [
    "from collections import Counter\n",
    "ent=[x for sub in ents for x in sub]\n",
    "\n",
    "counter=Counter(ent)\n",
    "count=counter.most_common()\n",
    "count"
   ]
  },
  {
   "cell_type": "code",
   "execution_count": 18,
   "metadata": {},
   "outputs": [
    {
     "data": {
      "text/plain": [
       "<AxesSubplot:>"
      ]
     },
     "execution_count": 18,
     "metadata": {},
     "output_type": "execute_result"
    },
    {
     "data": {
      "image/png": "[encoded data removed]",
      "text/plain": [
       "<Figure size 432x288 with 1 Axes>"
      ]
     },
     "metadata": {
      "needs_background": "light"
     },
     "output_type": "display_data"
    }
   ],
   "source": [
    "x , y = list(map(list,zip(*count)))\n",
    "import seaborn as sns\n",
    "sns.barplot(x = y , y = x)"
   ]
  },
  {
   "cell_type": "code",
   "execution_count": 23,
   "metadata": {},
   "outputs": [
    {
     "name": "stdout",
     "output_type": "stream",
     "text": [
      "Numerals that do not fall under another type\n",
      "\"first\", \"second\", etc.\n",
      "Nationalities or religious or political groups\n"
     ]
    }
   ],
   "source": [
    "print(spacy.explain('CARDINAL'))\n",
    "print(spacy.explain('ORDINAL'))\n",
    "print(spacy.explain('NORP'))\n"
   ]
  },
  {
   "cell_type": "code",
   "execution_count": 24,
   "metadata": {},
   "outputs": [
    {
     "data": {
      "text/plain": [
       "<AxesSubplot:>"
      ]
     },
     "execution_count": 24,
     "metadata": {},
     "output_type": "execute_result"
    },
    {
     "data": {
      "image/png": "[encoded data removed]",
      "text/plain": [
       "<Figure size 432x288 with 1 Axes>"
      ]
     },
     "metadata": {
      "needs_background": "light"
     },
     "output_type": "display_data"
    }
   ],
   "source": [
    "def ner(text,ent=\"GPE\"):\n",
    "    doc=nlp(text)\n",
    "    return [X.text for X in doc.ents if X.label_ == ent]\n",
    "\n",
    "gpe=df['headline_text'].apply(lambda x: ner(x))\n",
    "gpe=[i for x in gpe for i in x]\n",
    "counter=Counter(gpe)\n",
    "\n",
    "x,y=map(list,zip(*counter.most_common(10)))\n",
    "sns.barplot(y,x)\n"
   ]
  },
  {
   "cell_type": "code",
   "execution_count": 25,
   "metadata": {},
   "outputs": [
    {
     "data": {
      "text/plain": [
       "<AxesSubplot:>"
      ]
     },
     "execution_count": 25,
     "metadata": {},
     "output_type": "execute_result"
    },
    {
     "data": {
      "image/png": "[encoded data removed]",
      "text/plain": [
       "<Figure size 432x288 with 1 Axes>"
      ]
     },
     "metadata": {
      "needs_background": "light"
     },
     "output_type": "display_data"
    }
   ],
   "source": [
    "gpe=df['headline_text'].apply(lambda x: ner(x ,'CARDINAL' ))\n",
    "gpe=[i for x in gpe for i in x]\n",
    "counter=Counter(gpe)\n",
    "\n",
    "x,y=map(list,zip(*counter.most_common(10)))\n",
    "sns.barplot(y,x)\n"
   ]
  },
  {
   "cell_type": "code",
   "execution_count": 27,
   "metadata": {},
   "outputs": [
    {
     "data": {
      "text/plain": [
       "<AxesSubplot:>"
      ]
     },
     "execution_count": 27,
     "metadata": {},
     "output_type": "execute_result"
    },
    {
     "data": {
      "image/png": "[encoded data removed]",
      "text/plain": [
       "<Figure size 432x288 with 1 Axes>"
      ]
     },
     "metadata": {
      "needs_background": "light"
     },
     "output_type": "display_data"
    }
   ],
   "source": [
    "gpe=df['headline_text'].apply(lambda x: ner(x ,'PERSON' ))\n",
    "gpe=[i for x in gpe for i in x]\n",
    "counter=Counter(gpe)\n",
    "\n",
    "x,y=map(list,zip(*counter.most_common(10)))\n",
    "sns.barplot(y,x)\n"
   ]
  },
  {
   "cell_type": "code",
   "execution_count": 6,
   "metadata": {},
   "outputs": [
    {
     "data": {
      "text/html": [
       "<div>\n",
       "<style scoped>\n",
       "    .dataframe tbody tr th:only-of-type {\n",
       "        vertical-align: middle;\n",
       "    }\n",
       "\n",
       "    .dataframe tbody tr th {\n",
       "        vertical-align: top;\n",
       "    }\n",
       "\n",
       "    .dataframe thead th {\n",
       "        text-align: right;\n",
       "    }\n",
       "</style>\n",
       "<table border=\"1\" class=\"dataframe\">\n",
       "  <thead>\n",
       "    <tr style=\"text-align: right;\">\n",
       "      <th></th>\n",
       "      <th>publish_date</th>\n",
       "      <th>headline_text</th>\n",
       "    </tr>\n",
       "  </thead>\n",
       "  <tbody>\n",
       "    <tr>\n",
       "      <th>0</th>\n",
       "      <td>20030219</td>\n",
       "      <td>aba decides against community broadcasting licence</td>\n",
       "    </tr>\n",
       "    <tr>\n",
       "      <th>1</th>\n",
       "      <td>20030219</td>\n",
       "      <td>act fire witnesses must be aware of defamation</td>\n",
       "    </tr>\n",
       "    <tr>\n",
       "      <th>2</th>\n",
       "      <td>20030219</td>\n",
       "      <td>a g calls for infrastructure protection summit</td>\n",
       "    </tr>\n",
       "    <tr>\n",
       "      <th>3</th>\n",
       "      <td>20030219</td>\n",
       "      <td>air nz staff in aust strike for pay rise</td>\n",
       "    </tr>\n",
       "    <tr>\n",
       "      <th>4</th>\n",
       "      <td>20030219</td>\n",
       "      <td>air nz strike to affect australian travellers</td>\n",
       "    </tr>\n",
       "  </tbody>\n",
       "</table>\n",
       "</div>"
      ],
      "text/plain": [
       "   publish_date                                       headline_text\n",
       "0      20030219  aba decides against community broadcasting licence\n",
       "1      20030219      act fire witnesses must be aware of defamation\n",
       "2      20030219      a g calls for infrastructure protection summit\n",
       "3      20030219            air nz staff in aust strike for pay rise\n",
       "4      20030219       air nz strike to affect australian travellers"
      ]
     },
     "execution_count": 6,
     "metadata": {},
     "output_type": "execute_result"
    }
   ],
   "source": [
    "df.head()"
   ]
  },
  {
   "cell_type": "markdown",
   "metadata": {},
   "source": [
    "# Finding characteristics terms and thier associations"
   ]
  },
  {
   "cell_type": "code",
   "execution_count": 1,
   "metadata": {},
   "outputs": [
    {
     "data": {
      "application/javascript": [
       "\n",
       "        if (window._pyforest_update_imports_cell) { window._pyforest_update_imports_cell('import pandas as pd'); }\n",
       "    "
      ],
      "text/plain": [
       "<IPython.core.display.Javascript object>"
      ]
     },
     "metadata": {},
     "output_type": "display_data"
    },
    {
     "data": {
      "text/html": [
       "<div>\n",
       "<style scoped>\n",
       "    .dataframe tbody tr th:only-of-type {\n",
       "        vertical-align: middle;\n",
       "    }\n",
       "\n",
       "    .dataframe tbody tr th {\n",
       "        vertical-align: top;\n",
       "    }\n",
       "\n",
       "    .dataframe thead th {\n",
       "        text-align: right;\n",
       "    }\n",
       "</style>\n",
       "<table border=\"1\" class=\"dataframe\">\n",
       "  <thead>\n",
       "    <tr style=\"text-align: right;\">\n",
       "      <th></th>\n",
       "      <th>Text</th>\n",
       "      <th>Class</th>\n",
       "    </tr>\n",
       "  </thead>\n",
       "  <tbody>\n",
       "    <tr>\n",
       "      <th>0</th>\n",
       "      <td>This car is awesome</td>\n",
       "      <td>luxury</td>\n",
       "    </tr>\n",
       "    <tr>\n",
       "      <th>1</th>\n",
       "      <td>the BMW car have high speed</td>\n",
       "      <td>luxury</td>\n",
       "    </tr>\n",
       "    <tr>\n",
       "      <th>2</th>\n",
       "      <td>porche have introduced a new high speed car</td>\n",
       "      <td>luxury</td>\n",
       "    </tr>\n",
       "    <tr>\n",
       "      <th>3</th>\n",
       "      <td>We are going to a car show</td>\n",
       "      <td>luxury</td>\n",
       "    </tr>\n",
       "    <tr>\n",
       "      <th>4</th>\n",
       "      <td>I love BMW car</td>\n",
       "      <td>luxury</td>\n",
       "    </tr>\n",
       "    <tr>\n",
       "      <th>5</th>\n",
       "      <td>Mercedes have introdiced a high speed bike</td>\n",
       "      <td>luxury</td>\n",
       "    </tr>\n",
       "    <tr>\n",
       "      <th>6</th>\n",
       "      <td>sedan cars are beautiful and echonomical</td>\n",
       "      <td>Medium</td>\n",
       "    </tr>\n",
       "    <tr>\n",
       "      <th>7</th>\n",
       "      <td>this car have echonomical price</td>\n",
       "      <td>Medium</td>\n",
       "    </tr>\n",
       "    <tr>\n",
       "      <th>8</th>\n",
       "      <td>most sedan cars are echonomical and cheap</td>\n",
       "      <td>Medium</td>\n",
       "    </tr>\n",
       "    <tr>\n",
       "      <th>9</th>\n",
       "      <td>some sedans are very cheap</td>\n",
       "      <td>Medium</td>\n",
       "    </tr>\n",
       "    <tr>\n",
       "      <th>10</th>\n",
       "      <td>i love 4-door sedans</td>\n",
       "      <td>Medium</td>\n",
       "    </tr>\n",
       "    <tr>\n",
       "      <th>11</th>\n",
       "      <td>4-door echonomical vehicles are sometimes fast</td>\n",
       "      <td>Medium</td>\n",
       "    </tr>\n",
       "  </tbody>\n",
       "</table>\n",
       "</div>"
      ],
      "text/plain": [
       "                                              Text   Class\n",
       "0                              This car is awesome  luxury\n",
       "1                      the BMW car have high speed  luxury\n",
       "2      porche have introduced a new high speed car  luxury\n",
       "3                       We are going to a car show  luxury\n",
       "4                                   I love BMW car  luxury\n",
       "5       Mercedes have introdiced a high speed bike  luxury\n",
       "6         sedan cars are beautiful and echonomical  Medium\n",
       "7                  this car have echonomical price  Medium\n",
       "8        most sedan cars are echonomical and cheap  Medium\n",
       "9                       some sedans are very cheap  Medium\n",
       "10                            i love 4-door sedans  Medium\n",
       "11  4-door echonomical vehicles are sometimes fast  Medium"
      ]
     },
     "execution_count": 1,
     "metadata": {},
     "output_type": "execute_result"
    }
   ],
   "source": [
    "dic = {'Text': [\"This car is awesome\",\n",
    "               \"the BMW car have high speed\",\n",
    "               \"porche have introduced a new high speed car\",\n",
    "               \"We are going to a car show\",\n",
    "               \"I love BMW car\",\n",
    "               \"Mercedes have introdiced a high speed bike\",\n",
    "               \"sedan cars are beautiful and echonomical\",\n",
    "               \"this car have echonomical price\",\n",
    "               \"most sedan cars are echonomical and cheap\",\n",
    "               \"some sedans are very cheap\",\n",
    "               \"i love 4-door sedans\",\n",
    "               \"4-door echonomical vehicles are sometimes fast\"],\n",
    "        'Class': [\"luxury\",\"luxury\",\"luxury\",\"luxury\",\"luxury\",\"luxury\" , \"Medium\",\"Medium\",\"Medium\",\"Medium\",\"Medium\",\"Medium\"]}\n",
    "df = pd.DataFrame(dic)\n",
    "df"
   ]
  },
  {
   "cell_type": "code",
   "execution_count": 4,
   "metadata": {},
   "outputs": [],
   "source": [
    "import spacy\n",
    "import scattertext as st\n",
    "\n",
    "corpus = st.CorpusFromPandas(df,\n",
    "                             category_col='Class',\n",
    "                             text_col='Text',\n",
    "                             nlp=nlp).build()\n"
   ]
  },
  {
   "cell_type": "code",
   "execution_count": 5,
   "metadata": {},
   "outputs": [
    {
     "data": {
      "text/plain": [
       "<scattertext.CorpusDF.CorpusDF at 0x1bf12eec100>"
      ]
     },
     "execution_count": 5,
     "metadata": {},
     "output_type": "execute_result"
    }
   ],
   "source": [
    "corpus"
   ]
  },
  {
   "cell_type": "code",
   "execution_count": 6,
   "metadata": {},
   "outputs": [
    {
     "name": "stdout",
     "output_type": "stream",
     "text": [
      "['echonomical', 'introdiced', 'porche', 'sedans', 'sedan', 'bmw', 'mercedes', 'awesome', 'bike', 'speed']\n"
     ]
    }
   ],
   "source": [
    "print(list(corpus.get_scaled_f_scores_vs_background().index[:10]))"
   ]
  },
  {
   "cell_type": "code",
   "execution_count": 14,
   "metadata": {},
   "outputs": [
    {
     "data": {
      "text/plain": [
       "Index(['a', 'high speed', 'speed', 'high', 'car', 'have', 'bmw', 'bmw car', 'to a', 'going to'], dtype='object', name='term')"
      ]
     },
     "execution_count": 14,
     "metadata": {},
     "output_type": "execute_result"
    }
   ],
   "source": [
    "term_freq_df = corpus.get_term_freq_df()\n",
    "term_freq_df['luxry Score'] = corpus.get_scaled_f_scores('luxury')\n",
    "#pprint(list(term_freq_df.sort_values(by='luxry Score', ascending=False).index[:10]))\n",
    "term_freq_df.sort_values(by='luxry Score', ascending=False).index[:10]"
   ]
  },
  {
   "cell_type": "code",
   "execution_count": 15,
   "metadata": {},
   "outputs": [
    {
     "data": {
      "text/plain": [
       "Index(['echonomical', 'are', 'sedan', 'cars', 'cheap', 'and', 'sedan cars', 'cars are', '4 door', 'sedans'], dtype='object', name='term')"
      ]
     },
     "execution_count": 15,
     "metadata": {},
     "output_type": "execute_result"
    }
   ],
   "source": [
    "term_freq_df['Med Score'] = corpus.get_scaled_f_scores('Medium')\n",
    "term_freq_df.sort_values(by='Med Score', ascending=False).index[:10]"
   ]
  },
  {
   "cell_type": "code",
   "execution_count": null,
   "metadata": {},
   "outputs": [],
   "source": []
  }
 ],
 "metadata": {
  "kernelspec": {
   "display_name": "Python 3",
   "language": "python",
   "name": "python3"
  },
  "language_info": {
   "codemirror_mode": {
    "name": "ipython",
    "version": 3
   },
   "file_extension": ".py",
   "mimetype": "text/x-python",
   "name": "python",
   "nbconvert_exporter": "python",
   "pygments_lexer": "ipython3",
   "version": "3.8.5"
  }
 },
 "nbformat": 4,
 "nbformat_minor": 4
}
